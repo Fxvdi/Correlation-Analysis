{
 "cells": [
  {
   "cell_type": "markdown",
   "metadata": {},
   "source": [
    "# <u> **Correlation analysis - Economical perfomance vs. Organized Crime** </u>"
   ]
  },
  {
   "cell_type": "markdown",
   "metadata": {},
   "source": [
    "## <u> Table of contents </u>\n",
    "1. Data Sources\n",
    "2. Data Preparation\n",
    "   1. Libraries\n",
    "   2. Reading Files\n",
    "   3. Matching Country Names Completely \n",
    "   4. Matching Country Names Partially \n",
    "   5. Replacing Country Names\n",
    "   6. Separating South and North America\n",
    "   7. Rounding GDP Value\n",
    "   8. Merging Dataframes\n",
    "3. Data Visualization\n",
    "   1. GDP\n",
    "      1. Countries with Highest and Lowest Economic Perfomance\n",
    "      2. Continental Economic Comparison\n",
    "      3. Global Economic Comaparison\n",
    "   2. Organized Crime Index\n",
    "      1. Countries with Highest and Lowest Organized Crime\n",
    "      2. Global Crime Comparison\n",
    "   3. Correlation\n",
    "      1. Relationship between Economic Performance and Crime\n",
    "      2. Correlation Values\n",
    "4. Conclusion"
   ]
  },
  {
   "cell_type": "markdown",
   "metadata": {},
   "source": [
    "## 1. Data Sources\n",
    "\n",
    "1. The Organized Crime Index (https://ocindex.net)\n",
    "   * Evaluates organized crime by countries\n",
    "   * Index in ranging 1 (lowest crime) to 10 (highest crime)\n",
    "   * Implemented by the Institute of Security Studies and INTERPOL\n",
    "\n",
    "2. GDP per Capita in US Dollar (https://unstats.un.org/unsd/snaama/Basic)\n",
    "   * Gross domestic product (GDP) used as a measure of economic perfomance per country\n",
    "   * Per Capita and in US Dollar for a better comparison between countries\n",
    "   * United Nations (UN) as the data source\n",
    "\n",
    "**The data from<span style=\"color:red\"> 2021 </span> will be analyzed below**\n"
   ]
  },
  {
   "cell_type": "markdown",
   "metadata": {},
   "source": [
    "## 2. Data Preparation\n",
    "\n",
    "* Problems:\n",
    "  * Some countries are not named consistently\n",
    "  * Treating America as one large continent"
   ]
  },
  {
   "cell_type": "markdown",
   "metadata": {},
   "source": [
    "### 2.1 Libraries"
   ]
  },
  {
   "cell_type": "code",
   "execution_count": 1,
   "metadata": {},
   "outputs": [],
   "source": [
    "# importing necessary libraries\n",
    "import pandas as pd # data analysis\n",
    "import plotly.express as px # data visualization\n",
    "import numpy as np # mathematic evaluations"
   ]
  },
  {
   "cell_type": "markdown",
   "metadata": {},
   "source": [
    "### 2.2 Reading Files"
   ]
  },
  {
   "cell_type": "code",
   "execution_count": 2,
   "metadata": {},
   "outputs": [],
   "source": [
    "# Saving files as variables\n",
    "gdp_per_capita_path = \"data/gdp_per_capita.xlsx\"\n",
    "organized_crime_path = \"data/organized_crime.xlsx\"\n",
    "country_code_path = \"data/country_codes.xlsx\"\n",
    "\n",
    "# Reading data from xlsx files\n",
    "gdp_data = pd.read_excel(gdp_per_capita_path)\n",
    "crime_data = pd.read_excel(organized_crime_path, sheet_name=\"2021_dataset\") # sheet_name for table selecting\n",
    "codes_data = pd.read_excel(country_code_path, skiprows=2) # skiping two rows"
   ]
  },
  {
   "cell_type": "markdown",
   "metadata": {},
   "source": [
    "### 2.3 Country names that do not completly match"
   ]
  },
  {
   "cell_type": "code",
   "execution_count": 3,
   "metadata": {},
   "outputs": [],
   "source": [
    "# not matching names from gdp with crime\n",
    "gdp_countries_without_match = set(gdp_data[\"Country/Area\"]).difference(set(crime_data.Country))\n",
    "# not matching names from crime with gdp\n",
    "crime_countries_without_gdp_match = set(crime_data.Country).difference(set(gdp_data[\"Country/Area\"]))\n",
    "# not matching names from codes with crime\n",
    "code_countries_without_match = set(codes_data.Definition).difference(set(crime_data.Country))\n",
    "# not matching names from crime with codes\n",
    "crime_countries_without_code_match = set(crime_data.Country).difference(set(codes_data.Definition))"
   ]
  },
  {
   "cell_type": "markdown",
   "metadata": {},
   "source": [
    "### 2.4 Country naems that do match partially"
   ]
  },
  {
   "cell_type": "code",
   "execution_count": 5,
   "metadata": {},
   "outputs": [],
   "source": [
    "# tuples with replacing and to-be-replaced country names\n",
    "replacing_gdp_countries = []\n",
    "\n",
    "# which country names from crime are in gdp? (e.g. Eswatini in Kingdowm of Eswatini)\n",
    "for crime_country in crime_countries_without_gdp_match:\n",
    "    for gdp_country in gdp_countries_without_match:\n",
    "        if crime_country in gdp_country:\n",
    "            tuple = (crime_country, gdp_country)\n",
    "            replacing_gdp_countries.append(tuple)\n",
    "\n",
    "replacing_code_countries = []\n",
    "# which country names from crime are in codes?\n",
    "for crime_country in crime_countries_without_code_match:\n",
    "    for code_country in code_countries_without_match:\n",
    "        if crime_country in code_country:\n",
    "            tupel = (crime_country, code_country)\n",
    "            replacing_code_countries.append(tupel)"
   ]
  },
  {
   "cell_type": "markdown",
   "metadata": {},
   "source": [
    "### 2.5 Replacing Names"
   ]
  },
  {
   "cell_type": "code",
   "execution_count": 6,
   "metadata": {},
   "outputs": [],
   "source": [
    "# manual created lists for matching country names from code to crime\n",
    "# tuple(replacing, to-be-replaced)\n",
    "missing_code_countries = [\n",
    "     (\"Cabo Verde\", \"Cape Verde\"),\n",
    "     (\"Congo, Rep.\", \"Congo\"),\n",
    "     (\"Congo, Dem. Rep.\", \"Congo, The Democratic Republic of \"),\n",
    "     (\"Czech Republic\", \"Czechia\"),\n",
    "     (\"Côte d'Ivoire\", \"Cote d'Ivoire\"),\n",
    "     (\"Eswatini\", \"Swaziland\"),\n",
    "     (\"Kazakhstan\", \"Kazakstan\"),\n",
    "     (\"Korea, DPR\", \"Korea, Democratic People's Republic of\"),\n",
    "     (\"Korea, Rep.\", \"Korea, Republic of\"),\n",
    "     (\"Laos\", \"Lao, People's Democratic Republic\"),\n",
    "     (\"Micronesia (Federated States of)\", \"Micronesia, Federated States of\"),\n",
    "     (\"North Macedonia\", \"Macedonia, The Former Yugoslav Republic Of\"),\n",
    "     (\"St. Kitts and Nevis\", \"Saint Kitts & Nevis\"),\n",
    "     (\"St. Lucia\", \"Saint Lucia\"),\n",
    "     (\"St. Vincent and the Grenadines\", \"Saint Vincent and the Grenadines\")\n",
    "]\n",
    "# manual created lists for matching country names from gdp to crime\n",
    "missing_gdp_countries = [\n",
    "    (\"Turkey\", \"Türkiye\"),\n",
    "    (\"Korea, DPR\", \"Democratic People's Republic of Korea\"),\n",
    "    (\"Vietnam\", \"Viet Nam\"),\n",
    "    (\"Congo, Rep.\", \"Congo\"),\n",
    "    (\"Korea, Rep.\", \"Republic of Korea\"),\n",
    "    (\"Congo, Dem. Rep.\", \"Democratic Republic of the Congo\"),\n",
    "    (\"St. Kitts and Nevis\", \"Saint Kitts and Nevis\"),\n",
    "    (\"St. Vincent and the Grenadines\", \"Saint Vincent and the Grenadines\"),\n",
    "    (\"St. Lucia\", \"Saint Lucia\"),\n",
    "    (\"Czech Republic\", \"Czechia\"),\n",
    "    (\"Laos\", \"Lao People's Democratic Republic\")\n",
    "    ]\n",
    "\n",
    "# merging partially and not completely matching countries\n",
    "replacement_code_countries = missing_code_countries + replacing_code_countries\n",
    "replacement_gdp_countries = missing_gdp_countries + replacing_gdp_countries\n",
    "\n",
    "\n",
    "# replacing country names from codes with the ones from crime\n",
    "for replacement in replacement_code_countries:\n",
    "    new, old = replacement\n",
    "    codes_data.loc[codes_data[\"Definition\"] == old, \"Definition\"] = new\n",
    "\n",
    "# replacing country names from gdp with the ones from crime\n",
    "for replacement in replacement_gdp_countries:\n",
    "    new, old = replacement\n",
    "    gdp_data.loc[gdp_data['Country/Area'] == old, 'Country/Area'] = new"
   ]
  },
  {
   "cell_type": "markdown",
   "metadata": {},
   "source": [
    "### 2.6 Sperating South and North America"
   ]
  },
  {
   "cell_type": "code",
   "execution_count": 7,
   "metadata": {},
   "outputs": [],
   "source": [
    "# determination of the indices of the countries with \"South America\" as a region\n",
    "change_continent = crime_data[crime_data.Region == 'South America'].index\n",
    "# all countries with the region \"South America\" should also have \"South America\" as coninent\n",
    "crime_data.loc[change_continent, 'Continent'] = \"South America\"\n",
    "# remaining countries with continent \"Americas\" become \"North America\"\n",
    "crime_data.loc[crime_data.Continent == \"Americas\", \"Continent\"] = \"North America\""
   ]
  },
  {
   "cell_type": "markdown",
   "metadata": {},
   "source": [
    "### 2.7 Rounding GDP Value"
   ]
  },
  {
   "cell_type": "code",
   "execution_count": 8,
   "metadata": {},
   "outputs": [],
   "source": [
    "# rounding gdp to two decimal places \n",
    "gdp_data[\"GDP, Per Capita GDP - US Dollars\"] = gdp_data[\"GDP, Per Capita GDP - US Dollars\"].round(2)"
   ]
  },
  {
   "cell_type": "markdown",
   "metadata": {},
   "source": [
    "### 2.8 Merging Dataframes"
   ]
  },
  {
   "cell_type": "code",
   "execution_count": 9,
   "metadata": {},
   "outputs": [],
   "source": [
    "# merging gdp and crime by country name with left join\n",
    "merged_data = pd.merge(crime_data, gdp_data, left_on=crime_data.Country, right_on=\"Country/Area\", how=\"left\")\n",
    "# adding country codes by country name\n",
    "merged_data = pd.merge(merged_data, codes_data, left_on=merged_data.Country, right_on=codes_data.Definition, how=\"left\")\n",
    "# drop double columns\n",
    "merged_data.drop(\"Country/Area\", axis=1, inplace=True)\n",
    "merged_data.drop(\"key_0\", axis=1, inplace=True)\n",
    "merged_data.drop(\"Definition\", axis=1, inplace=True)\n",
    "# deleting Taiwan because it's considered as China\n",
    "merged_data.drop(merged_data[merged_data['Code Value'] == 'TWN'].index, inplace=True)\n",
    "# new xlsx file with merged data\n",
    "merged_data.to_excel(\"data/merged_data.xlsx\", index=False)"
   ]
  },
  {
   "cell_type": "markdown",
   "metadata": {},
   "source": [
    "## 3. Data visualization\n",
    "\n",
    "### 3.1 <u> GDP </u>\n",
    "\n",
    "### 3.1.1 Countries with Highest and Lowest Economic Perfomance"
   ]
  },
  {
   "cell_type": "code",
   "execution_count": 10,
   "metadata": {},
   "outputs": [
    {
     "data": {
      "application/vnd.plotly.v1+json": {
       "config": {
        "plotlyServerURL": "https://plot.ly"
       },
       "data": [
        {
         "alignmentgroup": "True",
         "hovertemplate": "Countries=%{x}<br>GPD Per Capita in USD$=%{marker.color}<extra></extra>",
         "legendgroup": "",
         "marker": {
          "color": [
           234317.08,
           169260.22,
           133745.4,
           101108.99,
           93525.37,
           89241.71,
           69184.7,
           69133.13,
           68036.72,
           66915.86
          ],
          "coloraxis": "coloraxis",
          "pattern": {
           "shape": ""
          }
         },
         "name": "",
         "offsetgroup": "",
         "orientation": "v",
         "showlegend": false,
         "textposition": "auto",
         "type": "bar",
         "x": [
          "Monaco",
          "Liechtenstein",
          "Luxembourg",
          "Ireland",
          "Switzerland",
          "Norway",
          "United States",
          "Iceland",
          "Denmark",
          "Australia"
         ],
         "xaxis": "x",
         "y": [
          234317.08,
          169260.22,
          133745.4,
          101108.99,
          93525.37,
          89241.71,
          69184.7,
          69133.13,
          68036.72,
          66915.86
         ],
         "yaxis": "y"
        }
       ],
       "layout": {
        "annotations": [
         {
          "font": {
           "size": 13
          },
          "showarrow": false,
          "text": "234317",
          "x": "Monaco",
          "y": 234317.08,
          "yshift": 9
         },
         {
          "font": {
           "size": 13
          },
          "showarrow": false,
          "text": "169260",
          "x": "Liechtenstein",
          "y": 169260.22,
          "yshift": 9
         },
         {
          "font": {
           "size": 13
          },
          "showarrow": false,
          "text": "133745",
          "x": "Luxembourg",
          "y": 133745.4,
          "yshift": 9
         },
         {
          "font": {
           "size": 13
          },
          "showarrow": false,
          "text": "101109",
          "x": "Ireland",
          "y": 101108.99,
          "yshift": 9
         },
         {
          "font": {
           "size": 13
          },
          "showarrow": false,
          "text": "93525",
          "x": "Switzerland",
          "y": 93525.37,
          "yshift": 9
         },
         {
          "font": {
           "size": 13
          },
          "showarrow": false,
          "text": "89242",
          "x": "Norway",
          "y": 89241.71,
          "yshift": 9
         },
         {
          "font": {
           "size": 13
          },
          "showarrow": false,
          "text": "69185",
          "x": "United States",
          "y": 69184.7,
          "yshift": 9
         },
         {
          "font": {
           "size": 13
          },
          "showarrow": false,
          "text": "69133",
          "x": "Iceland",
          "y": 69133.13,
          "yshift": 9
         },
         {
          "font": {
           "size": 13
          },
          "showarrow": false,
          "text": "68037",
          "x": "Denmark",
          "y": 68036.72,
          "yshift": 9
         },
         {
          "font": {
           "size": 13
          },
          "showarrow": false,
          "text": "66916",
          "x": "Australia",
          "y": 66915.86,
          "yshift": 9
         }
        ],
        "barmode": "relative",
        "coloraxis": {
         "cmax": 250000,
         "cmin": 0,
         "colorbar": {
          "title": {
           "text": "GPD Per Capita in USD$"
          }
         },
         "colorscale": [
          [
           0,
           "#fde725"
          ],
          [
           0.1111111111111111,
           "#b5de2b"
          ],
          [
           0.2222222222222222,
           "#6ece58"
          ],
          [
           0.3333333333333333,
           "#35b779"
          ],
          [
           0.4444444444444444,
           "#1f9e89"
          ],
          [
           0.5555555555555556,
           "#26828e"
          ],
          [
           0.6666666666666666,
           "#31688e"
          ],
          [
           0.7777777777777778,
           "#3e4989"
          ],
          [
           0.8888888888888888,
           "#482878"
          ],
          [
           1,
           "#440154"
          ]
         ]
        },
        "height": 500,
        "legend": {
         "tracegroupgap": 0
        },
        "margin": {
         "t": 60
        },
        "template": {
         "data": {
          "bar": [
           {
            "error_x": {
             "color": "#2a3f5f"
            },
            "error_y": {
             "color": "#2a3f5f"
            },
            "marker": {
             "line": {
              "color": "white",
              "width": 0.5
             },
             "pattern": {
              "fillmode": "overlay",
              "size": 10,
              "solidity": 0.2
             }
            },
            "type": "bar"
           }
          ],
          "barpolar": [
           {
            "marker": {
             "line": {
              "color": "white",
              "width": 0.5
             },
             "pattern": {
              "fillmode": "overlay",
              "size": 10,
              "solidity": 0.2
             }
            },
            "type": "barpolar"
           }
          ],
          "carpet": [
           {
            "aaxis": {
             "endlinecolor": "#2a3f5f",
             "gridcolor": "#C8D4E3",
             "linecolor": "#C8D4E3",
             "minorgridcolor": "#C8D4E3",
             "startlinecolor": "#2a3f5f"
            },
            "baxis": {
             "endlinecolor": "#2a3f5f",
             "gridcolor": "#C8D4E3",
             "linecolor": "#C8D4E3",
             "minorgridcolor": "#C8D4E3",
             "startlinecolor": "#2a3f5f"
            },
            "type": "carpet"
           }
          ],
          "choropleth": [
           {
            "colorbar": {
             "outlinewidth": 0,
             "ticks": ""
            },
            "type": "choropleth"
           }
          ],
          "contour": [
           {
            "colorbar": {
             "outlinewidth": 0,
             "ticks": ""
            },
            "colorscale": [
             [
              0,
              "#0d0887"
             ],
             [
              0.1111111111111111,
              "#46039f"
             ],
             [
              0.2222222222222222,
              "#7201a8"
             ],
             [
              0.3333333333333333,
              "#9c179e"
             ],
             [
              0.4444444444444444,
              "#bd3786"
             ],
             [
              0.5555555555555556,
              "#d8576b"
             ],
             [
              0.6666666666666666,
              "#ed7953"
             ],
             [
              0.7777777777777778,
              "#fb9f3a"
             ],
             [
              0.8888888888888888,
              "#fdca26"
             ],
             [
              1,
              "#f0f921"
             ]
            ],
            "type": "contour"
           }
          ],
          "contourcarpet": [
           {
            "colorbar": {
             "outlinewidth": 0,
             "ticks": ""
            },
            "type": "contourcarpet"
           }
          ],
          "heatmap": [
           {
            "colorbar": {
             "outlinewidth": 0,
             "ticks": ""
            },
            "colorscale": [
             [
              0,
              "#0d0887"
             ],
             [
              0.1111111111111111,
              "#46039f"
             ],
             [
              0.2222222222222222,
              "#7201a8"
             ],
             [
              0.3333333333333333,
              "#9c179e"
             ],
             [
              0.4444444444444444,
              "#bd3786"
             ],
             [
              0.5555555555555556,
              "#d8576b"
             ],
             [
              0.6666666666666666,
              "#ed7953"
             ],
             [
              0.7777777777777778,
              "#fb9f3a"
             ],
             [
              0.8888888888888888,
              "#fdca26"
             ],
             [
              1,
              "#f0f921"
             ]
            ],
            "type": "heatmap"
           }
          ],
          "heatmapgl": [
           {
            "colorbar": {
             "outlinewidth": 0,
             "ticks": ""
            },
            "colorscale": [
             [
              0,
              "#0d0887"
             ],
             [
              0.1111111111111111,
              "#46039f"
             ],
             [
              0.2222222222222222,
              "#7201a8"
             ],
             [
              0.3333333333333333,
              "#9c179e"
             ],
             [
              0.4444444444444444,
              "#bd3786"
             ],
             [
              0.5555555555555556,
              "#d8576b"
             ],
             [
              0.6666666666666666,
              "#ed7953"
             ],
             [
              0.7777777777777778,
              "#fb9f3a"
             ],
             [
              0.8888888888888888,
              "#fdca26"
             ],
             [
              1,
              "#f0f921"
             ]
            ],
            "type": "heatmapgl"
           }
          ],
          "histogram": [
           {
            "marker": {
             "pattern": {
              "fillmode": "overlay",
              "size": 10,
              "solidity": 0.2
             }
            },
            "type": "histogram"
           }
          ],
          "histogram2d": [
           {
            "colorbar": {
             "outlinewidth": 0,
             "ticks": ""
            },
            "colorscale": [
             [
              0,
              "#0d0887"
             ],
             [
              0.1111111111111111,
              "#46039f"
             ],
             [
              0.2222222222222222,
              "#7201a8"
             ],
             [
              0.3333333333333333,
              "#9c179e"
             ],
             [
              0.4444444444444444,
              "#bd3786"
             ],
             [
              0.5555555555555556,
              "#d8576b"
             ],
             [
              0.6666666666666666,
              "#ed7953"
             ],
             [
              0.7777777777777778,
              "#fb9f3a"
             ],
             [
              0.8888888888888888,
              "#fdca26"
             ],
             [
              1,
              "#f0f921"
             ]
            ],
            "type": "histogram2d"
           }
          ],
          "histogram2dcontour": [
           {
            "colorbar": {
             "outlinewidth": 0,
             "ticks": ""
            },
            "colorscale": [
             [
              0,
              "#0d0887"
             ],
             [
              0.1111111111111111,
              "#46039f"
             ],
             [
              0.2222222222222222,
              "#7201a8"
             ],
             [
              0.3333333333333333,
              "#9c179e"
             ],
             [
              0.4444444444444444,
              "#bd3786"
             ],
             [
              0.5555555555555556,
              "#d8576b"
             ],
             [
              0.6666666666666666,
              "#ed7953"
             ],
             [
              0.7777777777777778,
              "#fb9f3a"
             ],
             [
              0.8888888888888888,
              "#fdca26"
             ],
             [
              1,
              "#f0f921"
             ]
            ],
            "type": "histogram2dcontour"
           }
          ],
          "mesh3d": [
           {
            "colorbar": {
             "outlinewidth": 0,
             "ticks": ""
            },
            "type": "mesh3d"
           }
          ],
          "parcoords": [
           {
            "line": {
             "colorbar": {
              "outlinewidth": 0,
              "ticks": ""
             }
            },
            "type": "parcoords"
           }
          ],
          "pie": [
           {
            "automargin": true,
            "type": "pie"
           }
          ],
          "scatter": [
           {
            "fillpattern": {
             "fillmode": "overlay",
             "size": 10,
             "solidity": 0.2
            },
            "type": "scatter"
           }
          ],
          "scatter3d": [
           {
            "line": {
             "colorbar": {
              "outlinewidth": 0,
              "ticks": ""
             }
            },
            "marker": {
             "colorbar": {
              "outlinewidth": 0,
              "ticks": ""
             }
            },
            "type": "scatter3d"
           }
          ],
          "scattercarpet": [
           {
            "marker": {
             "colorbar": {
              "outlinewidth": 0,
              "ticks": ""
             }
            },
            "type": "scattercarpet"
           }
          ],
          "scattergeo": [
           {
            "marker": {
             "colorbar": {
              "outlinewidth": 0,
              "ticks": ""
             }
            },
            "type": "scattergeo"
           }
          ],
          "scattergl": [
           {
            "marker": {
             "colorbar": {
              "outlinewidth": 0,
              "ticks": ""
             }
            },
            "type": "scattergl"
           }
          ],
          "scattermapbox": [
           {
            "marker": {
             "colorbar": {
              "outlinewidth": 0,
              "ticks": ""
             }
            },
            "type": "scattermapbox"
           }
          ],
          "scatterpolar": [
           {
            "marker": {
             "colorbar": {
              "outlinewidth": 0,
              "ticks": ""
             }
            },
            "type": "scatterpolar"
           }
          ],
          "scatterpolargl": [
           {
            "marker": {
             "colorbar": {
              "outlinewidth": 0,
              "ticks": ""
             }
            },
            "type": "scatterpolargl"
           }
          ],
          "scatterternary": [
           {
            "marker": {
             "colorbar": {
              "outlinewidth": 0,
              "ticks": ""
             }
            },
            "type": "scatterternary"
           }
          ],
          "surface": [
           {
            "colorbar": {
             "outlinewidth": 0,
             "ticks": ""
            },
            "colorscale": [
             [
              0,
              "#0d0887"
             ],
             [
              0.1111111111111111,
              "#46039f"
             ],
             [
              0.2222222222222222,
              "#7201a8"
             ],
             [
              0.3333333333333333,
              "#9c179e"
             ],
             [
              0.4444444444444444,
              "#bd3786"
             ],
             [
              0.5555555555555556,
              "#d8576b"
             ],
             [
              0.6666666666666666,
              "#ed7953"
             ],
             [
              0.7777777777777778,
              "#fb9f3a"
             ],
             [
              0.8888888888888888,
              "#fdca26"
             ],
             [
              1,
              "#f0f921"
             ]
            ],
            "type": "surface"
           }
          ],
          "table": [
           {
            "cells": {
             "fill": {
              "color": "#EBF0F8"
             },
             "line": {
              "color": "white"
             }
            },
            "header": {
             "fill": {
              "color": "#C8D4E3"
             },
             "line": {
              "color": "white"
             }
            },
            "type": "table"
           }
          ]
         },
         "layout": {
          "annotationdefaults": {
           "arrowcolor": "#2a3f5f",
           "arrowhead": 0,
           "arrowwidth": 1
          },
          "autotypenumbers": "strict",
          "coloraxis": {
           "colorbar": {
            "outlinewidth": 0,
            "ticks": ""
           }
          },
          "colorscale": {
           "diverging": [
            [
             0,
             "#8e0152"
            ],
            [
             0.1,
             "#c51b7d"
            ],
            [
             0.2,
             "#de77ae"
            ],
            [
             0.3,
             "#f1b6da"
            ],
            [
             0.4,
             "#fde0ef"
            ],
            [
             0.5,
             "#f7f7f7"
            ],
            [
             0.6,
             "#e6f5d0"
            ],
            [
             0.7,
             "#b8e186"
            ],
            [
             0.8,
             "#7fbc41"
            ],
            [
             0.9,
             "#4d9221"
            ],
            [
             1,
             "#276419"
            ]
           ],
           "sequential": [
            [
             0,
             "#0d0887"
            ],
            [
             0.1111111111111111,
             "#46039f"
            ],
            [
             0.2222222222222222,
             "#7201a8"
            ],
            [
             0.3333333333333333,
             "#9c179e"
            ],
            [
             0.4444444444444444,
             "#bd3786"
            ],
            [
             0.5555555555555556,
             "#d8576b"
            ],
            [
             0.6666666666666666,
             "#ed7953"
            ],
            [
             0.7777777777777778,
             "#fb9f3a"
            ],
            [
             0.8888888888888888,
             "#fdca26"
            ],
            [
             1,
             "#f0f921"
            ]
           ],
           "sequentialminus": [
            [
             0,
             "#0d0887"
            ],
            [
             0.1111111111111111,
             "#46039f"
            ],
            [
             0.2222222222222222,
             "#7201a8"
            ],
            [
             0.3333333333333333,
             "#9c179e"
            ],
            [
             0.4444444444444444,
             "#bd3786"
            ],
            [
             0.5555555555555556,
             "#d8576b"
            ],
            [
             0.6666666666666666,
             "#ed7953"
            ],
            [
             0.7777777777777778,
             "#fb9f3a"
            ],
            [
             0.8888888888888888,
             "#fdca26"
            ],
            [
             1,
             "#f0f921"
            ]
           ]
          },
          "colorway": [
           "#636efa",
           "#EF553B",
           "#00cc96",
           "#ab63fa",
           "#FFA15A",
           "#19d3f3",
           "#FF6692",
           "#B6E880",
           "#FF97FF",
           "#FECB52"
          ],
          "font": {
           "color": "#2a3f5f"
          },
          "geo": {
           "bgcolor": "white",
           "lakecolor": "white",
           "landcolor": "white",
           "showlakes": true,
           "showland": true,
           "subunitcolor": "#C8D4E3"
          },
          "hoverlabel": {
           "align": "left"
          },
          "hovermode": "closest",
          "mapbox": {
           "style": "light"
          },
          "paper_bgcolor": "white",
          "plot_bgcolor": "white",
          "polar": {
           "angularaxis": {
            "gridcolor": "#EBF0F8",
            "linecolor": "#EBF0F8",
            "ticks": ""
           },
           "bgcolor": "white",
           "radialaxis": {
            "gridcolor": "#EBF0F8",
            "linecolor": "#EBF0F8",
            "ticks": ""
           }
          },
          "scene": {
           "xaxis": {
            "backgroundcolor": "white",
            "gridcolor": "#DFE8F3",
            "gridwidth": 2,
            "linecolor": "#EBF0F8",
            "showbackground": true,
            "ticks": "",
            "zerolinecolor": "#EBF0F8"
           },
           "yaxis": {
            "backgroundcolor": "white",
            "gridcolor": "#DFE8F3",
            "gridwidth": 2,
            "linecolor": "#EBF0F8",
            "showbackground": true,
            "ticks": "",
            "zerolinecolor": "#EBF0F8"
           },
           "zaxis": {
            "backgroundcolor": "white",
            "gridcolor": "#DFE8F3",
            "gridwidth": 2,
            "linecolor": "#EBF0F8",
            "showbackground": true,
            "ticks": "",
            "zerolinecolor": "#EBF0F8"
           }
          },
          "shapedefaults": {
           "line": {
            "color": "#2a3f5f"
           }
          },
          "ternary": {
           "aaxis": {
            "gridcolor": "#DFE8F3",
            "linecolor": "#A2B1C6",
            "ticks": ""
           },
           "baxis": {
            "gridcolor": "#DFE8F3",
            "linecolor": "#A2B1C6",
            "ticks": ""
           },
           "bgcolor": "white",
           "caxis": {
            "gridcolor": "#DFE8F3",
            "linecolor": "#A2B1C6",
            "ticks": ""
           }
          },
          "title": {
           "x": 0.05
          },
          "xaxis": {
           "automargin": true,
           "gridcolor": "#EBF0F8",
           "linecolor": "#EBF0F8",
           "ticks": "",
           "title": {
            "standoff": 15
           },
           "zerolinecolor": "#EBF0F8",
           "zerolinewidth": 2
          },
          "yaxis": {
           "automargin": true,
           "gridcolor": "#EBF0F8",
           "linecolor": "#EBF0F8",
           "ticks": "",
           "title": {
            "standoff": 15
           },
           "zerolinecolor": "#EBF0F8",
           "zerolinewidth": 2
          }
         }
        },
        "title": {
         "text": "Top 10 Countries with the highest GDP Per Capita"
        },
        "width": 1250,
        "xaxis": {
         "anchor": "y",
         "domain": [
          0,
          1
         ],
         "title": {
          "text": "Countries"
         }
        },
        "yaxis": {
         "anchor": "x",
         "domain": [
          0,
          1
         ],
         "title": {
          "text": "GPD Per Capita in USD$"
         }
        }
       }
      }
     },
     "metadata": {},
     "output_type": "display_data"
    },
    {
     "data": {
      "application/vnd.plotly.v1+json": {
       "config": {
        "plotlyServerURL": "https://plot.ly"
       },
       "data": [
        {
         "alignmentgroup": "True",
         "hovertemplate": "Countries=%{x}<br>GPD Per Capita in USD$=%{marker.color}<extra></extra>",
         "legendgroup": "",
         "marker": {
          "color": [
           301.59,
           310.71,
           372.55,
           400.44,
           447,
           461.36,
           470.77,
           491.84,
           499.72,
           504.62
          ],
          "coloraxis": "coloraxis",
          "pattern": {
           "shape": ""
          }
         },
         "name": "",
         "offsetgroup": "",
         "orientation": "v",
         "showlegend": false,
         "textposition": "auto",
         "type": "bar",
         "x": [
          "Yemen",
          "Burundi",
          "Afghanistan",
          "South Sudan",
          "Somalia",
          "Central African Republic",
          "Liberia",
          "Mozambique",
          "Madagascar",
          "Sierra Leone"
         ],
         "xaxis": "x",
         "y": [
          301.59,
          310.71,
          372.55,
          400.44,
          447,
          461.36,
          470.77,
          491.84,
          499.72,
          504.62
         ],
         "yaxis": "y"
        }
       ],
       "layout": {
        "annotations": [
         {
          "font": {
           "size": 13
          },
          "showarrow": false,
          "text": "302",
          "x": "Yemen",
          "y": 301.59,
          "yshift": 9
         },
         {
          "font": {
           "size": 13
          },
          "showarrow": false,
          "text": "311",
          "x": "Burundi",
          "y": 310.71,
          "yshift": 9
         },
         {
          "font": {
           "size": 13
          },
          "showarrow": false,
          "text": "373",
          "x": "Afghanistan",
          "y": 372.55,
          "yshift": 9
         },
         {
          "font": {
           "size": 13
          },
          "showarrow": false,
          "text": "400",
          "x": "South Sudan",
          "y": 400.44,
          "yshift": 9
         },
         {
          "font": {
           "size": 13
          },
          "showarrow": false,
          "text": "447",
          "x": "Somalia",
          "y": 447,
          "yshift": 9
         },
         {
          "font": {
           "size": 13
          },
          "showarrow": false,
          "text": "461",
          "x": "Central African Republic",
          "y": 461.36,
          "yshift": 9
         },
         {
          "font": {
           "size": 13
          },
          "showarrow": false,
          "text": "471",
          "x": "Liberia",
          "y": 470.77,
          "yshift": 9
         },
         {
          "font": {
           "size": 13
          },
          "showarrow": false,
          "text": "492",
          "x": "Mozambique",
          "y": 491.84,
          "yshift": 9
         },
         {
          "font": {
           "size": 13
          },
          "showarrow": false,
          "text": "500",
          "x": "Madagascar",
          "y": 499.72,
          "yshift": 9
         },
         {
          "font": {
           "size": 13
          },
          "showarrow": false,
          "text": "505",
          "x": "Sierra Leone",
          "y": 504.62,
          "yshift": 9
         }
        ],
        "barmode": "relative",
        "coloraxis": {
         "cmax": 600,
         "cmin": 300,
         "colorbar": {
          "title": {
           "text": "GPD Per Capita in USD$"
          }
         },
         "colorscale": [
          [
           0,
           "rgb(51, 19, 23)"
          ],
          [
           0.09090909090909091,
           "rgb(79, 28, 33)"
          ],
          [
           0.18181818181818182,
           "rgb(108, 36, 36)"
          ],
          [
           0.2727272727272727,
           "rgb(135, 47, 32)"
          ],
          [
           0.36363636363636365,
           "rgb(157, 66, 25)"
          ],
          [
           0.45454545454545453,
           "rgb(174, 88, 20)"
          ],
          [
           0.5454545454545454,
           "rgb(188, 111, 19)"
          ],
          [
           0.6363636363636364,
           "rgb(199, 137, 22)"
          ],
          [
           0.7272727272727273,
           "rgb(209, 164, 32)"
          ],
          [
           0.8181818181818182,
           "rgb(217, 192, 44)"
          ],
          [
           0.9090909090909091,
           "rgb(222, 222, 59)"
          ],
          [
           1,
           "rgb(224, 253, 74)"
          ]
         ]
        },
        "height": 500,
        "legend": {
         "tracegroupgap": 0
        },
        "margin": {
         "t": 60
        },
        "template": {
         "data": {
          "bar": [
           {
            "error_x": {
             "color": "#2a3f5f"
            },
            "error_y": {
             "color": "#2a3f5f"
            },
            "marker": {
             "line": {
              "color": "white",
              "width": 0.5
             },
             "pattern": {
              "fillmode": "overlay",
              "size": 10,
              "solidity": 0.2
             }
            },
            "type": "bar"
           }
          ],
          "barpolar": [
           {
            "marker": {
             "line": {
              "color": "white",
              "width": 0.5
             },
             "pattern": {
              "fillmode": "overlay",
              "size": 10,
              "solidity": 0.2
             }
            },
            "type": "barpolar"
           }
          ],
          "carpet": [
           {
            "aaxis": {
             "endlinecolor": "#2a3f5f",
             "gridcolor": "#C8D4E3",
             "linecolor": "#C8D4E3",
             "minorgridcolor": "#C8D4E3",
             "startlinecolor": "#2a3f5f"
            },
            "baxis": {
             "endlinecolor": "#2a3f5f",
             "gridcolor": "#C8D4E3",
             "linecolor": "#C8D4E3",
             "minorgridcolor": "#C8D4E3",
             "startlinecolor": "#2a3f5f"
            },
            "type": "carpet"
           }
          ],
          "choropleth": [
           {
            "colorbar": {
             "outlinewidth": 0,
             "ticks": ""
            },
            "type": "choropleth"
           }
          ],
          "contour": [
           {
            "colorbar": {
             "outlinewidth": 0,
             "ticks": ""
            },
            "colorscale": [
             [
              0,
              "#0d0887"
             ],
             [
              0.1111111111111111,
              "#46039f"
             ],
             [
              0.2222222222222222,
              "#7201a8"
             ],
             [
              0.3333333333333333,
              "#9c179e"
             ],
             [
              0.4444444444444444,
              "#bd3786"
             ],
             [
              0.5555555555555556,
              "#d8576b"
             ],
             [
              0.6666666666666666,
              "#ed7953"
             ],
             [
              0.7777777777777778,
              "#fb9f3a"
             ],
             [
              0.8888888888888888,
              "#fdca26"
             ],
             [
              1,
              "#f0f921"
             ]
            ],
            "type": "contour"
           }
          ],
          "contourcarpet": [
           {
            "colorbar": {
             "outlinewidth": 0,
             "ticks": ""
            },
            "type": "contourcarpet"
           }
          ],
          "heatmap": [
           {
            "colorbar": {
             "outlinewidth": 0,
             "ticks": ""
            },
            "colorscale": [
             [
              0,
              "#0d0887"
             ],
             [
              0.1111111111111111,
              "#46039f"
             ],
             [
              0.2222222222222222,
              "#7201a8"
             ],
             [
              0.3333333333333333,
              "#9c179e"
             ],
             [
              0.4444444444444444,
              "#bd3786"
             ],
             [
              0.5555555555555556,
              "#d8576b"
             ],
             [
              0.6666666666666666,
              "#ed7953"
             ],
             [
              0.7777777777777778,
              "#fb9f3a"
             ],
             [
              0.8888888888888888,
              "#fdca26"
             ],
             [
              1,
              "#f0f921"
             ]
            ],
            "type": "heatmap"
           }
          ],
          "heatmapgl": [
           {
            "colorbar": {
             "outlinewidth": 0,
             "ticks": ""
            },
            "colorscale": [
             [
              0,
              "#0d0887"
             ],
             [
              0.1111111111111111,
              "#46039f"
             ],
             [
              0.2222222222222222,
              "#7201a8"
             ],
             [
              0.3333333333333333,
              "#9c179e"
             ],
             [
              0.4444444444444444,
              "#bd3786"
             ],
             [
              0.5555555555555556,
              "#d8576b"
             ],
             [
              0.6666666666666666,
              "#ed7953"
             ],
             [
              0.7777777777777778,
              "#fb9f3a"
             ],
             [
              0.8888888888888888,
              "#fdca26"
             ],
             [
              1,
              "#f0f921"
             ]
            ],
            "type": "heatmapgl"
           }
          ],
          "histogram": [
           {
            "marker": {
             "pattern": {
              "fillmode": "overlay",
              "size": 10,
              "solidity": 0.2
             }
            },
            "type": "histogram"
           }
          ],
          "histogram2d": [
           {
            "colorbar": {
             "outlinewidth": 0,
             "ticks": ""
            },
            "colorscale": [
             [
              0,
              "#0d0887"
             ],
             [
              0.1111111111111111,
              "#46039f"
             ],
             [
              0.2222222222222222,
              "#7201a8"
             ],
             [
              0.3333333333333333,
              "#9c179e"
             ],
             [
              0.4444444444444444,
              "#bd3786"
             ],
             [
              0.5555555555555556,
              "#d8576b"
             ],
             [
              0.6666666666666666,
              "#ed7953"
             ],
             [
              0.7777777777777778,
              "#fb9f3a"
             ],
             [
              0.8888888888888888,
              "#fdca26"
             ],
             [
              1,
              "#f0f921"
             ]
            ],
            "type": "histogram2d"
           }
          ],
          "histogram2dcontour": [
           {
            "colorbar": {
             "outlinewidth": 0,
             "ticks": ""
            },
            "colorscale": [
             [
              0,
              "#0d0887"
             ],
             [
              0.1111111111111111,
              "#46039f"
             ],
             [
              0.2222222222222222,
              "#7201a8"
             ],
             [
              0.3333333333333333,
              "#9c179e"
             ],
             [
              0.4444444444444444,
              "#bd3786"
             ],
             [
              0.5555555555555556,
              "#d8576b"
             ],
             [
              0.6666666666666666,
              "#ed7953"
             ],
             [
              0.7777777777777778,
              "#fb9f3a"
             ],
             [
              0.8888888888888888,
              "#fdca26"
             ],
             [
              1,
              "#f0f921"
             ]
            ],
            "type": "histogram2dcontour"
           }
          ],
          "mesh3d": [
           {
            "colorbar": {
             "outlinewidth": 0,
             "ticks": ""
            },
            "type": "mesh3d"
           }
          ],
          "parcoords": [
           {
            "line": {
             "colorbar": {
              "outlinewidth": 0,
              "ticks": ""
             }
            },
            "type": "parcoords"
           }
          ],
          "pie": [
           {
            "automargin": true,
            "type": "pie"
           }
          ],
          "scatter": [
           {
            "fillpattern": {
             "fillmode": "overlay",
             "size": 10,
             "solidity": 0.2
            },
            "type": "scatter"
           }
          ],
          "scatter3d": [
           {
            "line": {
             "colorbar": {
              "outlinewidth": 0,
              "ticks": ""
             }
            },
            "marker": {
             "colorbar": {
              "outlinewidth": 0,
              "ticks": ""
             }
            },
            "type": "scatter3d"
           }
          ],
          "scattercarpet": [
           {
            "marker": {
             "colorbar": {
              "outlinewidth": 0,
              "ticks": ""
             }
            },
            "type": "scattercarpet"
           }
          ],
          "scattergeo": [
           {
            "marker": {
             "colorbar": {
              "outlinewidth": 0,
              "ticks": ""
             }
            },
            "type": "scattergeo"
           }
          ],
          "scattergl": [
           {
            "marker": {
             "colorbar": {
              "outlinewidth": 0,
              "ticks": ""
             }
            },
            "type": "scattergl"
           }
          ],
          "scattermapbox": [
           {
            "marker": {
             "colorbar": {
              "outlinewidth": 0,
              "ticks": ""
             }
            },
            "type": "scattermapbox"
           }
          ],
          "scatterpolar": [
           {
            "marker": {
             "colorbar": {
              "outlinewidth": 0,
              "ticks": ""
             }
            },
            "type": "scatterpolar"
           }
          ],
          "scatterpolargl": [
           {
            "marker": {
             "colorbar": {
              "outlinewidth": 0,
              "ticks": ""
             }
            },
            "type": "scatterpolargl"
           }
          ],
          "scatterternary": [
           {
            "marker": {
             "colorbar": {
              "outlinewidth": 0,
              "ticks": ""
             }
            },
            "type": "scatterternary"
           }
          ],
          "surface": [
           {
            "colorbar": {
             "outlinewidth": 0,
             "ticks": ""
            },
            "colorscale": [
             [
              0,
              "#0d0887"
             ],
             [
              0.1111111111111111,
              "#46039f"
             ],
             [
              0.2222222222222222,
              "#7201a8"
             ],
             [
              0.3333333333333333,
              "#9c179e"
             ],
             [
              0.4444444444444444,
              "#bd3786"
             ],
             [
              0.5555555555555556,
              "#d8576b"
             ],
             [
              0.6666666666666666,
              "#ed7953"
             ],
             [
              0.7777777777777778,
              "#fb9f3a"
             ],
             [
              0.8888888888888888,
              "#fdca26"
             ],
             [
              1,
              "#f0f921"
             ]
            ],
            "type": "surface"
           }
          ],
          "table": [
           {
            "cells": {
             "fill": {
              "color": "#EBF0F8"
             },
             "line": {
              "color": "white"
             }
            },
            "header": {
             "fill": {
              "color": "#C8D4E3"
             },
             "line": {
              "color": "white"
             }
            },
            "type": "table"
           }
          ]
         },
         "layout": {
          "annotationdefaults": {
           "arrowcolor": "#2a3f5f",
           "arrowhead": 0,
           "arrowwidth": 1
          },
          "autotypenumbers": "strict",
          "coloraxis": {
           "colorbar": {
            "outlinewidth": 0,
            "ticks": ""
           }
          },
          "colorscale": {
           "diverging": [
            [
             0,
             "#8e0152"
            ],
            [
             0.1,
             "#c51b7d"
            ],
            [
             0.2,
             "#de77ae"
            ],
            [
             0.3,
             "#f1b6da"
            ],
            [
             0.4,
             "#fde0ef"
            ],
            [
             0.5,
             "#f7f7f7"
            ],
            [
             0.6,
             "#e6f5d0"
            ],
            [
             0.7,
             "#b8e186"
            ],
            [
             0.8,
             "#7fbc41"
            ],
            [
             0.9,
             "#4d9221"
            ],
            [
             1,
             "#276419"
            ]
           ],
           "sequential": [
            [
             0,
             "#0d0887"
            ],
            [
             0.1111111111111111,
             "#46039f"
            ],
            [
             0.2222222222222222,
             "#7201a8"
            ],
            [
             0.3333333333333333,
             "#9c179e"
            ],
            [
             0.4444444444444444,
             "#bd3786"
            ],
            [
             0.5555555555555556,
             "#d8576b"
            ],
            [
             0.6666666666666666,
             "#ed7953"
            ],
            [
             0.7777777777777778,
             "#fb9f3a"
            ],
            [
             0.8888888888888888,
             "#fdca26"
            ],
            [
             1,
             "#f0f921"
            ]
           ],
           "sequentialminus": [
            [
             0,
             "#0d0887"
            ],
            [
             0.1111111111111111,
             "#46039f"
            ],
            [
             0.2222222222222222,
             "#7201a8"
            ],
            [
             0.3333333333333333,
             "#9c179e"
            ],
            [
             0.4444444444444444,
             "#bd3786"
            ],
            [
             0.5555555555555556,
             "#d8576b"
            ],
            [
             0.6666666666666666,
             "#ed7953"
            ],
            [
             0.7777777777777778,
             "#fb9f3a"
            ],
            [
             0.8888888888888888,
             "#fdca26"
            ],
            [
             1,
             "#f0f921"
            ]
           ]
          },
          "colorway": [
           "#636efa",
           "#EF553B",
           "#00cc96",
           "#ab63fa",
           "#FFA15A",
           "#19d3f3",
           "#FF6692",
           "#B6E880",
           "#FF97FF",
           "#FECB52"
          ],
          "font": {
           "color": "#2a3f5f"
          },
          "geo": {
           "bgcolor": "white",
           "lakecolor": "white",
           "landcolor": "white",
           "showlakes": true,
           "showland": true,
           "subunitcolor": "#C8D4E3"
          },
          "hoverlabel": {
           "align": "left"
          },
          "hovermode": "closest",
          "mapbox": {
           "style": "light"
          },
          "paper_bgcolor": "white",
          "plot_bgcolor": "white",
          "polar": {
           "angularaxis": {
            "gridcolor": "#EBF0F8",
            "linecolor": "#EBF0F8",
            "ticks": ""
           },
           "bgcolor": "white",
           "radialaxis": {
            "gridcolor": "#EBF0F8",
            "linecolor": "#EBF0F8",
            "ticks": ""
           }
          },
          "scene": {
           "xaxis": {
            "backgroundcolor": "white",
            "gridcolor": "#DFE8F3",
            "gridwidth": 2,
            "linecolor": "#EBF0F8",
            "showbackground": true,
            "ticks": "",
            "zerolinecolor": "#EBF0F8"
           },
           "yaxis": {
            "backgroundcolor": "white",
            "gridcolor": "#DFE8F3",
            "gridwidth": 2,
            "linecolor": "#EBF0F8",
            "showbackground": true,
            "ticks": "",
            "zerolinecolor": "#EBF0F8"
           },
           "zaxis": {
            "backgroundcolor": "white",
            "gridcolor": "#DFE8F3",
            "gridwidth": 2,
            "linecolor": "#EBF0F8",
            "showbackground": true,
            "ticks": "",
            "zerolinecolor": "#EBF0F8"
           }
          },
          "shapedefaults": {
           "line": {
            "color": "#2a3f5f"
           }
          },
          "ternary": {
           "aaxis": {
            "gridcolor": "#DFE8F3",
            "linecolor": "#A2B1C6",
            "ticks": ""
           },
           "baxis": {
            "gridcolor": "#DFE8F3",
            "linecolor": "#A2B1C6",
            "ticks": ""
           },
           "bgcolor": "white",
           "caxis": {
            "gridcolor": "#DFE8F3",
            "linecolor": "#A2B1C6",
            "ticks": ""
           }
          },
          "title": {
           "x": 0.05
          },
          "xaxis": {
           "automargin": true,
           "gridcolor": "#EBF0F8",
           "linecolor": "#EBF0F8",
           "ticks": "",
           "title": {
            "standoff": 15
           },
           "zerolinecolor": "#EBF0F8",
           "zerolinewidth": 2
          },
          "yaxis": {
           "automargin": true,
           "gridcolor": "#EBF0F8",
           "linecolor": "#EBF0F8",
           "ticks": "",
           "title": {
            "standoff": 15
           },
           "zerolinecolor": "#EBF0F8",
           "zerolinewidth": 2
          }
         }
        },
        "title": {
         "text": "Top 10 Countries with the lowest GDP Per Capita"
        },
        "width": 1250,
        "xaxis": {
         "anchor": "y",
         "domain": [
          0,
          1
         ],
         "title": {
          "text": "Countries"
         }
        },
        "yaxis": {
         "anchor": "x",
         "domain": [
          0,
          1
         ],
         "title": {
          "text": "GPD Per Capita in USD$"
         }
        }
       }
      }
     },
     "metadata": {},
     "output_type": "display_data"
    }
   ],
   "source": [
    "gdp_column = 'GDP, Per Capita GDP - US Dollars'\n",
    "\n",
    "# extracting countries with highest and lowest gdp\n",
    "highest_gdp = merged_data.nlargest(10, gdp_column)\n",
    "lowest_gdp = merged_data.nsmallest(10, gdp_column)\n",
    "\n",
    "# creating bar chart\n",
    "highest_fig = px.bar(highest_gdp, x='Country', y=gdp_column, color=gdp_column, # allocate axis\n",
    "             color_continuous_scale='viridis_r',range_color=[0,250000], # color scale\n",
    "             labels={'Country': 'Countries', gdp_column: 'GPD Per Capita in USD$'}) # labeling axis\n",
    "\n",
    "lowest_fig = px.bar(lowest_gdp, x='Country', y=gdp_column, color=gdp_column,\n",
    "             color_continuous_scale='solar', range_color=[300, 600],\n",
    "             labels={'Country': 'Countries', gdp_column: 'GPD Per Capita in USD$'})\n",
    "\n",
    "# showing value above bars\n",
    "for i, wert in enumerate(highest_gdp[gdp_column]): # bar iteration\n",
    "    highest_fig.add_annotation(x=highest_gdp['Country'].iloc[i], y=wert,\n",
    "                       text=str(round(wert)), # converting value to text\n",
    "                       showarrow=False, font=dict(size=13), yshift=9) # height and size\n",
    "    \n",
    "for i, wert in enumerate(lowest_gdp[gdp_column]):\n",
    "    lowest_fig.add_annotation(x=lowest_gdp['Country'].iloc[i], y=wert,\n",
    "                       text=str(round(wert)),\n",
    "                    showarrow=False, font=dict(size=13), yshift=9)\n",
    "# Layout-Anpassungen\n",
    "highest_fig.update_layout(title=\"Top 10 Countries with the highest GDP Per Capita\", # title\n",
    "                  height=500, width=1250,  template='plotly_white') # size and design\n",
    "\n",
    "lowest_fig.update_layout(title=\"Top 10 Countries with the lowest GDP Per Capita\",\n",
    "                  height=500, width=1250,  template='plotly_white')\n",
    "\n",
    "# display charts\n",
    "highest_fig.show()\n",
    "lowest_fig.show()"
   ]
  },
  {
   "cell_type": "markdown",
   "metadata": {},
   "source": [
    "### 3.1.2 Continental Economic Comparison"
   ]
  },
  {
   "cell_type": "code",
   "execution_count": 11,
   "metadata": {},
   "outputs": [
    {
     "data": {
      "application/vnd.plotly.v1+json": {
       "config": {
        "plotlyServerURL": "https://plot.ly"
       },
       "data": [
        {
         "alignmentgroup": "True",
         "hovertemplate": "Continent=%{x}<br>GPD Per Capita in USD$=%{marker.color}<extra></extra>",
         "legendgroup": "",
         "marker": {
          "color": [
           2436.34,
           12803.41,
           44183.3,
           14536.61,
           12721.46,
           8261.67
          ],
          "coloraxis": "coloraxis",
          "pattern": {
           "shape": ""
          }
         },
         "name": "",
         "offsetgroup": "",
         "orientation": "v",
         "showlegend": false,
         "textposition": "auto",
         "type": "bar",
         "x": [
          "Africa",
          "Asia",
          "Europe",
          "North America",
          "Oceania",
          "South America"
         ],
         "xaxis": "x",
         "y": [
          2436.34,
          12803.41,
          44183.3,
          14536.61,
          12721.46,
          8261.67
         ],
         "yaxis": "y"
        }
       ],
       "layout": {
        "annotations": [
         {
          "font": {
           "size": 14
          },
          "showarrow": false,
          "text": "2436",
          "x": "Africa",
          "y": 2436.34,
          "yshift": 9
         },
         {
          "font": {
           "size": 14
          },
          "showarrow": false,
          "text": "12803",
          "x": "Asia",
          "y": 12803.41,
          "yshift": 9
         },
         {
          "font": {
           "size": 14
          },
          "showarrow": false,
          "text": "44183",
          "x": "Europe",
          "y": 44183.3,
          "yshift": 9
         },
         {
          "font": {
           "size": 14
          },
          "showarrow": false,
          "text": "14537",
          "x": "North America",
          "y": 14536.61,
          "yshift": 9
         },
         {
          "font": {
           "size": 14
          },
          "showarrow": false,
          "text": "12721",
          "x": "Oceania",
          "y": 12721.46,
          "yshift": 9
         },
         {
          "font": {
           "size": 14
          },
          "showarrow": false,
          "text": "8262",
          "x": "South America",
          "y": 8261.67,
          "yshift": 9
         }
        ],
        "barmode": "relative",
        "coloraxis": {
         "cmax": 50000,
         "cmin": 0,
         "colorbar": {
          "title": {
           "text": "GPD Per Capita in USD$"
          }
         },
         "colorscale": [
          [
           0,
           "#fde725"
          ],
          [
           0.1111111111111111,
           "#b5de2b"
          ],
          [
           0.2222222222222222,
           "#6ece58"
          ],
          [
           0.3333333333333333,
           "#35b779"
          ],
          [
           0.4444444444444444,
           "#1f9e89"
          ],
          [
           0.5555555555555556,
           "#26828e"
          ],
          [
           0.6666666666666666,
           "#31688e"
          ],
          [
           0.7777777777777778,
           "#3e4989"
          ],
          [
           0.8888888888888888,
           "#482878"
          ],
          [
           1,
           "#440154"
          ]
         ]
        },
        "height": 500,
        "legend": {
         "tracegroupgap": 0
        },
        "margin": {
         "t": 60
        },
        "template": {
         "data": {
          "bar": [
           {
            "error_x": {
             "color": "#2a3f5f"
            },
            "error_y": {
             "color": "#2a3f5f"
            },
            "marker": {
             "line": {
              "color": "white",
              "width": 0.5
             },
             "pattern": {
              "fillmode": "overlay",
              "size": 10,
              "solidity": 0.2
             }
            },
            "type": "bar"
           }
          ],
          "barpolar": [
           {
            "marker": {
             "line": {
              "color": "white",
              "width": 0.5
             },
             "pattern": {
              "fillmode": "overlay",
              "size": 10,
              "solidity": 0.2
             }
            },
            "type": "barpolar"
           }
          ],
          "carpet": [
           {
            "aaxis": {
             "endlinecolor": "#2a3f5f",
             "gridcolor": "#C8D4E3",
             "linecolor": "#C8D4E3",
             "minorgridcolor": "#C8D4E3",
             "startlinecolor": "#2a3f5f"
            },
            "baxis": {
             "endlinecolor": "#2a3f5f",
             "gridcolor": "#C8D4E3",
             "linecolor": "#C8D4E3",
             "minorgridcolor": "#C8D4E3",
             "startlinecolor": "#2a3f5f"
            },
            "type": "carpet"
           }
          ],
          "choropleth": [
           {
            "colorbar": {
             "outlinewidth": 0,
             "ticks": ""
            },
            "type": "choropleth"
           }
          ],
          "contour": [
           {
            "colorbar": {
             "outlinewidth": 0,
             "ticks": ""
            },
            "colorscale": [
             [
              0,
              "#0d0887"
             ],
             [
              0.1111111111111111,
              "#46039f"
             ],
             [
              0.2222222222222222,
              "#7201a8"
             ],
             [
              0.3333333333333333,
              "#9c179e"
             ],
             [
              0.4444444444444444,
              "#bd3786"
             ],
             [
              0.5555555555555556,
              "#d8576b"
             ],
             [
              0.6666666666666666,
              "#ed7953"
             ],
             [
              0.7777777777777778,
              "#fb9f3a"
             ],
             [
              0.8888888888888888,
              "#fdca26"
             ],
             [
              1,
              "#f0f921"
             ]
            ],
            "type": "contour"
           }
          ],
          "contourcarpet": [
           {
            "colorbar": {
             "outlinewidth": 0,
             "ticks": ""
            },
            "type": "contourcarpet"
           }
          ],
          "heatmap": [
           {
            "colorbar": {
             "outlinewidth": 0,
             "ticks": ""
            },
            "colorscale": [
             [
              0,
              "#0d0887"
             ],
             [
              0.1111111111111111,
              "#46039f"
             ],
             [
              0.2222222222222222,
              "#7201a8"
             ],
             [
              0.3333333333333333,
              "#9c179e"
             ],
             [
              0.4444444444444444,
              "#bd3786"
             ],
             [
              0.5555555555555556,
              "#d8576b"
             ],
             [
              0.6666666666666666,
              "#ed7953"
             ],
             [
              0.7777777777777778,
              "#fb9f3a"
             ],
             [
              0.8888888888888888,
              "#fdca26"
             ],
             [
              1,
              "#f0f921"
             ]
            ],
            "type": "heatmap"
           }
          ],
          "heatmapgl": [
           {
            "colorbar": {
             "outlinewidth": 0,
             "ticks": ""
            },
            "colorscale": [
             [
              0,
              "#0d0887"
             ],
             [
              0.1111111111111111,
              "#46039f"
             ],
             [
              0.2222222222222222,
              "#7201a8"
             ],
             [
              0.3333333333333333,
              "#9c179e"
             ],
             [
              0.4444444444444444,
              "#bd3786"
             ],
             [
              0.5555555555555556,
              "#d8576b"
             ],
             [
              0.6666666666666666,
              "#ed7953"
             ],
             [
              0.7777777777777778,
              "#fb9f3a"
             ],
             [
              0.8888888888888888,
              "#fdca26"
             ],
             [
              1,
              "#f0f921"
             ]
            ],
            "type": "heatmapgl"
           }
          ],
          "histogram": [
           {
            "marker": {
             "pattern": {
              "fillmode": "overlay",
              "size": 10,
              "solidity": 0.2
             }
            },
            "type": "histogram"
           }
          ],
          "histogram2d": [
           {
            "colorbar": {
             "outlinewidth": 0,
             "ticks": ""
            },
            "colorscale": [
             [
              0,
              "#0d0887"
             ],
             [
              0.1111111111111111,
              "#46039f"
             ],
             [
              0.2222222222222222,
              "#7201a8"
             ],
             [
              0.3333333333333333,
              "#9c179e"
             ],
             [
              0.4444444444444444,
              "#bd3786"
             ],
             [
              0.5555555555555556,
              "#d8576b"
             ],
             [
              0.6666666666666666,
              "#ed7953"
             ],
             [
              0.7777777777777778,
              "#fb9f3a"
             ],
             [
              0.8888888888888888,
              "#fdca26"
             ],
             [
              1,
              "#f0f921"
             ]
            ],
            "type": "histogram2d"
           }
          ],
          "histogram2dcontour": [
           {
            "colorbar": {
             "outlinewidth": 0,
             "ticks": ""
            },
            "colorscale": [
             [
              0,
              "#0d0887"
             ],
             [
              0.1111111111111111,
              "#46039f"
             ],
             [
              0.2222222222222222,
              "#7201a8"
             ],
             [
              0.3333333333333333,
              "#9c179e"
             ],
             [
              0.4444444444444444,
              "#bd3786"
             ],
             [
              0.5555555555555556,
              "#d8576b"
             ],
             [
              0.6666666666666666,
              "#ed7953"
             ],
             [
              0.7777777777777778,
              "#fb9f3a"
             ],
             [
              0.8888888888888888,
              "#fdca26"
             ],
             [
              1,
              "#f0f921"
             ]
            ],
            "type": "histogram2dcontour"
           }
          ],
          "mesh3d": [
           {
            "colorbar": {
             "outlinewidth": 0,
             "ticks": ""
            },
            "type": "mesh3d"
           }
          ],
          "parcoords": [
           {
            "line": {
             "colorbar": {
              "outlinewidth": 0,
              "ticks": ""
             }
            },
            "type": "parcoords"
           }
          ],
          "pie": [
           {
            "automargin": true,
            "type": "pie"
           }
          ],
          "scatter": [
           {
            "fillpattern": {
             "fillmode": "overlay",
             "size": 10,
             "solidity": 0.2
            },
            "type": "scatter"
           }
          ],
          "scatter3d": [
           {
            "line": {
             "colorbar": {
              "outlinewidth": 0,
              "ticks": ""
             }
            },
            "marker": {
             "colorbar": {
              "outlinewidth": 0,
              "ticks": ""
             }
            },
            "type": "scatter3d"
           }
          ],
          "scattercarpet": [
           {
            "marker": {
             "colorbar": {
              "outlinewidth": 0,
              "ticks": ""
             }
            },
            "type": "scattercarpet"
           }
          ],
          "scattergeo": [
           {
            "marker": {
             "colorbar": {
              "outlinewidth": 0,
              "ticks": ""
             }
            },
            "type": "scattergeo"
           }
          ],
          "scattergl": [
           {
            "marker": {
             "colorbar": {
              "outlinewidth": 0,
              "ticks": ""
             }
            },
            "type": "scattergl"
           }
          ],
          "scattermapbox": [
           {
            "marker": {
             "colorbar": {
              "outlinewidth": 0,
              "ticks": ""
             }
            },
            "type": "scattermapbox"
           }
          ],
          "scatterpolar": [
           {
            "marker": {
             "colorbar": {
              "outlinewidth": 0,
              "ticks": ""
             }
            },
            "type": "scatterpolar"
           }
          ],
          "scatterpolargl": [
           {
            "marker": {
             "colorbar": {
              "outlinewidth": 0,
              "ticks": ""
             }
            },
            "type": "scatterpolargl"
           }
          ],
          "scatterternary": [
           {
            "marker": {
             "colorbar": {
              "outlinewidth": 0,
              "ticks": ""
             }
            },
            "type": "scatterternary"
           }
          ],
          "surface": [
           {
            "colorbar": {
             "outlinewidth": 0,
             "ticks": ""
            },
            "colorscale": [
             [
              0,
              "#0d0887"
             ],
             [
              0.1111111111111111,
              "#46039f"
             ],
             [
              0.2222222222222222,
              "#7201a8"
             ],
             [
              0.3333333333333333,
              "#9c179e"
             ],
             [
              0.4444444444444444,
              "#bd3786"
             ],
             [
              0.5555555555555556,
              "#d8576b"
             ],
             [
              0.6666666666666666,
              "#ed7953"
             ],
             [
              0.7777777777777778,
              "#fb9f3a"
             ],
             [
              0.8888888888888888,
              "#fdca26"
             ],
             [
              1,
              "#f0f921"
             ]
            ],
            "type": "surface"
           }
          ],
          "table": [
           {
            "cells": {
             "fill": {
              "color": "#EBF0F8"
             },
             "line": {
              "color": "white"
             }
            },
            "header": {
             "fill": {
              "color": "#C8D4E3"
             },
             "line": {
              "color": "white"
             }
            },
            "type": "table"
           }
          ]
         },
         "layout": {
          "annotationdefaults": {
           "arrowcolor": "#2a3f5f",
           "arrowhead": 0,
           "arrowwidth": 1
          },
          "autotypenumbers": "strict",
          "coloraxis": {
           "colorbar": {
            "outlinewidth": 0,
            "ticks": ""
           }
          },
          "colorscale": {
           "diverging": [
            [
             0,
             "#8e0152"
            ],
            [
             0.1,
             "#c51b7d"
            ],
            [
             0.2,
             "#de77ae"
            ],
            [
             0.3,
             "#f1b6da"
            ],
            [
             0.4,
             "#fde0ef"
            ],
            [
             0.5,
             "#f7f7f7"
            ],
            [
             0.6,
             "#e6f5d0"
            ],
            [
             0.7,
             "#b8e186"
            ],
            [
             0.8,
             "#7fbc41"
            ],
            [
             0.9,
             "#4d9221"
            ],
            [
             1,
             "#276419"
            ]
           ],
           "sequential": [
            [
             0,
             "#0d0887"
            ],
            [
             0.1111111111111111,
             "#46039f"
            ],
            [
             0.2222222222222222,
             "#7201a8"
            ],
            [
             0.3333333333333333,
             "#9c179e"
            ],
            [
             0.4444444444444444,
             "#bd3786"
            ],
            [
             0.5555555555555556,
             "#d8576b"
            ],
            [
             0.6666666666666666,
             "#ed7953"
            ],
            [
             0.7777777777777778,
             "#fb9f3a"
            ],
            [
             0.8888888888888888,
             "#fdca26"
            ],
            [
             1,
             "#f0f921"
            ]
           ],
           "sequentialminus": [
            [
             0,
             "#0d0887"
            ],
            [
             0.1111111111111111,
             "#46039f"
            ],
            [
             0.2222222222222222,
             "#7201a8"
            ],
            [
             0.3333333333333333,
             "#9c179e"
            ],
            [
             0.4444444444444444,
             "#bd3786"
            ],
            [
             0.5555555555555556,
             "#d8576b"
            ],
            [
             0.6666666666666666,
             "#ed7953"
            ],
            [
             0.7777777777777778,
             "#fb9f3a"
            ],
            [
             0.8888888888888888,
             "#fdca26"
            ],
            [
             1,
             "#f0f921"
            ]
           ]
          },
          "colorway": [
           "#636efa",
           "#EF553B",
           "#00cc96",
           "#ab63fa",
           "#FFA15A",
           "#19d3f3",
           "#FF6692",
           "#B6E880",
           "#FF97FF",
           "#FECB52"
          ],
          "font": {
           "color": "#2a3f5f"
          },
          "geo": {
           "bgcolor": "white",
           "lakecolor": "white",
           "landcolor": "white",
           "showlakes": true,
           "showland": true,
           "subunitcolor": "#C8D4E3"
          },
          "hoverlabel": {
           "align": "left"
          },
          "hovermode": "closest",
          "mapbox": {
           "style": "light"
          },
          "paper_bgcolor": "white",
          "plot_bgcolor": "white",
          "polar": {
           "angularaxis": {
            "gridcolor": "#EBF0F8",
            "linecolor": "#EBF0F8",
            "ticks": ""
           },
           "bgcolor": "white",
           "radialaxis": {
            "gridcolor": "#EBF0F8",
            "linecolor": "#EBF0F8",
            "ticks": ""
           }
          },
          "scene": {
           "xaxis": {
            "backgroundcolor": "white",
            "gridcolor": "#DFE8F3",
            "gridwidth": 2,
            "linecolor": "#EBF0F8",
            "showbackground": true,
            "ticks": "",
            "zerolinecolor": "#EBF0F8"
           },
           "yaxis": {
            "backgroundcolor": "white",
            "gridcolor": "#DFE8F3",
            "gridwidth": 2,
            "linecolor": "#EBF0F8",
            "showbackground": true,
            "ticks": "",
            "zerolinecolor": "#EBF0F8"
           },
           "zaxis": {
            "backgroundcolor": "white",
            "gridcolor": "#DFE8F3",
            "gridwidth": 2,
            "linecolor": "#EBF0F8",
            "showbackground": true,
            "ticks": "",
            "zerolinecolor": "#EBF0F8"
           }
          },
          "shapedefaults": {
           "line": {
            "color": "#2a3f5f"
           }
          },
          "ternary": {
           "aaxis": {
            "gridcolor": "#DFE8F3",
            "linecolor": "#A2B1C6",
            "ticks": ""
           },
           "baxis": {
            "gridcolor": "#DFE8F3",
            "linecolor": "#A2B1C6",
            "ticks": ""
           },
           "bgcolor": "white",
           "caxis": {
            "gridcolor": "#DFE8F3",
            "linecolor": "#A2B1C6",
            "ticks": ""
           }
          },
          "title": {
           "x": 0.05
          },
          "xaxis": {
           "automargin": true,
           "gridcolor": "#EBF0F8",
           "linecolor": "#EBF0F8",
           "ticks": "",
           "title": {
            "standoff": 15
           },
           "zerolinecolor": "#EBF0F8",
           "zerolinewidth": 2
          },
          "yaxis": {
           "automargin": true,
           "gridcolor": "#EBF0F8",
           "linecolor": "#EBF0F8",
           "ticks": "",
           "title": {
            "standoff": 15
           },
           "zerolinecolor": "#EBF0F8",
           "zerolinewidth": 2
          }
         }
        },
        "title": {
         "text": "Continental GDP per Capita"
        },
        "width": 1250,
        "xaxis": {
         "anchor": "y",
         "domain": [
          0,
          1
         ],
         "title": {
          "text": "Continent"
         }
        },
        "yaxis": {
         "anchor": "x",
         "domain": [
          0,
          1
         ],
         "title": {
          "text": "GPD Per Capita in USD$"
         }
        }
       }
      }
     },
     "metadata": {},
     "output_type": "display_data"
    }
   ],
   "source": [
    "# count countries and group them by continent\n",
    "count_countries = merged_data['Continent'].value_counts().reset_index()\n",
    "count_countries.columns = ['Continent', 'Anzahl Länder']\n",
    "\n",
    "# add up gdp and group countries by continent\n",
    "count_gdp = merged_data.groupby('Continent')[gdp_column].sum().reset_index()\n",
    "count_gdp.columns = ['Continent', 'Gesamt-GDP']\n",
    "\n",
    "# merging both dataframes by contient\n",
    "avg_continent_gdp = pd.merge(count_countries, count_gdp, on='Continent')\n",
    "\n",
    "# new column with average gdp\n",
    "avg_continent_gdp['Avg GDP'] = round(avg_continent_gdp['Gesamt-GDP'] / avg_continent_gdp['Anzahl Länder'],2)\n",
    "\n",
    "avg_gdp = 'Avg GDP'\n",
    "\n",
    "# creating bar chart\n",
    "fig = px.bar(avg_continent_gdp, x='Continent', y=avg_gdp, color=avg_gdp,\n",
    "             color_continuous_scale='viridis_r', \n",
    "             range_color=[0, 50000],\n",
    "             labels={'Continent': 'Continent', avg_gdp: 'GPD Per Capita in USD$'})\n",
    "\n",
    "# labeling bars\n",
    "for i, wert in enumerate(avg_continent_gdp[avg_gdp]):\n",
    "    fig.add_annotation(x=avg_continent_gdp['Continent'].iloc[i], y=wert,\n",
    "                       text=str(round(wert)),\n",
    "                       showarrow=False, font=dict(size=14), yshift=9)\n",
    "\n",
    "# size, title and design\n",
    "fig.update_layout(title=\"Continental GDP per Capita\",\n",
    "                  height=500, width=1250,  template='plotly_white')\n",
    "\n",
    "# display chart\n",
    "fig.show()"
   ]
  },
  {
   "cell_type": "markdown",
   "metadata": {},
   "source": [
    "### 3.1.3 Global Economic Comparison"
   ]
  },
  {
   "cell_type": "code",
   "execution_count": 12,
   "metadata": {},
   "outputs": [
    {
     "data": {
      "application/vnd.plotly.v1+json": {
       "config": {
        "plotlyServerURL": "https://plot.ly"
       },
       "data": [
        {
         "coloraxis": "coloraxis",
         "customdata": [
          [
           9661.23,
           9.175876248293436,
           "TUR"
          ],
          [
           3293.23,
           8.099624125063333,
           "CPV"
          ],
          [
           7055.06,
           8.861500368857412,
           "ZAF"
          ],
          [
           6104.14,
           8.716722508481089,
           "COL"
          ],
          [
           6621.65,
           8.798099862587742,
           "PER"
          ],
          [
           4686.13,
           8.452362360893774,
           "IRQ"
          ],
          [
           5259.26,
           8.56774561142413,
           "SUR"
          ],
          [
           3965.03,
           8.285268700244613,
           "VEN"
          ],
          [
           8872.96,
           9.090763728767023,
           "MUS"
          ],
          [
           6805.25,
           8.825449652103627,
           "BWA"
          ],
          [
           6766.02,
           8.819668305292536,
           "IRN"
          ],
          [
           9998.55,
           9.210195361462667,
           "GUY"
          ],
          [
           1636.88,
           7.400547269858304,
           "SEN"
          ],
          [
           7507.16,
           8.923612510786663,
           "BRA"
          ],
          [
           1607.66,
           7.382534984595664,
           "KHM"
          ],
          [
           2019.31,
           7.6105111478836776,
           "NGA"
          ],
          [
           3460.53,
           8.149177035511787,
           "PHL"
          ],
          [
           822.32,
           6.712129613704667,
           "RWA"
          ],
          [
           2408.63,
           7.786813400117076,
           "GHA"
          ],
          [
           825.29,
           6.71573483971922,
           "ETH"
          ],
          [
           3345.2,
           8.11528176150737,
           "BOL"
          ],
          [
           2081.8,
           7.640988183081368,
           "KEN"
          ],
          [
           372.55,
           5.920371256999736,
           "AFG"
          ],
          [
           4332.71,
           8.373948491274868,
           "IDN"
          ],
          [
           772.15,
           6.64917883166901,
           "GMB"
          ],
          [
           4836.17,
           8.483878364135855,
           "NAM"
          ],
          [
           10045.68,
           9.214897970328638,
           "MEX"
          ],
          [
           2485.82,
           7.818357863978618,
           "STP"
          ],
          [
           3807.18,
           8.244644036588648,
           "TUN"
          ],
          [
           3700.32,
           8.216174581379061,
           "DZA"
          ],
          [
           3853.28,
           8.256680012632025,
           "MAR"
          ],
          [
           12084.63,
           9.399689676202195,
           "SYC"
          ],
          [
           3348.01,
           8.11612141846273,
           "DJI"
          ],
          [
           2274.48,
           7.729506733830049,
           "IND"
          ],
          [
           2044.22,
           7.622771577625611,
           "AGO"
          ],
          [
           23185.87,
           10.05129832038292,
           "SAU"
          ],
          [
           2538.91,
           7.839490134050029,
           "CIV"
          ],
          [
           93525.37,
           11.445988015369975,
           "CHE"
          ],
          [
           301.59,
           5.709068479085438,
           "YEM"
          ],
          [
           897.05,
           6.799111601865393,
           "TJK"
          ],
          [
           1094.5,
           6.9980529169629175,
           "ZMB"
          ],
          [
           924.71,
           6.829480174843276,
           "SYR"
          ],
          [
           8507.67,
           9.048723388543914,
           "TKM"
          ],
          [
           101108.99,
           11.523954322914793,
           "IRL"
          ],
          [
           654.15,
           6.483336682956885,
           "PRK"
          ],
          [
           613.34,
           6.418919431441066,
           "MWI"
          ],
          [
           1088.93,
           6.992950841711779,
           "MMR"
          ],
          [
           1205.5,
           7.094649697621226,
           "NPL"
          ],
          [
           1136.19,
           7.0354358388169125,
           "TZA"
          ],
          [
           5965.13,
           8.693686128091684,
           "ECU"
          ],
          [
           3898.02,
           8.26822401089067,
           "EGY"
          ],
          [
           12472.44,
           9.431276689140338,
           "CRI"
          ],
          [
           943.94,
           6.850062604803488,
           "TGO"
          ],
          [
           26562.97,
           10.18727341962788,
           "BHR"
          ],
          [
           930.37,
           6.835582356488555,
           "UGA"
          ],
          [
           2031.57,
           7.616564172131706,
           "UZB"
          ],
          [
           3756.49,
           8.231240289753229,
           "VNM"
          ],
          [
           7066.68,
           8.863146058782666,
           "THA"
          ],
          [
           14617.6,
           9.589981561141528,
           "PAN"
          ],
          [
           43295.39,
           10.675801441809918,
           "ARE"
          ],
          [
           2045.53,
           7.623412203602651,
           "NIC"
          ],
          [
           32150.18,
           10.378173328405925,
           "KWT"
          ],
          [
           1040.31,
           6.947274024642395,
           "LSO"
          ],
          [
           893.08,
           6.794676162530236,
           "BFA"
          ],
          [
           1663.56,
           7.416715163338285,
           "HTI"
          ],
          [
           5296.44,
           8.574790175736759,
           "AZE"
          ],
          [
           11100.94,
           9.314785068399564,
           "MYS"
          ],
          [
           1360.91,
           7.215908872617752,
           "BEN"
          ],
          [
           2672.97,
           7.8909454927313805,
           "PNG"
          ],
          [
           19509.47,
           9.878655267692041,
           "OMN"
          ],
          [
           1480.11,
           7.299871688320569,
           "PAK"
          ],
          [
           504.62,
           6.223805670776234,
           "SLE"
          ],
          [
           44229.39,
           10.697144779223068,
           "FRA"
          ],
          [
           57871.35,
           10.965977722445087,
           "NLD"
          ],
          [
           1339.01,
           7.199685813923181,
           "KGZ"
          ],
          [
           42066.04,
           10.646996043321272,
           "AND"
          ],
          [
           499.72,
           6.214047941563629,
           "MDG"
          ],
          [
           54111.02,
           10.898793140948856,
           "ISR"
          ],
          [
           51165.51,
           10.84282095122257,
           "BEL"
          ],
          [
           66798.77,
           11.10943994618156,
           "QAT"
          ],
          [
           2771.72,
           7.92722334510692,
           "HND"
          ],
          [
           491.84,
           6.198153460350231,
           "MOZ"
          ],
          [
           51073.12,
           10.841013610393587,
           "DEU"
          ],
          [
           46541.76,
           10.748105253072913,
           "GBR"
          ],
          [
           53840.39,
           10.893779207977367,
           "AUT"
          ],
          [
           2200.32,
           7.696358083314375,
           "COG"
          ],
          [
           6784.8,
           8.82244009504749,
           "LBN"
          ],
          [
           169260.22,
           12.039192572998745,
           "LIE"
          ],
          [
           12437.21,
           9.428448064612098,
           "CHN"
          ],
          [
           3062.91,
           8.027120723443204,
           "BTN"
          ],
          [
           133745.4,
           11.803693271643452,
           "LUX"
          ],
          [
           69184.7,
           11.14453501889404,
           "USA"
          ],
          [
           10054.89,
           9.215814362315982,
           "KAZ"
          ],
          [
           8476.75,
           9.04508240060811,
           "DOM"
          ],
          [
           3968.91,
           8.286246776789005,
           "SWZ"
          ],
          [
           35578.85,
           10.479506639168525,
           "ITA"
          ],
          [
           590.63,
           6.38118976382064,
           "NER"
          ],
          [
           33641.6,
           10.423518675381512,
           "MLT"
          ],
          [
           1507.99,
           7.31853291724618,
           "ZWE"
          ],
          [
           470.77,
           6.154369652030428,
           "LBR"
          ],
          [
           4509.86,
           8.414021389886305,
           "MNG"
          ],
          [
           7910.85,
           8.975990513901174,
           "GAB"
          ],
          [
           24651.18,
           10.11258004850765,
           "PRT"
          ],
          [
           20571.22,
           9.931648290562537,
           "GRC"
          ],
          [
           11255.28,
           9.32859263086346,
           "CUB"
          ],
          [
           1668.01,
           7.419386578104558,
           "CMR"
          ],
          [
           2166.04,
           7.680655894611102,
           "MRT"
          ],
          [
           785.58,
           6.666422298467717,
           "SDN"
          ],
          [
           1185.06,
           7.077548685198821,
           "GIN"
          ],
          [
           6035.14,
           8.705354331274162,
           "PRY"
          ],
          [
           2449.91,
           7.80380656817016,
           "BGD"
          ],
          [
           4966.52,
           8.510474672628074,
           "ARM"
          ],
          [
           30058.39,
           10.31089710232503,
           "ESP"
          ],
          [
           32280.93,
           10.382231932377795,
           "CYP"
          ],
          [
           234317.08,
           12.364430519832982,
           "MCO"
          ],
          [
           955.17,
           6.86188933510995,
           "TCD"
          ],
          [
           12390.37,
           9.424674836969878,
           "NRU"
          ],
          [
           50425.1,
           10.828244345963729,
           "SMR"
          ],
          [
           758.55,
           6.631408716194102,
           "GNB"
          ],
          [
           39649.93,
           10.587844461613768,
           "JPN"
          ],
          [
           89241.71,
           11.399103810173731,
           "NOR"
          ],
          [
           6228.7,
           8.7369229222706,
           "BLZ"
          ],
          [
           874.55,
           6.773709468353072,
           "MLI"
          ],
          [
           3918.02,
           8.273341703136685,
           "LKA"
          ],
          [
           27990.62,
           10.239624733032306,
           "EST"
          ],
          [
           60729.71,
           11.014188313645574,
           "SWE"
          ],
          [
           4975.12,
           8.51220476990481,
           "GEO"
          ],
          [
           68036.72,
           11.12780283841071,
           "DNK"
          ],
          [
           10761.08,
           9.28369120042608,
           "ARG"
          ],
          [
           21267.46,
           9.964933484044227,
           "LVA"
          ],
          [
           23844.13,
           10.079293344430306,
           "LTU"
          ],
          [
           52112.06,
           10.86115167888164,
           "CAN"
          ],
          [
           53703.45,
           10.891232524243339,
           "FIN"
          ],
          [
           8950.23,
           9.099434509262727,
           "GRD"
          ],
          [
           69133.13,
           11.143789344928658,
           "ISL"
          ],
          [
           1631.48,
           7.397242857300561,
           "COM"
          ],
          [
           4596.35,
           8.433017789245815,
           "UKR"
          ],
          [
           2305.98,
           7.743261027764507,
           "SLB"
          ],
          [
           4883.21,
           8.49355806948547,
           "GTM"
          ],
          [
           6396.46,
           8.763499991317698,
           "ALB"
          ],
          [
           17736.42,
           9.783375431665291,
           "POL"
          ],
          [
           1764.93,
           7.475866308524259,
           "KIR"
          ],
          [
           12258.77,
           9.413996878192911,
           "RUS"
          ],
          [
           1517.22,
           7.324634991905556,
           "TLS"
          ],
          [
           622.98,
           6.4345144155434175,
           "ERI"
          ],
          [
           34940.41,
           10.461399318021032,
           "KOR"
          ],
          [
           16265.1,
           9.69677698705947,
           "CHL"
          ],
          [
           4646.54,
           8.443878135590491,
           "FJI"
          ],
          [
           27478.39,
           10.221155156555891,
           "BHS"
          ],
          [
           31448.91,
           10.356119603340378,
           "BRN"
          ],
          [
           12207.26,
           9.4097861356975,
           "BGR"
          ],
          [
           551.13,
           6.311970715988956,
           "COD"
          ],
          [
           66915.86,
           11.111191288273718,
           "AUS"
          ],
          [
           7121,
           8.870803443982124,
           "BLR"
          ],
          [
           4450.53,
           8.400778469191906,
           "TON"
          ],
          [
           16983.45,
           9.739994619439049,
           "HRV"
          ],
          [
           14697.75,
           9.595449699827274,
           "ROU"
          ],
          [
           7605.45,
           8.936620374540457,
           "GNQ"
          ],
          [
           8643.29,
           9.064538576354154,
           "SRB"
          ],
          [
           3918.66,
           8.27350503761032,
           "WSM"
          ],
          [
           18082.69,
           9.802710406064888,
           "KNA"
          ],
          [
           18728.32,
           9.83779209573985,
           "HUN"
          ],
          [
           9252.31,
           9.132628529058922,
           "MNE"
          ],
          [
           16032.5,
           9.682373191023018,
           "TTO"
          ],
          [
           26808.54,
           10.196475772455099,
           "CZE"
          ],
          [
           17225.46,
           9.75414380089538,
           "BRB"
          ],
          [
           2568.92,
           7.851240856103404,
           "LAO"
          ],
          [
           12084.13,
           9.399648300475839,
           "PLW"
          ],
          [
           4551.18,
           8.42314181898136,
           "SLV"
          ],
          [
           3072.57,
           8.03026962393087,
           "VUT"
          ],
          [
           66821.72,
           11.109783456375627,
           "SGP"
          ],
          [
           4058.35,
           8.308531766050429,
           "JOR"
          ],
          [
           48823.51,
           10.795967238126124,
           "NZL"
          ],
          [
           15245.82,
           9.632060646103081,
           "ATG"
          ],
          [
           7143.28,
           8.873927333602719,
           "BIH"
          ],
          [
           6599.62,
           8.794767350599393,
           "MKD"
          ],
          [
           21390.45,
           9.970699839723322,
           "SVK"
          ],
          [
           4468.42,
           8.40479015756171,
           "MDA"
          ],
          [
           6111.27,
           8.717889886540394,
           "MHL"
          ],
          [
           3572.66,
           8.181065695365165,
           "FSM"
          ],
          [
           310.71,
           5.738860001268897,
           "BDI"
          ],
          [
           461.36,
           6.134178649307157,
           "CAF"
          ],
          [
           5370.42,
           8.588661396734992,
           "TUV"
          ],
          [
           10366.29,
           9.24631447443396,
           "MDV"
          ],
          [
           400.44,
           5.992563942551283,
           "SSD"
          ],
          [
           447,
           6.102558594613569,
           "SOM"
          ],
          [
           17312.64,
           9.759192149539597,
           "URY"
          ],
          [
           5791.25,
           8.664103436730858,
           "LBY"
          ],
          [
           5183.58,
           8.553251216231414,
           "JAM"
          ],
          [
           8440.03,
           9.040741142086056,
           "VCT"
          ],
          [
           29134.8,
           10.279688614957767,
           "SVN"
          ],
          [
           9824.06,
           9.19258975786013,
           "LCA"
          ],
          [
           7570.78,
           8.932051379432528,
           "DMA"
          ]
         ],
         "geo": "geo",
         "hovertemplate": "<b>%{hovertext}</b><br><br>GDP, Per Capita GDP - US Dollars=%{customdata[0]}<extra></extra>",
         "hovertext": [
          "Turkey",
          "Cabo Verde",
          "South Africa",
          "Colombia",
          "Peru",
          "Iraq",
          "Suriname",
          "Venezuela",
          "Mauritius",
          "Botswana",
          "Iran",
          "Guyana",
          "Senegal",
          "Brazil",
          "Cambodia",
          "Nigeria",
          "Philippines",
          "Rwanda",
          "Ghana",
          "Ethiopia",
          "Bolivia",
          "Kenya",
          "Afghanistan",
          "Indonesia",
          "Gambia",
          "Namibia",
          "Mexico",
          "Sao Tome and Principe",
          "Tunisia",
          "Algeria",
          "Morocco",
          "Seychelles",
          "Djibouti",
          "India",
          "Angola",
          "Saudi Arabia",
          "Côte d'Ivoire",
          "Switzerland",
          "Yemen",
          "Tajikistan",
          "Zambia",
          "Syria",
          "Turkmenistan",
          "Ireland",
          "Korea, DPR",
          "Malawi",
          "Myanmar",
          "Nepal",
          "Tanzania",
          "Ecuador",
          "Egypt",
          "Costa Rica",
          "Togo",
          "Bahrain",
          "Uganda",
          "Uzbekistan",
          "Vietnam",
          "Thailand",
          "Panama",
          "United Arab Emirates",
          "Nicaragua",
          "Kuwait",
          "Lesotho",
          "Burkina Faso",
          "Haiti",
          "Azerbaijan",
          "Malaysia",
          "Benin",
          "Papua New Guinea",
          "Oman",
          "Pakistan",
          "Sierra Leone",
          "France",
          "Netherlands",
          "Kyrgyzstan",
          "Andorra",
          "Madagascar",
          "Israel",
          "Belgium",
          "Qatar",
          "Honduras",
          "Mozambique",
          "Germany",
          "United Kingdom",
          "Austria",
          "Congo, Rep.",
          "Lebanon",
          "Liechtenstein",
          "China",
          "Bhutan",
          "Luxembourg",
          "United States",
          "Kazakhstan",
          "Dominican Republic",
          "Eswatini",
          "Italy",
          "Niger",
          "Malta",
          "Zimbabwe",
          "Liberia",
          "Mongolia",
          "Gabon",
          "Portugal",
          "Greece",
          "Cuba",
          "Cameroon",
          "Mauritania",
          "Sudan",
          "Guinea",
          "Paraguay",
          "Bangladesh",
          "Armenia",
          "Spain",
          "Cyprus",
          "Monaco",
          "Chad",
          "Nauru",
          "San Marino",
          "Guinea-Bissau",
          "Japan",
          "Norway",
          "Belize",
          "Mali",
          "Sri Lanka",
          "Estonia",
          "Sweden",
          "Georgia",
          "Denmark",
          "Argentina",
          "Latvia",
          "Lithuania",
          "Canada",
          "Finland",
          "Grenada",
          "Iceland",
          "Comoros",
          "Ukraine",
          "Solomon Islands",
          "Guatemala",
          "Albania",
          "Poland",
          "Kiribati",
          "Russia",
          "Timor-Leste",
          "Eritrea",
          "Korea, Rep.",
          "Chile",
          "Fiji",
          "Bahamas",
          "Brunei",
          "Bulgaria",
          "Congo, Dem. Rep.",
          "Australia",
          "Belarus",
          "Tonga",
          "Croatia",
          "Romania",
          "Equatorial Guinea",
          "Serbia",
          "Samoa",
          "St. Kitts and Nevis",
          "Hungary",
          "Montenegro",
          "Trinidad and Tobago",
          "Czech Republic",
          "Barbados",
          "Laos",
          "Palau",
          "El Salvador",
          "Vanuatu",
          "Singapore",
          "Jordan",
          "New Zealand",
          "Antigua and Barbuda",
          "Bosnia and Herzegovina",
          "North Macedonia",
          "Slovakia",
          "Moldova",
          "Marshall Islands",
          "Micronesia (Federated States of)",
          "Burundi",
          "Central African Republic",
          "Tuvalu",
          "Maldives",
          "South Sudan",
          "Somalia",
          "Uruguay",
          "Libya",
          "Jamaica",
          "St. Vincent and the Grenadines",
          "Slovenia",
          "St. Lucia",
          "Dominica"
         ],
         "locations": [
          "TUR",
          "CPV",
          "ZAF",
          "COL",
          "PER",
          "IRQ",
          "SUR",
          "VEN",
          "MUS",
          "BWA",
          "IRN",
          "GUY",
          "SEN",
          "BRA",
          "KHM",
          "NGA",
          "PHL",
          "RWA",
          "GHA",
          "ETH",
          "BOL",
          "KEN",
          "AFG",
          "IDN",
          "GMB",
          "NAM",
          "MEX",
          "STP",
          "TUN",
          "DZA",
          "MAR",
          "SYC",
          "DJI",
          "IND",
          "AGO",
          "SAU",
          "CIV",
          "CHE",
          "YEM",
          "TJK",
          "ZMB",
          "SYR",
          "TKM",
          "IRL",
          "PRK",
          "MWI",
          "MMR",
          "NPL",
          "TZA",
          "ECU",
          "EGY",
          "CRI",
          "TGO",
          "BHR",
          "UGA",
          "UZB",
          "VNM",
          "THA",
          "PAN",
          "ARE",
          "NIC",
          "KWT",
          "LSO",
          "BFA",
          "HTI",
          "AZE",
          "MYS",
          "BEN",
          "PNG",
          "OMN",
          "PAK",
          "SLE",
          "FRA",
          "NLD",
          "KGZ",
          "AND",
          "MDG",
          "ISR",
          "BEL",
          "QAT",
          "HND",
          "MOZ",
          "DEU",
          "GBR",
          "AUT",
          "COG",
          "LBN",
          "LIE",
          "CHN",
          "BTN",
          "LUX",
          "USA",
          "KAZ",
          "DOM",
          "SWZ",
          "ITA",
          "NER",
          "MLT",
          "ZWE",
          "LBR",
          "MNG",
          "GAB",
          "PRT",
          "GRC",
          "CUB",
          "CMR",
          "MRT",
          "SDN",
          "GIN",
          "PRY",
          "BGD",
          "ARM",
          "ESP",
          "CYP",
          "MCO",
          "TCD",
          "NRU",
          "SMR",
          "GNB",
          "JPN",
          "NOR",
          "BLZ",
          "MLI",
          "LKA",
          "EST",
          "SWE",
          "GEO",
          "DNK",
          "ARG",
          "LVA",
          "LTU",
          "CAN",
          "FIN",
          "GRD",
          "ISL",
          "COM",
          "UKR",
          "SLB",
          "GTM",
          "ALB",
          "POL",
          "KIR",
          "RUS",
          "TLS",
          "ERI",
          "KOR",
          "CHL",
          "FJI",
          "BHS",
          "BRN",
          "BGR",
          "COD",
          "AUS",
          "BLR",
          "TON",
          "HRV",
          "ROU",
          "GNQ",
          "SRB",
          "WSM",
          "KNA",
          "HUN",
          "MNE",
          "TTO",
          "CZE",
          "BRB",
          "LAO",
          "PLW",
          "SLV",
          "VUT",
          "SGP",
          "JOR",
          "NZL",
          "ATG",
          "BIH",
          "MKD",
          "SVK",
          "MDA",
          "MHL",
          "FSM",
          "BDI",
          "CAF",
          "TUV",
          "MDV",
          "SSD",
          "SOM",
          "URY",
          "LBY",
          "JAM",
          "VCT",
          "SVN",
          "LCA",
          "DMA"
         ],
         "name": "",
         "type": "choropleth",
         "z": [
          9.175876248293436,
          8.099624125063333,
          8.861500368857412,
          8.716722508481089,
          8.798099862587742,
          8.452362360893774,
          8.56774561142413,
          8.285268700244613,
          9.090763728767023,
          8.825449652103627,
          8.819668305292536,
          9.210195361462667,
          7.400547269858304,
          8.923612510786663,
          7.382534984595664,
          7.6105111478836776,
          8.149177035511787,
          6.712129613704667,
          7.786813400117076,
          6.71573483971922,
          8.11528176150737,
          7.640988183081368,
          5.920371256999736,
          8.373948491274868,
          6.64917883166901,
          8.483878364135855,
          9.214897970328638,
          7.818357863978618,
          8.244644036588648,
          8.216174581379061,
          8.256680012632025,
          9.399689676202195,
          8.11612141846273,
          7.729506733830049,
          7.622771577625611,
          10.05129832038292,
          7.839490134050029,
          11.445988015369975,
          5.709068479085438,
          6.799111601865393,
          6.9980529169629175,
          6.829480174843276,
          9.048723388543914,
          11.523954322914793,
          6.483336682956885,
          6.418919431441066,
          6.992950841711779,
          7.094649697621226,
          7.0354358388169125,
          8.693686128091684,
          8.26822401089067,
          9.431276689140338,
          6.850062604803488,
          10.18727341962788,
          6.835582356488555,
          7.616564172131706,
          8.231240289753229,
          8.863146058782666,
          9.589981561141528,
          10.675801441809918,
          7.623412203602651,
          10.378173328405925,
          6.947274024642395,
          6.794676162530236,
          7.416715163338285,
          8.574790175736759,
          9.314785068399564,
          7.215908872617752,
          7.8909454927313805,
          9.878655267692041,
          7.299871688320569,
          6.223805670776234,
          10.697144779223068,
          10.965977722445087,
          7.199685813923181,
          10.646996043321272,
          6.214047941563629,
          10.898793140948856,
          10.84282095122257,
          11.10943994618156,
          7.92722334510692,
          6.198153460350231,
          10.841013610393587,
          10.748105253072913,
          10.893779207977367,
          7.696358083314375,
          8.82244009504749,
          12.039192572998745,
          9.428448064612098,
          8.027120723443204,
          11.803693271643452,
          11.14453501889404,
          9.215814362315982,
          9.04508240060811,
          8.286246776789005,
          10.479506639168525,
          6.38118976382064,
          10.423518675381512,
          7.31853291724618,
          6.154369652030428,
          8.414021389886305,
          8.975990513901174,
          10.11258004850765,
          9.931648290562537,
          9.32859263086346,
          7.419386578104558,
          7.680655894611102,
          6.666422298467717,
          7.077548685198821,
          8.705354331274162,
          7.80380656817016,
          8.510474672628074,
          10.31089710232503,
          10.382231932377795,
          12.364430519832982,
          6.86188933510995,
          9.424674836969878,
          10.828244345963729,
          6.631408716194102,
          10.587844461613768,
          11.399103810173731,
          8.7369229222706,
          6.773709468353072,
          8.273341703136685,
          10.239624733032306,
          11.014188313645574,
          8.51220476990481,
          11.12780283841071,
          9.28369120042608,
          9.964933484044227,
          10.079293344430306,
          10.86115167888164,
          10.891232524243339,
          9.099434509262727,
          11.143789344928658,
          7.397242857300561,
          8.433017789245815,
          7.743261027764507,
          8.49355806948547,
          8.763499991317698,
          9.783375431665291,
          7.475866308524259,
          9.413996878192911,
          7.324634991905556,
          6.4345144155434175,
          10.461399318021032,
          9.69677698705947,
          8.443878135590491,
          10.221155156555891,
          10.356119603340378,
          9.4097861356975,
          6.311970715988956,
          11.111191288273718,
          8.870803443982124,
          8.400778469191906,
          9.739994619439049,
          9.595449699827274,
          8.936620374540457,
          9.064538576354154,
          8.27350503761032,
          9.802710406064888,
          9.83779209573985,
          9.132628529058922,
          9.682373191023018,
          10.196475772455099,
          9.75414380089538,
          7.851240856103404,
          9.399648300475839,
          8.42314181898136,
          8.03026962393087,
          11.109783456375627,
          8.308531766050429,
          10.795967238126124,
          9.632060646103081,
          8.873927333602719,
          8.794767350599393,
          9.970699839723322,
          8.40479015756171,
          8.717889886540394,
          8.181065695365165,
          5.738860001268897,
          6.134178649307157,
          8.588661396734992,
          9.24631447443396,
          5.992563942551283,
          6.102558594613569,
          9.759192149539597,
          8.664103436730858,
          8.553251216231414,
          9.040741142086056,
          10.279688614957767,
          9.19258975786013,
          8.932051379432528
         ]
        }
       ],
       "layout": {
        "coloraxis": {
         "colorbar": {
          "ticktext": [
           "0.1k",
           "1k",
           "10k",
           "100k"
          ],
          "tickvals": [
           4.605170185988092,
           6.907755278982137,
           9.210340371976184,
           11.512925464970229
          ],
          "title": {
           "text": "GDP per Capita"
          }
         },
         "colorscale": [
          [
           0,
           "rgb(165,0,38)"
          ],
          [
           0.1,
           "rgb(215,48,39)"
          ],
          [
           0.2,
           "rgb(244,109,67)"
          ],
          [
           0.3,
           "rgb(253,174,97)"
          ],
          [
           0.4,
           "rgb(254,224,139)"
          ],
          [
           0.5,
           "rgb(255,255,191)"
          ],
          [
           0.6,
           "rgb(217,239,139)"
          ],
          [
           0.7,
           "rgb(166,217,106)"
          ],
          [
           0.8,
           "rgb(102,189,99)"
          ],
          [
           0.9,
           "rgb(26,152,80)"
          ],
          [
           1,
           "rgb(0,104,55)"
          ]
         ]
        },
        "geo": {
         "center": {},
         "domain": {
          "x": [
           0,
           1
          ],
          "y": [
           0,
           1
          ]
         },
         "projection": {
          "type": "orthographic"
         }
        },
        "height": 550,
        "legend": {
         "tracegroupgap": 0
        },
        "template": {
         "data": {
          "bar": [
           {
            "error_x": {
             "color": "#2a3f5f"
            },
            "error_y": {
             "color": "#2a3f5f"
            },
            "marker": {
             "line": {
              "color": "white",
              "width": 0.5
             },
             "pattern": {
              "fillmode": "overlay",
              "size": 10,
              "solidity": 0.2
             }
            },
            "type": "bar"
           }
          ],
          "barpolar": [
           {
            "marker": {
             "line": {
              "color": "white",
              "width": 0.5
             },
             "pattern": {
              "fillmode": "overlay",
              "size": 10,
              "solidity": 0.2
             }
            },
            "type": "barpolar"
           }
          ],
          "carpet": [
           {
            "aaxis": {
             "endlinecolor": "#2a3f5f",
             "gridcolor": "#C8D4E3",
             "linecolor": "#C8D4E3",
             "minorgridcolor": "#C8D4E3",
             "startlinecolor": "#2a3f5f"
            },
            "baxis": {
             "endlinecolor": "#2a3f5f",
             "gridcolor": "#C8D4E3",
             "linecolor": "#C8D4E3",
             "minorgridcolor": "#C8D4E3",
             "startlinecolor": "#2a3f5f"
            },
            "type": "carpet"
           }
          ],
          "choropleth": [
           {
            "colorbar": {
             "outlinewidth": 0,
             "ticks": ""
            },
            "type": "choropleth"
           }
          ],
          "contour": [
           {
            "colorbar": {
             "outlinewidth": 0,
             "ticks": ""
            },
            "colorscale": [
             [
              0,
              "#0d0887"
             ],
             [
              0.1111111111111111,
              "#46039f"
             ],
             [
              0.2222222222222222,
              "#7201a8"
             ],
             [
              0.3333333333333333,
              "#9c179e"
             ],
             [
              0.4444444444444444,
              "#bd3786"
             ],
             [
              0.5555555555555556,
              "#d8576b"
             ],
             [
              0.6666666666666666,
              "#ed7953"
             ],
             [
              0.7777777777777778,
              "#fb9f3a"
             ],
             [
              0.8888888888888888,
              "#fdca26"
             ],
             [
              1,
              "#f0f921"
             ]
            ],
            "type": "contour"
           }
          ],
          "contourcarpet": [
           {
            "colorbar": {
             "outlinewidth": 0,
             "ticks": ""
            },
            "type": "contourcarpet"
           }
          ],
          "heatmap": [
           {
            "colorbar": {
             "outlinewidth": 0,
             "ticks": ""
            },
            "colorscale": [
             [
              0,
              "#0d0887"
             ],
             [
              0.1111111111111111,
              "#46039f"
             ],
             [
              0.2222222222222222,
              "#7201a8"
             ],
             [
              0.3333333333333333,
              "#9c179e"
             ],
             [
              0.4444444444444444,
              "#bd3786"
             ],
             [
              0.5555555555555556,
              "#d8576b"
             ],
             [
              0.6666666666666666,
              "#ed7953"
             ],
             [
              0.7777777777777778,
              "#fb9f3a"
             ],
             [
              0.8888888888888888,
              "#fdca26"
             ],
             [
              1,
              "#f0f921"
             ]
            ],
            "type": "heatmap"
           }
          ],
          "heatmapgl": [
           {
            "colorbar": {
             "outlinewidth": 0,
             "ticks": ""
            },
            "colorscale": [
             [
              0,
              "#0d0887"
             ],
             [
              0.1111111111111111,
              "#46039f"
             ],
             [
              0.2222222222222222,
              "#7201a8"
             ],
             [
              0.3333333333333333,
              "#9c179e"
             ],
             [
              0.4444444444444444,
              "#bd3786"
             ],
             [
              0.5555555555555556,
              "#d8576b"
             ],
             [
              0.6666666666666666,
              "#ed7953"
             ],
             [
              0.7777777777777778,
              "#fb9f3a"
             ],
             [
              0.8888888888888888,
              "#fdca26"
             ],
             [
              1,
              "#f0f921"
             ]
            ],
            "type": "heatmapgl"
           }
          ],
          "histogram": [
           {
            "marker": {
             "pattern": {
              "fillmode": "overlay",
              "size": 10,
              "solidity": 0.2
             }
            },
            "type": "histogram"
           }
          ],
          "histogram2d": [
           {
            "colorbar": {
             "outlinewidth": 0,
             "ticks": ""
            },
            "colorscale": [
             [
              0,
              "#0d0887"
             ],
             [
              0.1111111111111111,
              "#46039f"
             ],
             [
              0.2222222222222222,
              "#7201a8"
             ],
             [
              0.3333333333333333,
              "#9c179e"
             ],
             [
              0.4444444444444444,
              "#bd3786"
             ],
             [
              0.5555555555555556,
              "#d8576b"
             ],
             [
              0.6666666666666666,
              "#ed7953"
             ],
             [
              0.7777777777777778,
              "#fb9f3a"
             ],
             [
              0.8888888888888888,
              "#fdca26"
             ],
             [
              1,
              "#f0f921"
             ]
            ],
            "type": "histogram2d"
           }
          ],
          "histogram2dcontour": [
           {
            "colorbar": {
             "outlinewidth": 0,
             "ticks": ""
            },
            "colorscale": [
             [
              0,
              "#0d0887"
             ],
             [
              0.1111111111111111,
              "#46039f"
             ],
             [
              0.2222222222222222,
              "#7201a8"
             ],
             [
              0.3333333333333333,
              "#9c179e"
             ],
             [
              0.4444444444444444,
              "#bd3786"
             ],
             [
              0.5555555555555556,
              "#d8576b"
             ],
             [
              0.6666666666666666,
              "#ed7953"
             ],
             [
              0.7777777777777778,
              "#fb9f3a"
             ],
             [
              0.8888888888888888,
              "#fdca26"
             ],
             [
              1,
              "#f0f921"
             ]
            ],
            "type": "histogram2dcontour"
           }
          ],
          "mesh3d": [
           {
            "colorbar": {
             "outlinewidth": 0,
             "ticks": ""
            },
            "type": "mesh3d"
           }
          ],
          "parcoords": [
           {
            "line": {
             "colorbar": {
              "outlinewidth": 0,
              "ticks": ""
             }
            },
            "type": "parcoords"
           }
          ],
          "pie": [
           {
            "automargin": true,
            "type": "pie"
           }
          ],
          "scatter": [
           {
            "fillpattern": {
             "fillmode": "overlay",
             "size": 10,
             "solidity": 0.2
            },
            "type": "scatter"
           }
          ],
          "scatter3d": [
           {
            "line": {
             "colorbar": {
              "outlinewidth": 0,
              "ticks": ""
             }
            },
            "marker": {
             "colorbar": {
              "outlinewidth": 0,
              "ticks": ""
             }
            },
            "type": "scatter3d"
           }
          ],
          "scattercarpet": [
           {
            "marker": {
             "colorbar": {
              "outlinewidth": 0,
              "ticks": ""
             }
            },
            "type": "scattercarpet"
           }
          ],
          "scattergeo": [
           {
            "marker": {
             "colorbar": {
              "outlinewidth": 0,
              "ticks": ""
             }
            },
            "type": "scattergeo"
           }
          ],
          "scattergl": [
           {
            "marker": {
             "colorbar": {
              "outlinewidth": 0,
              "ticks": ""
             }
            },
            "type": "scattergl"
           }
          ],
          "scattermapbox": [
           {
            "marker": {
             "colorbar": {
              "outlinewidth": 0,
              "ticks": ""
             }
            },
            "type": "scattermapbox"
           }
          ],
          "scatterpolar": [
           {
            "marker": {
             "colorbar": {
              "outlinewidth": 0,
              "ticks": ""
             }
            },
            "type": "scatterpolar"
           }
          ],
          "scatterpolargl": [
           {
            "marker": {
             "colorbar": {
              "outlinewidth": 0,
              "ticks": ""
             }
            },
            "type": "scatterpolargl"
           }
          ],
          "scatterternary": [
           {
            "marker": {
             "colorbar": {
              "outlinewidth": 0,
              "ticks": ""
             }
            },
            "type": "scatterternary"
           }
          ],
          "surface": [
           {
            "colorbar": {
             "outlinewidth": 0,
             "ticks": ""
            },
            "colorscale": [
             [
              0,
              "#0d0887"
             ],
             [
              0.1111111111111111,
              "#46039f"
             ],
             [
              0.2222222222222222,
              "#7201a8"
             ],
             [
              0.3333333333333333,
              "#9c179e"
             ],
             [
              0.4444444444444444,
              "#bd3786"
             ],
             [
              0.5555555555555556,
              "#d8576b"
             ],
             [
              0.6666666666666666,
              "#ed7953"
             ],
             [
              0.7777777777777778,
              "#fb9f3a"
             ],
             [
              0.8888888888888888,
              "#fdca26"
             ],
             [
              1,
              "#f0f921"
             ]
            ],
            "type": "surface"
           }
          ],
          "table": [
           {
            "cells": {
             "fill": {
              "color": "#EBF0F8"
             },
             "line": {
              "color": "white"
             }
            },
            "header": {
             "fill": {
              "color": "#C8D4E3"
             },
             "line": {
              "color": "white"
             }
            },
            "type": "table"
           }
          ]
         },
         "layout": {
          "annotationdefaults": {
           "arrowcolor": "#2a3f5f",
           "arrowhead": 0,
           "arrowwidth": 1
          },
          "autotypenumbers": "strict",
          "coloraxis": {
           "colorbar": {
            "outlinewidth": 0,
            "ticks": ""
           }
          },
          "colorscale": {
           "diverging": [
            [
             0,
             "#8e0152"
            ],
            [
             0.1,
             "#c51b7d"
            ],
            [
             0.2,
             "#de77ae"
            ],
            [
             0.3,
             "#f1b6da"
            ],
            [
             0.4,
             "#fde0ef"
            ],
            [
             0.5,
             "#f7f7f7"
            ],
            [
             0.6,
             "#e6f5d0"
            ],
            [
             0.7,
             "#b8e186"
            ],
            [
             0.8,
             "#7fbc41"
            ],
            [
             0.9,
             "#4d9221"
            ],
            [
             1,
             "#276419"
            ]
           ],
           "sequential": [
            [
             0,
             "#0d0887"
            ],
            [
             0.1111111111111111,
             "#46039f"
            ],
            [
             0.2222222222222222,
             "#7201a8"
            ],
            [
             0.3333333333333333,
             "#9c179e"
            ],
            [
             0.4444444444444444,
             "#bd3786"
            ],
            [
             0.5555555555555556,
             "#d8576b"
            ],
            [
             0.6666666666666666,
             "#ed7953"
            ],
            [
             0.7777777777777778,
             "#fb9f3a"
            ],
            [
             0.8888888888888888,
             "#fdca26"
            ],
            [
             1,
             "#f0f921"
            ]
           ],
           "sequentialminus": [
            [
             0,
             "#0d0887"
            ],
            [
             0.1111111111111111,
             "#46039f"
            ],
            [
             0.2222222222222222,
             "#7201a8"
            ],
            [
             0.3333333333333333,
             "#9c179e"
            ],
            [
             0.4444444444444444,
             "#bd3786"
            ],
            [
             0.5555555555555556,
             "#d8576b"
            ],
            [
             0.6666666666666666,
             "#ed7953"
            ],
            [
             0.7777777777777778,
             "#fb9f3a"
            ],
            [
             0.8888888888888888,
             "#fdca26"
            ],
            [
             1,
             "#f0f921"
            ]
           ]
          },
          "colorway": [
           "#636efa",
           "#EF553B",
           "#00cc96",
           "#ab63fa",
           "#FFA15A",
           "#19d3f3",
           "#FF6692",
           "#B6E880",
           "#FF97FF",
           "#FECB52"
          ],
          "font": {
           "color": "#2a3f5f"
          },
          "geo": {
           "bgcolor": "white",
           "lakecolor": "white",
           "landcolor": "white",
           "showlakes": true,
           "showland": true,
           "subunitcolor": "#C8D4E3"
          },
          "hoverlabel": {
           "align": "left"
          },
          "hovermode": "closest",
          "mapbox": {
           "style": "light"
          },
          "paper_bgcolor": "white",
          "plot_bgcolor": "white",
          "polar": {
           "angularaxis": {
            "gridcolor": "#EBF0F8",
            "linecolor": "#EBF0F8",
            "ticks": ""
           },
           "bgcolor": "white",
           "radialaxis": {
            "gridcolor": "#EBF0F8",
            "linecolor": "#EBF0F8",
            "ticks": ""
           }
          },
          "scene": {
           "xaxis": {
            "backgroundcolor": "white",
            "gridcolor": "#DFE8F3",
            "gridwidth": 2,
            "linecolor": "#EBF0F8",
            "showbackground": true,
            "ticks": "",
            "zerolinecolor": "#EBF0F8"
           },
           "yaxis": {
            "backgroundcolor": "white",
            "gridcolor": "#DFE8F3",
            "gridwidth": 2,
            "linecolor": "#EBF0F8",
            "showbackground": true,
            "ticks": "",
            "zerolinecolor": "#EBF0F8"
           },
           "zaxis": {
            "backgroundcolor": "white",
            "gridcolor": "#DFE8F3",
            "gridwidth": 2,
            "linecolor": "#EBF0F8",
            "showbackground": true,
            "ticks": "",
            "zerolinecolor": "#EBF0F8"
           }
          },
          "shapedefaults": {
           "line": {
            "color": "#2a3f5f"
           }
          },
          "ternary": {
           "aaxis": {
            "gridcolor": "#DFE8F3",
            "linecolor": "#A2B1C6",
            "ticks": ""
           },
           "baxis": {
            "gridcolor": "#DFE8F3",
            "linecolor": "#A2B1C6",
            "ticks": ""
           },
           "bgcolor": "white",
           "caxis": {
            "gridcolor": "#DFE8F3",
            "linecolor": "#A2B1C6",
            "ticks": ""
           }
          },
          "title": {
           "x": 0.05
          },
          "xaxis": {
           "automargin": true,
           "gridcolor": "#EBF0F8",
           "linecolor": "#EBF0F8",
           "ticks": "",
           "title": {
            "standoff": 15
           },
           "zerolinecolor": "#EBF0F8",
           "zerolinewidth": 2
          },
          "yaxis": {
           "automargin": true,
           "gridcolor": "#EBF0F8",
           "linecolor": "#EBF0F8",
           "ticks": "",
           "title": {
            "standoff": 15
           },
           "zerolinecolor": "#EBF0F8",
           "zerolinewidth": 2
          }
         }
        },
        "title": {
         "text": "GDP per Capita by Country in USD$"
        },
        "width": 700
       }
      }
     },
     "metadata": {},
     "output_type": "display_data"
    }
   ],
   "source": [
    "# new column with logarithmic gdp values\n",
    "merged_data['log_gdp'] = np.log(merged_data[gdp_column])\n",
    "\n",
    "# creating globe\n",
    "fig = px.choropleth(merged_data, \n",
    "                    locations='Code Value', # assignment of countries with ISO3\n",
    "                    color=\"log_gdp\", # color scale\n",
    "                    hover_name=\"Country\", # name while hovering\n",
    "                    color_continuous_scale=\"RdYlGn\", # color scheme\n",
    "                    hover_data= {gdp_column : True, \"log_gdp\": False, \"Code Value\" : False}, # hiding unnecessary values\n",
    "                    projection='orthographic', # type of world map\n",
    "                    title='GDP per Capita by Country in USD$', # title\n",
    "                    template=\"plotly_white\") # design\n",
    "\n",
    "# adjusting size and chart legend\n",
    "fig.update_layout(\n",
    "    height=550, width=700,\n",
    "    coloraxis_colorbar=dict(\n",
    "        title=\"GDP per Capita\",  # Titel der Farbskala\n",
    "        tickvals=np.log([100, 1000, 10000, 100000]),  # Anpassung der Werte des Achsenticks\n",
    "        ticktext=[\"0.1k\", \"1k\", \"10k\", \"100k\"]  # Beschriftung des Achsenticks\n",
    "    )\n",
    ")\n",
    "\n",
    "fig.show()"
   ]
  },
  {
   "cell_type": "markdown",
   "metadata": {},
   "source": [
    "### <u> 3.2 Organized Crime Index </u>\n",
    "\n",
    "### 3.2.1 Highest and Lowest Crime"
   ]
  },
  {
   "cell_type": "code",
   "execution_count": 13,
   "metadata": {},
   "outputs": [
    {
     "data": {
      "application/vnd.plotly.v1+json": {
       "config": {
        "plotlyServerURL": "https://plot.ly"
       },
       "data": [
        {
         "alignmentgroup": "True",
         "hovertemplate": "Countries=%{x}<br>Criminality=%{marker.color}<extra></extra>",
         "legendgroup": "",
         "marker": {
          "color": [
           1.54,
           1.76,
           1.78,
           1.88,
           2.04,
           2.2,
           2.31,
           2.35,
           2.36,
           2.43
          ],
          "coloraxis": "coloraxis",
          "pattern": {
           "shape": ""
          }
         },
         "name": "",
         "offsetgroup": "",
         "orientation": "v",
         "showlegend": false,
         "textposition": "auto",
         "type": "bar",
         "x": [
          "Tuvalu",
          "Nauru",
          "Sao Tome and Principe",
          "Liechtenstein",
          "Samoa",
          "Vanuatu",
          "Marshall Islands",
          "Kiribati",
          "Luxembourg",
          "Monaco"
         ],
         "xaxis": "x",
         "y": [
          1.54,
          1.76,
          1.78,
          1.88,
          2.04,
          2.2,
          2.31,
          2.35,
          2.36,
          2.43
         ],
         "yaxis": "y"
        }
       ],
       "layout": {
        "annotations": [
         {
          "showarrow": false,
          "text": "1.54",
          "x": 0,
          "y": 1.6400000000000001
         },
         {
          "showarrow": false,
          "text": "1.76",
          "x": 1,
          "y": 1.86
         },
         {
          "showarrow": false,
          "text": "1.78",
          "x": 2,
          "y": 1.8800000000000001
         },
         {
          "showarrow": false,
          "text": "1.88",
          "x": 3,
          "y": 1.98
         },
         {
          "showarrow": false,
          "text": "2.04",
          "x": 4,
          "y": 2.14
         },
         {
          "showarrow": false,
          "text": "2.2",
          "x": 5,
          "y": 2.3000000000000003
         },
         {
          "showarrow": false,
          "text": "2.31",
          "x": 6,
          "y": 2.41
         },
         {
          "showarrow": false,
          "text": "2.35",
          "x": 7,
          "y": 2.45
         },
         {
          "showarrow": false,
          "text": "2.36",
          "x": 8,
          "y": 2.46
         },
         {
          "showarrow": false,
          "text": "2.43",
          "x": 9,
          "y": 2.5300000000000002
         }
        ],
        "barmode": "relative",
        "coloraxis": {
         "cmax": 3,
         "cmin": 1,
         "colorbar": {
          "title": {
           "text": "Criminality"
          }
         },
         "colorscale": [
          [
           0,
           "#440154"
          ],
          [
           0.1111111111111111,
           "#482878"
          ],
          [
           0.2222222222222222,
           "#3e4989"
          ],
          [
           0.3333333333333333,
           "#31688e"
          ],
          [
           0.4444444444444444,
           "#26828e"
          ],
          [
           0.5555555555555556,
           "#1f9e89"
          ],
          [
           0.6666666666666666,
           "#35b779"
          ],
          [
           0.7777777777777778,
           "#6ece58"
          ],
          [
           0.8888888888888888,
           "#b5de2b"
          ],
          [
           1,
           "#fde725"
          ]
         ]
        },
        "height": 500,
        "legend": {
         "tracegroupgap": 0
        },
        "margin": {
         "t": 60
        },
        "template": {
         "data": {
          "bar": [
           {
            "error_x": {
             "color": "#2a3f5f"
            },
            "error_y": {
             "color": "#2a3f5f"
            },
            "marker": {
             "line": {
              "color": "white",
              "width": 0.5
             },
             "pattern": {
              "fillmode": "overlay",
              "size": 10,
              "solidity": 0.2
             }
            },
            "type": "bar"
           }
          ],
          "barpolar": [
           {
            "marker": {
             "line": {
              "color": "white",
              "width": 0.5
             },
             "pattern": {
              "fillmode": "overlay",
              "size": 10,
              "solidity": 0.2
             }
            },
            "type": "barpolar"
           }
          ],
          "carpet": [
           {
            "aaxis": {
             "endlinecolor": "#2a3f5f",
             "gridcolor": "#C8D4E3",
             "linecolor": "#C8D4E3",
             "minorgridcolor": "#C8D4E3",
             "startlinecolor": "#2a3f5f"
            },
            "baxis": {
             "endlinecolor": "#2a3f5f",
             "gridcolor": "#C8D4E3",
             "linecolor": "#C8D4E3",
             "minorgridcolor": "#C8D4E3",
             "startlinecolor": "#2a3f5f"
            },
            "type": "carpet"
           }
          ],
          "choropleth": [
           {
            "colorbar": {
             "outlinewidth": 0,
             "ticks": ""
            },
            "type": "choropleth"
           }
          ],
          "contour": [
           {
            "colorbar": {
             "outlinewidth": 0,
             "ticks": ""
            },
            "colorscale": [
             [
              0,
              "#0d0887"
             ],
             [
              0.1111111111111111,
              "#46039f"
             ],
             [
              0.2222222222222222,
              "#7201a8"
             ],
             [
              0.3333333333333333,
              "#9c179e"
             ],
             [
              0.4444444444444444,
              "#bd3786"
             ],
             [
              0.5555555555555556,
              "#d8576b"
             ],
             [
              0.6666666666666666,
              "#ed7953"
             ],
             [
              0.7777777777777778,
              "#fb9f3a"
             ],
             [
              0.8888888888888888,
              "#fdca26"
             ],
             [
              1,
              "#f0f921"
             ]
            ],
            "type": "contour"
           }
          ],
          "contourcarpet": [
           {
            "colorbar": {
             "outlinewidth": 0,
             "ticks": ""
            },
            "type": "contourcarpet"
           }
          ],
          "heatmap": [
           {
            "colorbar": {
             "outlinewidth": 0,
             "ticks": ""
            },
            "colorscale": [
             [
              0,
              "#0d0887"
             ],
             [
              0.1111111111111111,
              "#46039f"
             ],
             [
              0.2222222222222222,
              "#7201a8"
             ],
             [
              0.3333333333333333,
              "#9c179e"
             ],
             [
              0.4444444444444444,
              "#bd3786"
             ],
             [
              0.5555555555555556,
              "#d8576b"
             ],
             [
              0.6666666666666666,
              "#ed7953"
             ],
             [
              0.7777777777777778,
              "#fb9f3a"
             ],
             [
              0.8888888888888888,
              "#fdca26"
             ],
             [
              1,
              "#f0f921"
             ]
            ],
            "type": "heatmap"
           }
          ],
          "heatmapgl": [
           {
            "colorbar": {
             "outlinewidth": 0,
             "ticks": ""
            },
            "colorscale": [
             [
              0,
              "#0d0887"
             ],
             [
              0.1111111111111111,
              "#46039f"
             ],
             [
              0.2222222222222222,
              "#7201a8"
             ],
             [
              0.3333333333333333,
              "#9c179e"
             ],
             [
              0.4444444444444444,
              "#bd3786"
             ],
             [
              0.5555555555555556,
              "#d8576b"
             ],
             [
              0.6666666666666666,
              "#ed7953"
             ],
             [
              0.7777777777777778,
              "#fb9f3a"
             ],
             [
              0.8888888888888888,
              "#fdca26"
             ],
             [
              1,
              "#f0f921"
             ]
            ],
            "type": "heatmapgl"
           }
          ],
          "histogram": [
           {
            "marker": {
             "pattern": {
              "fillmode": "overlay",
              "size": 10,
              "solidity": 0.2
             }
            },
            "type": "histogram"
           }
          ],
          "histogram2d": [
           {
            "colorbar": {
             "outlinewidth": 0,
             "ticks": ""
            },
            "colorscale": [
             [
              0,
              "#0d0887"
             ],
             [
              0.1111111111111111,
              "#46039f"
             ],
             [
              0.2222222222222222,
              "#7201a8"
             ],
             [
              0.3333333333333333,
              "#9c179e"
             ],
             [
              0.4444444444444444,
              "#bd3786"
             ],
             [
              0.5555555555555556,
              "#d8576b"
             ],
             [
              0.6666666666666666,
              "#ed7953"
             ],
             [
              0.7777777777777778,
              "#fb9f3a"
             ],
             [
              0.8888888888888888,
              "#fdca26"
             ],
             [
              1,
              "#f0f921"
             ]
            ],
            "type": "histogram2d"
           }
          ],
          "histogram2dcontour": [
           {
            "colorbar": {
             "outlinewidth": 0,
             "ticks": ""
            },
            "colorscale": [
             [
              0,
              "#0d0887"
             ],
             [
              0.1111111111111111,
              "#46039f"
             ],
             [
              0.2222222222222222,
              "#7201a8"
             ],
             [
              0.3333333333333333,
              "#9c179e"
             ],
             [
              0.4444444444444444,
              "#bd3786"
             ],
             [
              0.5555555555555556,
              "#d8576b"
             ],
             [
              0.6666666666666666,
              "#ed7953"
             ],
             [
              0.7777777777777778,
              "#fb9f3a"
             ],
             [
              0.8888888888888888,
              "#fdca26"
             ],
             [
              1,
              "#f0f921"
             ]
            ],
            "type": "histogram2dcontour"
           }
          ],
          "mesh3d": [
           {
            "colorbar": {
             "outlinewidth": 0,
             "ticks": ""
            },
            "type": "mesh3d"
           }
          ],
          "parcoords": [
           {
            "line": {
             "colorbar": {
              "outlinewidth": 0,
              "ticks": ""
             }
            },
            "type": "parcoords"
           }
          ],
          "pie": [
           {
            "automargin": true,
            "type": "pie"
           }
          ],
          "scatter": [
           {
            "fillpattern": {
             "fillmode": "overlay",
             "size": 10,
             "solidity": 0.2
            },
            "type": "scatter"
           }
          ],
          "scatter3d": [
           {
            "line": {
             "colorbar": {
              "outlinewidth": 0,
              "ticks": ""
             }
            },
            "marker": {
             "colorbar": {
              "outlinewidth": 0,
              "ticks": ""
             }
            },
            "type": "scatter3d"
           }
          ],
          "scattercarpet": [
           {
            "marker": {
             "colorbar": {
              "outlinewidth": 0,
              "ticks": ""
             }
            },
            "type": "scattercarpet"
           }
          ],
          "scattergeo": [
           {
            "marker": {
             "colorbar": {
              "outlinewidth": 0,
              "ticks": ""
             }
            },
            "type": "scattergeo"
           }
          ],
          "scattergl": [
           {
            "marker": {
             "colorbar": {
              "outlinewidth": 0,
              "ticks": ""
             }
            },
            "type": "scattergl"
           }
          ],
          "scattermapbox": [
           {
            "marker": {
             "colorbar": {
              "outlinewidth": 0,
              "ticks": ""
             }
            },
            "type": "scattermapbox"
           }
          ],
          "scatterpolar": [
           {
            "marker": {
             "colorbar": {
              "outlinewidth": 0,
              "ticks": ""
             }
            },
            "type": "scatterpolar"
           }
          ],
          "scatterpolargl": [
           {
            "marker": {
             "colorbar": {
              "outlinewidth": 0,
              "ticks": ""
             }
            },
            "type": "scatterpolargl"
           }
          ],
          "scatterternary": [
           {
            "marker": {
             "colorbar": {
              "outlinewidth": 0,
              "ticks": ""
             }
            },
            "type": "scatterternary"
           }
          ],
          "surface": [
           {
            "colorbar": {
             "outlinewidth": 0,
             "ticks": ""
            },
            "colorscale": [
             [
              0,
              "#0d0887"
             ],
             [
              0.1111111111111111,
              "#46039f"
             ],
             [
              0.2222222222222222,
              "#7201a8"
             ],
             [
              0.3333333333333333,
              "#9c179e"
             ],
             [
              0.4444444444444444,
              "#bd3786"
             ],
             [
              0.5555555555555556,
              "#d8576b"
             ],
             [
              0.6666666666666666,
              "#ed7953"
             ],
             [
              0.7777777777777778,
              "#fb9f3a"
             ],
             [
              0.8888888888888888,
              "#fdca26"
             ],
             [
              1,
              "#f0f921"
             ]
            ],
            "type": "surface"
           }
          ],
          "table": [
           {
            "cells": {
             "fill": {
              "color": "#EBF0F8"
             },
             "line": {
              "color": "white"
             }
            },
            "header": {
             "fill": {
              "color": "#C8D4E3"
             },
             "line": {
              "color": "white"
             }
            },
            "type": "table"
           }
          ]
         },
         "layout": {
          "annotationdefaults": {
           "arrowcolor": "#2a3f5f",
           "arrowhead": 0,
           "arrowwidth": 1
          },
          "autotypenumbers": "strict",
          "coloraxis": {
           "colorbar": {
            "outlinewidth": 0,
            "ticks": ""
           }
          },
          "colorscale": {
           "diverging": [
            [
             0,
             "#8e0152"
            ],
            [
             0.1,
             "#c51b7d"
            ],
            [
             0.2,
             "#de77ae"
            ],
            [
             0.3,
             "#f1b6da"
            ],
            [
             0.4,
             "#fde0ef"
            ],
            [
             0.5,
             "#f7f7f7"
            ],
            [
             0.6,
             "#e6f5d0"
            ],
            [
             0.7,
             "#b8e186"
            ],
            [
             0.8,
             "#7fbc41"
            ],
            [
             0.9,
             "#4d9221"
            ],
            [
             1,
             "#276419"
            ]
           ],
           "sequential": [
            [
             0,
             "#0d0887"
            ],
            [
             0.1111111111111111,
             "#46039f"
            ],
            [
             0.2222222222222222,
             "#7201a8"
            ],
            [
             0.3333333333333333,
             "#9c179e"
            ],
            [
             0.4444444444444444,
             "#bd3786"
            ],
            [
             0.5555555555555556,
             "#d8576b"
            ],
            [
             0.6666666666666666,
             "#ed7953"
            ],
            [
             0.7777777777777778,
             "#fb9f3a"
            ],
            [
             0.8888888888888888,
             "#fdca26"
            ],
            [
             1,
             "#f0f921"
            ]
           ],
           "sequentialminus": [
            [
             0,
             "#0d0887"
            ],
            [
             0.1111111111111111,
             "#46039f"
            ],
            [
             0.2222222222222222,
             "#7201a8"
            ],
            [
             0.3333333333333333,
             "#9c179e"
            ],
            [
             0.4444444444444444,
             "#bd3786"
            ],
            [
             0.5555555555555556,
             "#d8576b"
            ],
            [
             0.6666666666666666,
             "#ed7953"
            ],
            [
             0.7777777777777778,
             "#fb9f3a"
            ],
            [
             0.8888888888888888,
             "#fdca26"
            ],
            [
             1,
             "#f0f921"
            ]
           ]
          },
          "colorway": [
           "#636efa",
           "#EF553B",
           "#00cc96",
           "#ab63fa",
           "#FFA15A",
           "#19d3f3",
           "#FF6692",
           "#B6E880",
           "#FF97FF",
           "#FECB52"
          ],
          "font": {
           "color": "#2a3f5f"
          },
          "geo": {
           "bgcolor": "white",
           "lakecolor": "white",
           "landcolor": "white",
           "showlakes": true,
           "showland": true,
           "subunitcolor": "#C8D4E3"
          },
          "hoverlabel": {
           "align": "left"
          },
          "hovermode": "closest",
          "mapbox": {
           "style": "light"
          },
          "paper_bgcolor": "white",
          "plot_bgcolor": "white",
          "polar": {
           "angularaxis": {
            "gridcolor": "#EBF0F8",
            "linecolor": "#EBF0F8",
            "ticks": ""
           },
           "bgcolor": "white",
           "radialaxis": {
            "gridcolor": "#EBF0F8",
            "linecolor": "#EBF0F8",
            "ticks": ""
           }
          },
          "scene": {
           "xaxis": {
            "backgroundcolor": "white",
            "gridcolor": "#DFE8F3",
            "gridwidth": 2,
            "linecolor": "#EBF0F8",
            "showbackground": true,
            "ticks": "",
            "zerolinecolor": "#EBF0F8"
           },
           "yaxis": {
            "backgroundcolor": "white",
            "gridcolor": "#DFE8F3",
            "gridwidth": 2,
            "linecolor": "#EBF0F8",
            "showbackground": true,
            "ticks": "",
            "zerolinecolor": "#EBF0F8"
           },
           "zaxis": {
            "backgroundcolor": "white",
            "gridcolor": "#DFE8F3",
            "gridwidth": 2,
            "linecolor": "#EBF0F8",
            "showbackground": true,
            "ticks": "",
            "zerolinecolor": "#EBF0F8"
           }
          },
          "shapedefaults": {
           "line": {
            "color": "#2a3f5f"
           }
          },
          "ternary": {
           "aaxis": {
            "gridcolor": "#DFE8F3",
            "linecolor": "#A2B1C6",
            "ticks": ""
           },
           "baxis": {
            "gridcolor": "#DFE8F3",
            "linecolor": "#A2B1C6",
            "ticks": ""
           },
           "bgcolor": "white",
           "caxis": {
            "gridcolor": "#DFE8F3",
            "linecolor": "#A2B1C6",
            "ticks": ""
           }
          },
          "title": {
           "x": 0.05
          },
          "xaxis": {
           "automargin": true,
           "gridcolor": "#EBF0F8",
           "linecolor": "#EBF0F8",
           "ticks": "",
           "title": {
            "standoff": 15
           },
           "zerolinecolor": "#EBF0F8",
           "zerolinewidth": 2
          },
          "yaxis": {
           "automargin": true,
           "gridcolor": "#EBF0F8",
           "linecolor": "#EBF0F8",
           "ticks": "",
           "title": {
            "standoff": 15
           },
           "zerolinecolor": "#EBF0F8",
           "zerolinewidth": 2
          }
         }
        },
        "title": {
         "text": "Countries with the lowest organized criminality"
        },
        "width": 1250,
        "xaxis": {
         "anchor": "y",
         "domain": [
          0,
          1
         ],
         "title": {
          "text": "Countries"
         }
        },
        "yaxis": {
         "anchor": "x",
         "domain": [
          0,
          1
         ],
         "title": {
          "text": "Criminality"
         }
        }
       }
      }
     },
     "metadata": {},
     "output_type": "display_data"
    },
    {
     "data": {
      "application/vnd.plotly.v1+json": {
       "config": {
        "plotlyServerURL": "https://plot.ly"
       },
       "data": [
        {
         "alignmentgroup": "True",
         "hovertemplate": "Countries=%{x}<br>Criminality=%{marker.color}<extra></extra>",
         "legendgroup": "",
         "marker": {
          "color": [
           7.75,
           7.66,
           7.59,
           7.56,
           7.15,
           7.1,
           7.08,
           7.05,
           7.04,
           6.98
          ],
          "coloraxis": "coloraxis",
          "pattern": {
           "shape": ""
          }
         },
         "name": "",
         "offsetgroup": "",
         "orientation": "v",
         "showlegend": false,
         "textposition": "auto",
         "type": "bar",
         "x": [
          "Congo, Dem. Rep.",
          "Colombia",
          "Myanmar",
          "Mexico",
          "Nigeria",
          "Iran",
          "Afghanistan",
          "Iraq",
          "Central African Republic",
          "Honduras"
         ],
         "xaxis": "x",
         "y": [
          7.75,
          7.66,
          7.59,
          7.56,
          7.15,
          7.1,
          7.08,
          7.05,
          7.04,
          6.98
         ],
         "yaxis": "y"
        }
       ],
       "layout": {
        "annotations": [
         {
          "font": {
           "size": 13
          },
          "showarrow": false,
          "text": "7.75",
          "x": 0,
          "y": 7.75,
          "yshift": 9
         },
         {
          "font": {
           "size": 13
          },
          "showarrow": false,
          "text": "7.66",
          "x": 1,
          "y": 7.66,
          "yshift": 9
         },
         {
          "font": {
           "size": 13
          },
          "showarrow": false,
          "text": "7.59",
          "x": 2,
          "y": 7.59,
          "yshift": 9
         },
         {
          "font": {
           "size": 13
          },
          "showarrow": false,
          "text": "7.56",
          "x": 3,
          "y": 7.56,
          "yshift": 9
         },
         {
          "font": {
           "size": 13
          },
          "showarrow": false,
          "text": "7.15",
          "x": 4,
          "y": 7.15,
          "yshift": 9
         },
         {
          "font": {
           "size": 13
          },
          "showarrow": false,
          "text": "7.1",
          "x": 5,
          "y": 7.1,
          "yshift": 9
         },
         {
          "font": {
           "size": 13
          },
          "showarrow": false,
          "text": "7.08",
          "x": 6,
          "y": 7.08,
          "yshift": 9
         },
         {
          "font": {
           "size": 13
          },
          "showarrow": false,
          "text": "7.05",
          "x": 7,
          "y": 7.05,
          "yshift": 9
         },
         {
          "font": {
           "size": 13
          },
          "showarrow": false,
          "text": "7.04",
          "x": 8,
          "y": 7.04,
          "yshift": 9
         },
         {
          "font": {
           "size": 13
          },
          "showarrow": false,
          "text": "6.98",
          "x": 9,
          "y": 6.98,
          "yshift": 9
         }
        ],
        "barmode": "relative",
        "coloraxis": {
         "cmax": 8,
         "cmin": 6,
         "colorbar": {
          "title": {
           "text": "Criminality"
          }
         },
         "colorscale": [
          [
           0,
           "rgb(224, 253, 74)"
          ],
          [
           0.09090909090909091,
           "rgb(222, 222, 59)"
          ],
          [
           0.18181818181818182,
           "rgb(217, 192, 44)"
          ],
          [
           0.2727272727272727,
           "rgb(209, 164, 32)"
          ],
          [
           0.36363636363636365,
           "rgb(199, 137, 22)"
          ],
          [
           0.45454545454545453,
           "rgb(188, 111, 19)"
          ],
          [
           0.5454545454545454,
           "rgb(174, 88, 20)"
          ],
          [
           0.6363636363636364,
           "rgb(157, 66, 25)"
          ],
          [
           0.7272727272727273,
           "rgb(135, 47, 32)"
          ],
          [
           0.8181818181818182,
           "rgb(108, 36, 36)"
          ],
          [
           0.9090909090909091,
           "rgb(79, 28, 33)"
          ],
          [
           1,
           "rgb(51, 19, 23)"
          ]
         ]
        },
        "height": 500,
        "legend": {
         "tracegroupgap": 0
        },
        "margin": {
         "t": 60
        },
        "template": {
         "data": {
          "bar": [
           {
            "error_x": {
             "color": "#2a3f5f"
            },
            "error_y": {
             "color": "#2a3f5f"
            },
            "marker": {
             "line": {
              "color": "white",
              "width": 0.5
             },
             "pattern": {
              "fillmode": "overlay",
              "size": 10,
              "solidity": 0.2
             }
            },
            "type": "bar"
           }
          ],
          "barpolar": [
           {
            "marker": {
             "line": {
              "color": "white",
              "width": 0.5
             },
             "pattern": {
              "fillmode": "overlay",
              "size": 10,
              "solidity": 0.2
             }
            },
            "type": "barpolar"
           }
          ],
          "carpet": [
           {
            "aaxis": {
             "endlinecolor": "#2a3f5f",
             "gridcolor": "#C8D4E3",
             "linecolor": "#C8D4E3",
             "minorgridcolor": "#C8D4E3",
             "startlinecolor": "#2a3f5f"
            },
            "baxis": {
             "endlinecolor": "#2a3f5f",
             "gridcolor": "#C8D4E3",
             "linecolor": "#C8D4E3",
             "minorgridcolor": "#C8D4E3",
             "startlinecolor": "#2a3f5f"
            },
            "type": "carpet"
           }
          ],
          "choropleth": [
           {
            "colorbar": {
             "outlinewidth": 0,
             "ticks": ""
            },
            "type": "choropleth"
           }
          ],
          "contour": [
           {
            "colorbar": {
             "outlinewidth": 0,
             "ticks": ""
            },
            "colorscale": [
             [
              0,
              "#0d0887"
             ],
             [
              0.1111111111111111,
              "#46039f"
             ],
             [
              0.2222222222222222,
              "#7201a8"
             ],
             [
              0.3333333333333333,
              "#9c179e"
             ],
             [
              0.4444444444444444,
              "#bd3786"
             ],
             [
              0.5555555555555556,
              "#d8576b"
             ],
             [
              0.6666666666666666,
              "#ed7953"
             ],
             [
              0.7777777777777778,
              "#fb9f3a"
             ],
             [
              0.8888888888888888,
              "#fdca26"
             ],
             [
              1,
              "#f0f921"
             ]
            ],
            "type": "contour"
           }
          ],
          "contourcarpet": [
           {
            "colorbar": {
             "outlinewidth": 0,
             "ticks": ""
            },
            "type": "contourcarpet"
           }
          ],
          "heatmap": [
           {
            "colorbar": {
             "outlinewidth": 0,
             "ticks": ""
            },
            "colorscale": [
             [
              0,
              "#0d0887"
             ],
             [
              0.1111111111111111,
              "#46039f"
             ],
             [
              0.2222222222222222,
              "#7201a8"
             ],
             [
              0.3333333333333333,
              "#9c179e"
             ],
             [
              0.4444444444444444,
              "#bd3786"
             ],
             [
              0.5555555555555556,
              "#d8576b"
             ],
             [
              0.6666666666666666,
              "#ed7953"
             ],
             [
              0.7777777777777778,
              "#fb9f3a"
             ],
             [
              0.8888888888888888,
              "#fdca26"
             ],
             [
              1,
              "#f0f921"
             ]
            ],
            "type": "heatmap"
           }
          ],
          "heatmapgl": [
           {
            "colorbar": {
             "outlinewidth": 0,
             "ticks": ""
            },
            "colorscale": [
             [
              0,
              "#0d0887"
             ],
             [
              0.1111111111111111,
              "#46039f"
             ],
             [
              0.2222222222222222,
              "#7201a8"
             ],
             [
              0.3333333333333333,
              "#9c179e"
             ],
             [
              0.4444444444444444,
              "#bd3786"
             ],
             [
              0.5555555555555556,
              "#d8576b"
             ],
             [
              0.6666666666666666,
              "#ed7953"
             ],
             [
              0.7777777777777778,
              "#fb9f3a"
             ],
             [
              0.8888888888888888,
              "#fdca26"
             ],
             [
              1,
              "#f0f921"
             ]
            ],
            "type": "heatmapgl"
           }
          ],
          "histogram": [
           {
            "marker": {
             "pattern": {
              "fillmode": "overlay",
              "size": 10,
              "solidity": 0.2
             }
            },
            "type": "histogram"
           }
          ],
          "histogram2d": [
           {
            "colorbar": {
             "outlinewidth": 0,
             "ticks": ""
            },
            "colorscale": [
             [
              0,
              "#0d0887"
             ],
             [
              0.1111111111111111,
              "#46039f"
             ],
             [
              0.2222222222222222,
              "#7201a8"
             ],
             [
              0.3333333333333333,
              "#9c179e"
             ],
             [
              0.4444444444444444,
              "#bd3786"
             ],
             [
              0.5555555555555556,
              "#d8576b"
             ],
             [
              0.6666666666666666,
              "#ed7953"
             ],
             [
              0.7777777777777778,
              "#fb9f3a"
             ],
             [
              0.8888888888888888,
              "#fdca26"
             ],
             [
              1,
              "#f0f921"
             ]
            ],
            "type": "histogram2d"
           }
          ],
          "histogram2dcontour": [
           {
            "colorbar": {
             "outlinewidth": 0,
             "ticks": ""
            },
            "colorscale": [
             [
              0,
              "#0d0887"
             ],
             [
              0.1111111111111111,
              "#46039f"
             ],
             [
              0.2222222222222222,
              "#7201a8"
             ],
             [
              0.3333333333333333,
              "#9c179e"
             ],
             [
              0.4444444444444444,
              "#bd3786"
             ],
             [
              0.5555555555555556,
              "#d8576b"
             ],
             [
              0.6666666666666666,
              "#ed7953"
             ],
             [
              0.7777777777777778,
              "#fb9f3a"
             ],
             [
              0.8888888888888888,
              "#fdca26"
             ],
             [
              1,
              "#f0f921"
             ]
            ],
            "type": "histogram2dcontour"
           }
          ],
          "mesh3d": [
           {
            "colorbar": {
             "outlinewidth": 0,
             "ticks": ""
            },
            "type": "mesh3d"
           }
          ],
          "parcoords": [
           {
            "line": {
             "colorbar": {
              "outlinewidth": 0,
              "ticks": ""
             }
            },
            "type": "parcoords"
           }
          ],
          "pie": [
           {
            "automargin": true,
            "type": "pie"
           }
          ],
          "scatter": [
           {
            "fillpattern": {
             "fillmode": "overlay",
             "size": 10,
             "solidity": 0.2
            },
            "type": "scatter"
           }
          ],
          "scatter3d": [
           {
            "line": {
             "colorbar": {
              "outlinewidth": 0,
              "ticks": ""
             }
            },
            "marker": {
             "colorbar": {
              "outlinewidth": 0,
              "ticks": ""
             }
            },
            "type": "scatter3d"
           }
          ],
          "scattercarpet": [
           {
            "marker": {
             "colorbar": {
              "outlinewidth": 0,
              "ticks": ""
             }
            },
            "type": "scattercarpet"
           }
          ],
          "scattergeo": [
           {
            "marker": {
             "colorbar": {
              "outlinewidth": 0,
              "ticks": ""
             }
            },
            "type": "scattergeo"
           }
          ],
          "scattergl": [
           {
            "marker": {
             "colorbar": {
              "outlinewidth": 0,
              "ticks": ""
             }
            },
            "type": "scattergl"
           }
          ],
          "scattermapbox": [
           {
            "marker": {
             "colorbar": {
              "outlinewidth": 0,
              "ticks": ""
             }
            },
            "type": "scattermapbox"
           }
          ],
          "scatterpolar": [
           {
            "marker": {
             "colorbar": {
              "outlinewidth": 0,
              "ticks": ""
             }
            },
            "type": "scatterpolar"
           }
          ],
          "scatterpolargl": [
           {
            "marker": {
             "colorbar": {
              "outlinewidth": 0,
              "ticks": ""
             }
            },
            "type": "scatterpolargl"
           }
          ],
          "scatterternary": [
           {
            "marker": {
             "colorbar": {
              "outlinewidth": 0,
              "ticks": ""
             }
            },
            "type": "scatterternary"
           }
          ],
          "surface": [
           {
            "colorbar": {
             "outlinewidth": 0,
             "ticks": ""
            },
            "colorscale": [
             [
              0,
              "#0d0887"
             ],
             [
              0.1111111111111111,
              "#46039f"
             ],
             [
              0.2222222222222222,
              "#7201a8"
             ],
             [
              0.3333333333333333,
              "#9c179e"
             ],
             [
              0.4444444444444444,
              "#bd3786"
             ],
             [
              0.5555555555555556,
              "#d8576b"
             ],
             [
              0.6666666666666666,
              "#ed7953"
             ],
             [
              0.7777777777777778,
              "#fb9f3a"
             ],
             [
              0.8888888888888888,
              "#fdca26"
             ],
             [
              1,
              "#f0f921"
             ]
            ],
            "type": "surface"
           }
          ],
          "table": [
           {
            "cells": {
             "fill": {
              "color": "#EBF0F8"
             },
             "line": {
              "color": "white"
             }
            },
            "header": {
             "fill": {
              "color": "#C8D4E3"
             },
             "line": {
              "color": "white"
             }
            },
            "type": "table"
           }
          ]
         },
         "layout": {
          "annotationdefaults": {
           "arrowcolor": "#2a3f5f",
           "arrowhead": 0,
           "arrowwidth": 1
          },
          "autotypenumbers": "strict",
          "coloraxis": {
           "colorbar": {
            "outlinewidth": 0,
            "ticks": ""
           }
          },
          "colorscale": {
           "diverging": [
            [
             0,
             "#8e0152"
            ],
            [
             0.1,
             "#c51b7d"
            ],
            [
             0.2,
             "#de77ae"
            ],
            [
             0.3,
             "#f1b6da"
            ],
            [
             0.4,
             "#fde0ef"
            ],
            [
             0.5,
             "#f7f7f7"
            ],
            [
             0.6,
             "#e6f5d0"
            ],
            [
             0.7,
             "#b8e186"
            ],
            [
             0.8,
             "#7fbc41"
            ],
            [
             0.9,
             "#4d9221"
            ],
            [
             1,
             "#276419"
            ]
           ],
           "sequential": [
            [
             0,
             "#0d0887"
            ],
            [
             0.1111111111111111,
             "#46039f"
            ],
            [
             0.2222222222222222,
             "#7201a8"
            ],
            [
             0.3333333333333333,
             "#9c179e"
            ],
            [
             0.4444444444444444,
             "#bd3786"
            ],
            [
             0.5555555555555556,
             "#d8576b"
            ],
            [
             0.6666666666666666,
             "#ed7953"
            ],
            [
             0.7777777777777778,
             "#fb9f3a"
            ],
            [
             0.8888888888888888,
             "#fdca26"
            ],
            [
             1,
             "#f0f921"
            ]
           ],
           "sequentialminus": [
            [
             0,
             "#0d0887"
            ],
            [
             0.1111111111111111,
             "#46039f"
            ],
            [
             0.2222222222222222,
             "#7201a8"
            ],
            [
             0.3333333333333333,
             "#9c179e"
            ],
            [
             0.4444444444444444,
             "#bd3786"
            ],
            [
             0.5555555555555556,
             "#d8576b"
            ],
            [
             0.6666666666666666,
             "#ed7953"
            ],
            [
             0.7777777777777778,
             "#fb9f3a"
            ],
            [
             0.8888888888888888,
             "#fdca26"
            ],
            [
             1,
             "#f0f921"
            ]
           ]
          },
          "colorway": [
           "#636efa",
           "#EF553B",
           "#00cc96",
           "#ab63fa",
           "#FFA15A",
           "#19d3f3",
           "#FF6692",
           "#B6E880",
           "#FF97FF",
           "#FECB52"
          ],
          "font": {
           "color": "#2a3f5f"
          },
          "geo": {
           "bgcolor": "white",
           "lakecolor": "white",
           "landcolor": "white",
           "showlakes": true,
           "showland": true,
           "subunitcolor": "#C8D4E3"
          },
          "hoverlabel": {
           "align": "left"
          },
          "hovermode": "closest",
          "mapbox": {
           "style": "light"
          },
          "paper_bgcolor": "white",
          "plot_bgcolor": "white",
          "polar": {
           "angularaxis": {
            "gridcolor": "#EBF0F8",
            "linecolor": "#EBF0F8",
            "ticks": ""
           },
           "bgcolor": "white",
           "radialaxis": {
            "gridcolor": "#EBF0F8",
            "linecolor": "#EBF0F8",
            "ticks": ""
           }
          },
          "scene": {
           "xaxis": {
            "backgroundcolor": "white",
            "gridcolor": "#DFE8F3",
            "gridwidth": 2,
            "linecolor": "#EBF0F8",
            "showbackground": true,
            "ticks": "",
            "zerolinecolor": "#EBF0F8"
           },
           "yaxis": {
            "backgroundcolor": "white",
            "gridcolor": "#DFE8F3",
            "gridwidth": 2,
            "linecolor": "#EBF0F8",
            "showbackground": true,
            "ticks": "",
            "zerolinecolor": "#EBF0F8"
           },
           "zaxis": {
            "backgroundcolor": "white",
            "gridcolor": "#DFE8F3",
            "gridwidth": 2,
            "linecolor": "#EBF0F8",
            "showbackground": true,
            "ticks": "",
            "zerolinecolor": "#EBF0F8"
           }
          },
          "shapedefaults": {
           "line": {
            "color": "#2a3f5f"
           }
          },
          "ternary": {
           "aaxis": {
            "gridcolor": "#DFE8F3",
            "linecolor": "#A2B1C6",
            "ticks": ""
           },
           "baxis": {
            "gridcolor": "#DFE8F3",
            "linecolor": "#A2B1C6",
            "ticks": ""
           },
           "bgcolor": "white",
           "caxis": {
            "gridcolor": "#DFE8F3",
            "linecolor": "#A2B1C6",
            "ticks": ""
           }
          },
          "title": {
           "x": 0.05
          },
          "xaxis": {
           "automargin": true,
           "gridcolor": "#EBF0F8",
           "linecolor": "#EBF0F8",
           "ticks": "",
           "title": {
            "standoff": 15
           },
           "zerolinecolor": "#EBF0F8",
           "zerolinewidth": 2
          },
          "yaxis": {
           "automargin": true,
           "gridcolor": "#EBF0F8",
           "linecolor": "#EBF0F8",
           "ticks": "",
           "title": {
            "standoff": 15
           },
           "zerolinecolor": "#EBF0F8",
           "zerolinewidth": 2
          }
         }
        },
        "title": {
         "text": "Countries with the highest organized criminality"
        },
        "width": 1250,
        "xaxis": {
         "anchor": "y",
         "domain": [
          0,
          1
         ],
         "title": {
          "text": "Countries"
         }
        },
        "yaxis": {
         "anchor": "x",
         "domain": [
          0,
          1
         ],
         "title": {
          "text": "Criminality"
         }
        }
       }
      }
     },
     "metadata": {},
     "output_type": "display_data"
    }
   ],
   "source": [
    "crime = \"Criminality\"\n",
    "# countries with highest and lowest crime\n",
    "lowest_crime = merged_data.nsmallest(10, crime)\n",
    "highest_crime = merged_data.nlargest(10, crime)\n",
    "\n",
    "# creating bar chart\n",
    "lowest_fig = px.bar(lowest_crime, x='Country', y=crime, color=crime,\n",
    "             color_continuous_scale='viridis', \n",
    "             range_color=[1,3],\n",
    "             labels={'Country': 'Countries', crime: 'Criminality'})\n",
    "\n",
    "highest_fig = px.bar(highest_crime, x='Country', y=crime, color=crime,\n",
    "             color_continuous_scale='solar_r', \n",
    "             range_color=[6,8],\n",
    "             labels={'Country': 'Countries', crime: 'Criminality'})\n",
    "\n",
    "# labeling bars\n",
    "for i, yval in enumerate(lowest_crime[crime]):\n",
    "    lowest_fig.add_annotation(x=i, y=yval +0.1,\n",
    "                       text=str(yval),\n",
    "                       showarrow=False)\n",
    "\n",
    "for i, yval in enumerate(highest_crime[crime]):\n",
    "    highest_fig.add_annotation(x=i, y=yval,\n",
    "                       text=str(yval),\n",
    "                       showarrow=False, font=dict(size=13), yshift=9)\n",
    "\n",
    "# size, title and design\n",
    "lowest_fig.update_layout(title=\"Countries with the lowest organized criminality\",\n",
    "                  height=500, width=1250,  template='plotly_white')\n",
    "\n",
    "highest_fig.update_layout(title=\"Countries with the highest organized criminality\",\n",
    "                  height=500, width=1250,  template='plotly_white')\n",
    "\n",
    "\n",
    "# display chart\n",
    "lowest_fig.show()\n",
    "highest_fig.show()"
   ]
  },
  {
   "cell_type": "markdown",
   "metadata": {},
   "source": [
    "### 3.2.2 Global Criminality Comparison"
   ]
  },
  {
   "cell_type": "code",
   "execution_count": 14,
   "metadata": {},
   "outputs": [
    {
     "data": {
      "application/vnd.plotly.v1+json": {
       "config": {
        "plotlyServerURL": "https://plot.ly"
       },
       "data": [
        {
         "coloraxis": "coloraxis",
         "customdata": [
          [
           9661.23,
           6.89,
           "TUR"
          ],
          [
           3293.23,
           4.04,
           "CPV"
          ],
          [
           7055.06,
           6.63,
           "ZAF"
          ],
          [
           6104.14,
           7.66,
           "COL"
          ],
          [
           6621.65,
           6.35,
           "PER"
          ],
          [
           4686.13,
           7.05,
           "IRQ"
          ],
          [
           5259.26,
           4.9,
           "SUR"
          ],
          [
           3965.03,
           6.64,
           "VEN"
          ],
          [
           8872.96,
           4.51,
           "MUS"
          ],
          [
           6805.25,
           3.71,
           "BWA"
          ],
          [
           6766.02,
           7.1,
           "IRN"
          ],
          [
           9998.55,
           5.1,
           "GUY"
          ],
          [
           1636.88,
           4.81,
           "SEN"
          ],
          [
           7507.16,
           6.5,
           "BRA"
          ],
          [
           1607.66,
           5.83,
           "KHM"
          ],
          [
           2019.31,
           7.15,
           "NGA"
          ],
          [
           3460.53,
           6.84,
           "PHL"
          ],
          [
           822.32,
           3.68,
           "RWA"
          ],
          [
           2408.63,
           6.01,
           "GHA"
          ],
          [
           825.29,
           4.79,
           "ETH"
          ],
          [
           3345.2,
           4.3,
           "BOL"
          ],
          [
           2081.8,
           6.95,
           "KEN"
          ],
          [
           372.55,
           7.08,
           "AFG"
          ],
          [
           4332.71,
           6.38,
           "IDN"
          ],
          [
           772.15,
           4.83,
           "GMB"
          ],
          [
           4836.17,
           4.33,
           "NAM"
          ],
          [
           10045.68,
           7.56,
           "MEX"
          ],
          [
           2485.82,
           1.78,
           "STP"
          ],
          [
           3807.18,
           3.79,
           "TUN"
          ],
          [
           3700.32,
           4.51,
           "DZA"
          ],
          [
           3853.28,
           4.79,
           "MAR"
          ],
          [
           12084.63,
           3.68,
           "SYC"
          ],
          [
           3348.01,
           3.99,
           "DJI"
          ],
          [
           2274.48,
           5.53,
           "IND"
          ],
          [
           2044.22,
           5.29,
           "AGO"
          ],
          [
           23185.87,
           6.01,
           "SAU"
          ],
          [
           2538.91,
           6.15,
           "CIV"
          ],
          [
           93525.37,
           4.34,
           "CHE"
          ],
          [
           301.59,
           6.13,
           "YEM"
          ],
          [
           897.05,
           5.61,
           "TJK"
          ],
          [
           1094.5,
           4.93,
           "ZMB"
          ],
          [
           924.71,
           6.84,
           "SYR"
          ],
          [
           8507.67,
           4.61,
           "TKM"
          ],
          [
           101108.99,
           4.9,
           "IRL"
          ],
          [
           654.15,
           4.78,
           "PRK"
          ],
          [
           613.34,
           3.83,
           "MWI"
          ],
          [
           1088.93,
           7.59,
           "MMR"
          ],
          [
           1205.5,
           6.16,
           "NPL"
          ],
          [
           1136.19,
           6.15,
           "TZA"
          ],
          [
           5965.13,
           6.25,
           "ECU"
          ],
          [
           3898.02,
           5.16,
           "EGY"
          ],
          [
           12472.44,
           4.99,
           "CRI"
          ],
          [
           943.94,
           5.33,
           "TGO"
          ],
          [
           26562.97,
           4.83,
           "BHR"
          ],
          [
           930.37,
           6.14,
           "UGA"
          ],
          [
           2031.57,
           4.96,
           "UZB"
          ],
          [
           3756.49,
           6.28,
           "VNM"
          ],
          [
           7066.68,
           5.76,
           "THA"
          ],
          [
           14617.6,
           6.68,
           "PAN"
          ],
          [
           43295.39,
           5.75,
           "ARE"
          ],
          [
           2045.53,
           6.06,
           "NIC"
          ],
          [
           32150.18,
           5.14,
           "KWT"
          ],
          [
           1040.31,
           3.9,
           "LSO"
          ],
          [
           893.08,
           5.49,
           "BFA"
          ],
          [
           1663.56,
           5.73,
           "HTI"
          ],
          [
           5296.44,
           5.08,
           "AZE"
          ],
          [
           11100.94,
           5.94,
           "MYS"
          ],
          [
           1360.91,
           5.25,
           "BEN"
          ],
          [
           2672.97,
           5.44,
           "PNG"
          ],
          [
           19509.47,
           4.14,
           "OMN"
          ],
          [
           1480.11,
           6.28,
           "PAK"
          ],
          [
           504.62,
           5.4,
           "SLE"
          ],
          [
           44229.39,
           5.66,
           "FRA"
          ],
          [
           57871.35,
           4.69,
           "NLD"
          ],
          [
           1339.01,
           5.33,
           "KGZ"
          ],
          [
           42066.04,
           2.96,
           "AND"
          ],
          [
           499.72,
           5.59,
           "MDG"
          ],
          [
           54111.02,
           4.41,
           "ISR"
          ],
          [
           51165.51,
           4.34,
           "BEL"
          ],
          [
           66798.77,
           5.21,
           "QAT"
          ],
          [
           2771.72,
           6.98,
           "HND"
          ],
          [
           491.84,
           6.53,
           "MOZ"
          ],
          [
           51073.12,
           4.9,
           "DEU"
          ],
          [
           46541.76,
           4.89,
           "GBR"
          ],
          [
           53840.39,
           4.04,
           "AUT"
          ],
          [
           2200.32,
           5.03,
           "COG"
          ],
          [
           6784.8,
           6.76,
           "LBN"
          ],
          [
           169260.22,
           1.88,
           "LIE"
          ],
          [
           12437.21,
           6.01,
           "CHN"
          ],
          [
           3062.91,
           3.69,
           "BTN"
          ],
          [
           133745.4,
           2.36,
           "LUX"
          ],
          [
           69184.7,
           5.5,
           "USA"
          ],
          [
           10054.89,
           4.26,
           "KAZ"
          ],
          [
           8476.75,
           5.15,
           "DOM"
          ],
          [
           3968.91,
           3.63,
           "SWZ"
          ],
          [
           35578.85,
           5.81,
           "ITA"
          ],
          [
           590.63,
           6.01,
           "NER"
          ],
          [
           33641.6,
           4.65,
           "MLT"
          ],
          [
           1507.99,
           5.66,
           "ZWE"
          ],
          [
           470.77,
           5.05,
           "LBR"
          ],
          [
           4509.86,
           4.01,
           "MNG"
          ],
          [
           7910.85,
           4.9,
           "GAB"
          ],
          [
           24651.18,
           4.55,
           "PRT"
          ],
          [
           20571.22,
           4.93,
           "GRC"
          ],
          [
           11255.28,
           3.44,
           "CUB"
          ],
          [
           1668.01,
           6.31,
           "CMR"
          ],
          [
           2166.04,
           4.38,
           "MRT"
          ],
          [
           785.58,
           6.46,
           "SDN"
          ],
          [
           1185.06,
           5.2,
           "GIN"
          ],
          [
           6035.14,
           6.7,
           "PRY"
          ],
          [
           2449.91,
           4.98,
           "BGD"
          ],
          [
           4966.52,
           3.26,
           "ARM"
          ],
          [
           30058.39,
           5.78,
           "ESP"
          ],
          [
           32280.93,
           4.19,
           "CYP"
          ],
          [
           234317.08,
           2.43,
           "MCO"
          ],
          [
           955.17,
           5.86,
           "TCD"
          ],
          [
           12390.37,
           1.76,
           "NRU"
          ],
          [
           50425.1,
           3.01,
           "SMR"
          ],
          [
           758.55,
           5.45,
           "GNB"
          ],
          [
           39649.93,
           4.53,
           "JPN"
          ],
          [
           89241.71,
           3.81,
           "NOR"
          ],
          [
           6228.7,
           4.64,
           "BLZ"
          ],
          [
           874.55,
           5.89,
           "MLI"
          ],
          [
           3918.02,
           4.64,
           "LKA"
          ],
          [
           27990.62,
           3.6,
           "EST"
          ],
          [
           60729.71,
           4.56,
           "SWE"
          ],
          [
           4975.12,
           2.96,
           "GEO"
          ],
          [
           68036.72,
           3.86,
           "DNK"
          ],
          [
           10761.08,
           4.38,
           "ARG"
          ],
          [
           21267.46,
           3.51,
           "LVA"
          ],
          [
           23844.13,
           3.31,
           "LTU"
          ],
          [
           52112.06,
           3.66,
           "CAN"
          ],
          [
           53703.45,
           2.71,
           "FIN"
          ],
          [
           8950.23,
           3.05,
           "GRD"
          ],
          [
           69133.13,
           3.39,
           "ISL"
          ],
          [
           1631.48,
           3.86,
           "COM"
          ],
          [
           4596.35,
           6.18,
           "UKR"
          ],
          [
           2305.98,
           4.15,
           "SLB"
          ],
          [
           4883.21,
           6.48,
           "GTM"
          ],
          [
           6396.46,
           5.63,
           "ALB"
          ],
          [
           17736.42,
           4.01,
           "POL"
          ],
          [
           1764.93,
           2.35,
           "KIR"
          ],
          [
           12258.77,
           6.24,
           "RUS"
          ],
          [
           1517.22,
           3.96,
           "TLS"
          ],
          [
           622.98,
           4.34,
           "ERI"
          ],
          [
           34940.41,
           4.91,
           "KOR"
          ],
          [
           16265.1,
           4.6,
           "CHL"
          ],
          [
           4646.54,
           3.9,
           "FJI"
          ],
          [
           27478.39,
           3.79,
           "BHS"
          ],
          [
           31448.91,
           2.76,
           "BRN"
          ],
          [
           12207.26,
           5.43,
           "BGR"
          ],
          [
           551.13,
           7.75,
           "COD"
          ],
          [
           66915.86,
           4,
           "AUS"
          ],
          [
           7121,
           5.08,
           "BLR"
          ],
          [
           4450.53,
           3.78,
           "TON"
          ],
          [
           16983.45,
           5.06,
           "HRV"
          ],
          [
           14697.75,
           4.59,
           "ROU"
          ],
          [
           7605.45,
           4.11,
           "GNQ"
          ],
          [
           8643.29,
           6.21,
           "SRB"
          ],
          [
           3918.66,
           2.04,
           "WSM"
          ],
          [
           18082.69,
           4.1,
           "KNA"
          ],
          [
           18728.32,
           4.5,
           "HUN"
          ],
          [
           9252.31,
           6,
           "MNE"
          ],
          [
           16032.5,
           4.94,
           "TTO"
          ],
          [
           26808.54,
           4.63,
           "CZE"
          ],
          [
           17225.46,
           3.21,
           "BRB"
          ],
          [
           2568.92,
           5.51,
           "LAO"
          ],
          [
           12084.13,
           2.94,
           "PLW"
          ],
          [
           4551.18,
           5.94,
           "SLV"
          ],
          [
           3072.57,
           2.2,
           "VUT"
          ],
          [
           66821.72,
           3.13,
           "SGP"
          ],
          [
           4058.35,
           4.71,
           "JOR"
          ],
          [
           48823.51,
           3.25,
           "NZL"
          ],
          [
           15245.82,
           3.34,
           "ATG"
          ],
          [
           7143.28,
           5.89,
           "BIH"
          ],
          [
           6599.62,
           5.31,
           "MKD"
          ],
          [
           21390.45,
           4.69,
           "SVK"
          ],
          [
           4468.42,
           4.45,
           "MDA"
          ],
          [
           6111.27,
           2.31,
           "MHL"
          ],
          [
           3572.66,
           3.3,
           "FSM"
          ],
          [
           310.71,
           4.51,
           "BDI"
          ],
          [
           461.36,
           7.04,
           "CAF"
          ],
          [
           5370.42,
           1.54,
           "TUV"
          ],
          [
           10366.29,
           4.06,
           "MDV"
          ],
          [
           400.44,
           6.34,
           "SSD"
          ],
          [
           447,
           5.79,
           "SOM"
          ],
          [
           17312.64,
           2.69,
           "URY"
          ],
          [
           5791.25,
           6.55,
           "LBY"
          ],
          [
           5183.58,
           5.91,
           "JAM"
          ],
          [
           8440.03,
           3.3,
           "VCT"
          ],
          [
           29134.8,
           4.29,
           "SVN"
          ],
          [
           9824.06,
           4.09,
           "LCA"
          ],
          [
           7570.78,
           2.63,
           "DMA"
          ]
         ],
         "geo": "geo",
         "hovertemplate": "<b>%{hovertext}</b><br><br>GDP, Per Capita GDP - US Dollars=%{customdata[0]}<extra></extra>",
         "hovertext": [
          "Turkey",
          "Cabo Verde",
          "South Africa",
          "Colombia",
          "Peru",
          "Iraq",
          "Suriname",
          "Venezuela",
          "Mauritius",
          "Botswana",
          "Iran",
          "Guyana",
          "Senegal",
          "Brazil",
          "Cambodia",
          "Nigeria",
          "Philippines",
          "Rwanda",
          "Ghana",
          "Ethiopia",
          "Bolivia",
          "Kenya",
          "Afghanistan",
          "Indonesia",
          "Gambia",
          "Namibia",
          "Mexico",
          "Sao Tome and Principe",
          "Tunisia",
          "Algeria",
          "Morocco",
          "Seychelles",
          "Djibouti",
          "India",
          "Angola",
          "Saudi Arabia",
          "Côte d'Ivoire",
          "Switzerland",
          "Yemen",
          "Tajikistan",
          "Zambia",
          "Syria",
          "Turkmenistan",
          "Ireland",
          "Korea, DPR",
          "Malawi",
          "Myanmar",
          "Nepal",
          "Tanzania",
          "Ecuador",
          "Egypt",
          "Costa Rica",
          "Togo",
          "Bahrain",
          "Uganda",
          "Uzbekistan",
          "Vietnam",
          "Thailand",
          "Panama",
          "United Arab Emirates",
          "Nicaragua",
          "Kuwait",
          "Lesotho",
          "Burkina Faso",
          "Haiti",
          "Azerbaijan",
          "Malaysia",
          "Benin",
          "Papua New Guinea",
          "Oman",
          "Pakistan",
          "Sierra Leone",
          "France",
          "Netherlands",
          "Kyrgyzstan",
          "Andorra",
          "Madagascar",
          "Israel",
          "Belgium",
          "Qatar",
          "Honduras",
          "Mozambique",
          "Germany",
          "United Kingdom",
          "Austria",
          "Congo, Rep.",
          "Lebanon",
          "Liechtenstein",
          "China",
          "Bhutan",
          "Luxembourg",
          "United States",
          "Kazakhstan",
          "Dominican Republic",
          "Eswatini",
          "Italy",
          "Niger",
          "Malta",
          "Zimbabwe",
          "Liberia",
          "Mongolia",
          "Gabon",
          "Portugal",
          "Greece",
          "Cuba",
          "Cameroon",
          "Mauritania",
          "Sudan",
          "Guinea",
          "Paraguay",
          "Bangladesh",
          "Armenia",
          "Spain",
          "Cyprus",
          "Monaco",
          "Chad",
          "Nauru",
          "San Marino",
          "Guinea-Bissau",
          "Japan",
          "Norway",
          "Belize",
          "Mali",
          "Sri Lanka",
          "Estonia",
          "Sweden",
          "Georgia",
          "Denmark",
          "Argentina",
          "Latvia",
          "Lithuania",
          "Canada",
          "Finland",
          "Grenada",
          "Iceland",
          "Comoros",
          "Ukraine",
          "Solomon Islands",
          "Guatemala",
          "Albania",
          "Poland",
          "Kiribati",
          "Russia",
          "Timor-Leste",
          "Eritrea",
          "Korea, Rep.",
          "Chile",
          "Fiji",
          "Bahamas",
          "Brunei",
          "Bulgaria",
          "Congo, Dem. Rep.",
          "Australia",
          "Belarus",
          "Tonga",
          "Croatia",
          "Romania",
          "Equatorial Guinea",
          "Serbia",
          "Samoa",
          "St. Kitts and Nevis",
          "Hungary",
          "Montenegro",
          "Trinidad and Tobago",
          "Czech Republic",
          "Barbados",
          "Laos",
          "Palau",
          "El Salvador",
          "Vanuatu",
          "Singapore",
          "Jordan",
          "New Zealand",
          "Antigua and Barbuda",
          "Bosnia and Herzegovina",
          "North Macedonia",
          "Slovakia",
          "Moldova",
          "Marshall Islands",
          "Micronesia (Federated States of)",
          "Burundi",
          "Central African Republic",
          "Tuvalu",
          "Maldives",
          "South Sudan",
          "Somalia",
          "Uruguay",
          "Libya",
          "Jamaica",
          "St. Vincent and the Grenadines",
          "Slovenia",
          "St. Lucia",
          "Dominica"
         ],
         "locations": [
          "TUR",
          "CPV",
          "ZAF",
          "COL",
          "PER",
          "IRQ",
          "SUR",
          "VEN",
          "MUS",
          "BWA",
          "IRN",
          "GUY",
          "SEN",
          "BRA",
          "KHM",
          "NGA",
          "PHL",
          "RWA",
          "GHA",
          "ETH",
          "BOL",
          "KEN",
          "AFG",
          "IDN",
          "GMB",
          "NAM",
          "MEX",
          "STP",
          "TUN",
          "DZA",
          "MAR",
          "SYC",
          "DJI",
          "IND",
          "AGO",
          "SAU",
          "CIV",
          "CHE",
          "YEM",
          "TJK",
          "ZMB",
          "SYR",
          "TKM",
          "IRL",
          "PRK",
          "MWI",
          "MMR",
          "NPL",
          "TZA",
          "ECU",
          "EGY",
          "CRI",
          "TGO",
          "BHR",
          "UGA",
          "UZB",
          "VNM",
          "THA",
          "PAN",
          "ARE",
          "NIC",
          "KWT",
          "LSO",
          "BFA",
          "HTI",
          "AZE",
          "MYS",
          "BEN",
          "PNG",
          "OMN",
          "PAK",
          "SLE",
          "FRA",
          "NLD",
          "KGZ",
          "AND",
          "MDG",
          "ISR",
          "BEL",
          "QAT",
          "HND",
          "MOZ",
          "DEU",
          "GBR",
          "AUT",
          "COG",
          "LBN",
          "LIE",
          "CHN",
          "BTN",
          "LUX",
          "USA",
          "KAZ",
          "DOM",
          "SWZ",
          "ITA",
          "NER",
          "MLT",
          "ZWE",
          "LBR",
          "MNG",
          "GAB",
          "PRT",
          "GRC",
          "CUB",
          "CMR",
          "MRT",
          "SDN",
          "GIN",
          "PRY",
          "BGD",
          "ARM",
          "ESP",
          "CYP",
          "MCO",
          "TCD",
          "NRU",
          "SMR",
          "GNB",
          "JPN",
          "NOR",
          "BLZ",
          "MLI",
          "LKA",
          "EST",
          "SWE",
          "GEO",
          "DNK",
          "ARG",
          "LVA",
          "LTU",
          "CAN",
          "FIN",
          "GRD",
          "ISL",
          "COM",
          "UKR",
          "SLB",
          "GTM",
          "ALB",
          "POL",
          "KIR",
          "RUS",
          "TLS",
          "ERI",
          "KOR",
          "CHL",
          "FJI",
          "BHS",
          "BRN",
          "BGR",
          "COD",
          "AUS",
          "BLR",
          "TON",
          "HRV",
          "ROU",
          "GNQ",
          "SRB",
          "WSM",
          "KNA",
          "HUN",
          "MNE",
          "TTO",
          "CZE",
          "BRB",
          "LAO",
          "PLW",
          "SLV",
          "VUT",
          "SGP",
          "JOR",
          "NZL",
          "ATG",
          "BIH",
          "MKD",
          "SVK",
          "MDA",
          "MHL",
          "FSM",
          "BDI",
          "CAF",
          "TUV",
          "MDV",
          "SSD",
          "SOM",
          "URY",
          "LBY",
          "JAM",
          "VCT",
          "SVN",
          "LCA",
          "DMA"
         ],
         "name": "",
         "type": "choropleth",
         "z": [
          6.89,
          4.04,
          6.63,
          7.66,
          6.35,
          7.05,
          4.9,
          6.64,
          4.51,
          3.71,
          7.1,
          5.1,
          4.81,
          6.5,
          5.83,
          7.15,
          6.84,
          3.68,
          6.01,
          4.79,
          4.3,
          6.95,
          7.08,
          6.38,
          4.83,
          4.33,
          7.56,
          1.78,
          3.79,
          4.51,
          4.79,
          3.68,
          3.99,
          5.53,
          5.29,
          6.01,
          6.15,
          4.34,
          6.13,
          5.61,
          4.93,
          6.84,
          4.61,
          4.9,
          4.78,
          3.83,
          7.59,
          6.16,
          6.15,
          6.25,
          5.16,
          4.99,
          5.33,
          4.83,
          6.14,
          4.96,
          6.28,
          5.76,
          6.68,
          5.75,
          6.06,
          5.14,
          3.9,
          5.49,
          5.73,
          5.08,
          5.94,
          5.25,
          5.44,
          4.14,
          6.28,
          5.4,
          5.66,
          4.69,
          5.33,
          2.96,
          5.59,
          4.41,
          4.34,
          5.21,
          6.98,
          6.53,
          4.9,
          4.89,
          4.04,
          5.03,
          6.76,
          1.88,
          6.01,
          3.69,
          2.36,
          5.5,
          4.26,
          5.15,
          3.63,
          5.81,
          6.01,
          4.65,
          5.66,
          5.05,
          4.01,
          4.9,
          4.55,
          4.93,
          3.44,
          6.31,
          4.38,
          6.46,
          5.2,
          6.7,
          4.98,
          3.26,
          5.78,
          4.19,
          2.43,
          5.86,
          1.76,
          3.01,
          5.45,
          4.53,
          3.81,
          4.64,
          5.89,
          4.64,
          3.6,
          4.56,
          2.96,
          3.86,
          4.38,
          3.51,
          3.31,
          3.66,
          2.71,
          3.05,
          3.39,
          3.86,
          6.18,
          4.15,
          6.48,
          5.63,
          4.01,
          2.35,
          6.24,
          3.96,
          4.34,
          4.91,
          4.6,
          3.9,
          3.79,
          2.76,
          5.43,
          7.75,
          4,
          5.08,
          3.78,
          5.06,
          4.59,
          4.11,
          6.21,
          2.04,
          4.1,
          4.5,
          6,
          4.94,
          4.63,
          3.21,
          5.51,
          2.94,
          5.94,
          2.2,
          3.13,
          4.71,
          3.25,
          3.34,
          5.89,
          5.31,
          4.69,
          4.45,
          2.31,
          3.3,
          4.51,
          7.04,
          1.54,
          4.06,
          6.34,
          5.79,
          2.69,
          6.55,
          5.91,
          3.3,
          4.29,
          4.09,
          2.63
         ]
        }
       ],
       "layout": {
        "coloraxis": {
         "colorbar": {
          "title": {
           "text": "Criminality"
          }
         },
         "colorscale": [
          [
           0,
           "rgb(255,245,240)"
          ],
          [
           0.125,
           "rgb(254,224,210)"
          ],
          [
           0.25,
           "rgb(252,187,161)"
          ],
          [
           0.375,
           "rgb(252,146,114)"
          ],
          [
           0.5,
           "rgb(251,106,74)"
          ],
          [
           0.625,
           "rgb(239,59,44)"
          ],
          [
           0.75,
           "rgb(203,24,29)"
          ],
          [
           0.875,
           "rgb(165,15,21)"
          ],
          [
           1,
           "rgb(103,0,13)"
          ]
         ]
        },
        "geo": {
         "center": {},
         "domain": {
          "x": [
           0,
           1
          ],
          "y": [
           0,
           1
          ]
         },
         "projection": {
          "type": "natural earth"
         }
        },
        "height": 500,
        "legend": {
         "tracegroupgap": 0
        },
        "template": {
         "data": {
          "bar": [
           {
            "error_x": {
             "color": "#2a3f5f"
            },
            "error_y": {
             "color": "#2a3f5f"
            },
            "marker": {
             "line": {
              "color": "white",
              "width": 0.5
             },
             "pattern": {
              "fillmode": "overlay",
              "size": 10,
              "solidity": 0.2
             }
            },
            "type": "bar"
           }
          ],
          "barpolar": [
           {
            "marker": {
             "line": {
              "color": "white",
              "width": 0.5
             },
             "pattern": {
              "fillmode": "overlay",
              "size": 10,
              "solidity": 0.2
             }
            },
            "type": "barpolar"
           }
          ],
          "carpet": [
           {
            "aaxis": {
             "endlinecolor": "#2a3f5f",
             "gridcolor": "#C8D4E3",
             "linecolor": "#C8D4E3",
             "minorgridcolor": "#C8D4E3",
             "startlinecolor": "#2a3f5f"
            },
            "baxis": {
             "endlinecolor": "#2a3f5f",
             "gridcolor": "#C8D4E3",
             "linecolor": "#C8D4E3",
             "minorgridcolor": "#C8D4E3",
             "startlinecolor": "#2a3f5f"
            },
            "type": "carpet"
           }
          ],
          "choropleth": [
           {
            "colorbar": {
             "outlinewidth": 0,
             "ticks": ""
            },
            "type": "choropleth"
           }
          ],
          "contour": [
           {
            "colorbar": {
             "outlinewidth": 0,
             "ticks": ""
            },
            "colorscale": [
             [
              0,
              "#0d0887"
             ],
             [
              0.1111111111111111,
              "#46039f"
             ],
             [
              0.2222222222222222,
              "#7201a8"
             ],
             [
              0.3333333333333333,
              "#9c179e"
             ],
             [
              0.4444444444444444,
              "#bd3786"
             ],
             [
              0.5555555555555556,
              "#d8576b"
             ],
             [
              0.6666666666666666,
              "#ed7953"
             ],
             [
              0.7777777777777778,
              "#fb9f3a"
             ],
             [
              0.8888888888888888,
              "#fdca26"
             ],
             [
              1,
              "#f0f921"
             ]
            ],
            "type": "contour"
           }
          ],
          "contourcarpet": [
           {
            "colorbar": {
             "outlinewidth": 0,
             "ticks": ""
            },
            "type": "contourcarpet"
           }
          ],
          "heatmap": [
           {
            "colorbar": {
             "outlinewidth": 0,
             "ticks": ""
            },
            "colorscale": [
             [
              0,
              "#0d0887"
             ],
             [
              0.1111111111111111,
              "#46039f"
             ],
             [
              0.2222222222222222,
              "#7201a8"
             ],
             [
              0.3333333333333333,
              "#9c179e"
             ],
             [
              0.4444444444444444,
              "#bd3786"
             ],
             [
              0.5555555555555556,
              "#d8576b"
             ],
             [
              0.6666666666666666,
              "#ed7953"
             ],
             [
              0.7777777777777778,
              "#fb9f3a"
             ],
             [
              0.8888888888888888,
              "#fdca26"
             ],
             [
              1,
              "#f0f921"
             ]
            ],
            "type": "heatmap"
           }
          ],
          "heatmapgl": [
           {
            "colorbar": {
             "outlinewidth": 0,
             "ticks": ""
            },
            "colorscale": [
             [
              0,
              "#0d0887"
             ],
             [
              0.1111111111111111,
              "#46039f"
             ],
             [
              0.2222222222222222,
              "#7201a8"
             ],
             [
              0.3333333333333333,
              "#9c179e"
             ],
             [
              0.4444444444444444,
              "#bd3786"
             ],
             [
              0.5555555555555556,
              "#d8576b"
             ],
             [
              0.6666666666666666,
              "#ed7953"
             ],
             [
              0.7777777777777778,
              "#fb9f3a"
             ],
             [
              0.8888888888888888,
              "#fdca26"
             ],
             [
              1,
              "#f0f921"
             ]
            ],
            "type": "heatmapgl"
           }
          ],
          "histogram": [
           {
            "marker": {
             "pattern": {
              "fillmode": "overlay",
              "size": 10,
              "solidity": 0.2
             }
            },
            "type": "histogram"
           }
          ],
          "histogram2d": [
           {
            "colorbar": {
             "outlinewidth": 0,
             "ticks": ""
            },
            "colorscale": [
             [
              0,
              "#0d0887"
             ],
             [
              0.1111111111111111,
              "#46039f"
             ],
             [
              0.2222222222222222,
              "#7201a8"
             ],
             [
              0.3333333333333333,
              "#9c179e"
             ],
             [
              0.4444444444444444,
              "#bd3786"
             ],
             [
              0.5555555555555556,
              "#d8576b"
             ],
             [
              0.6666666666666666,
              "#ed7953"
             ],
             [
              0.7777777777777778,
              "#fb9f3a"
             ],
             [
              0.8888888888888888,
              "#fdca26"
             ],
             [
              1,
              "#f0f921"
             ]
            ],
            "type": "histogram2d"
           }
          ],
          "histogram2dcontour": [
           {
            "colorbar": {
             "outlinewidth": 0,
             "ticks": ""
            },
            "colorscale": [
             [
              0,
              "#0d0887"
             ],
             [
              0.1111111111111111,
              "#46039f"
             ],
             [
              0.2222222222222222,
              "#7201a8"
             ],
             [
              0.3333333333333333,
              "#9c179e"
             ],
             [
              0.4444444444444444,
              "#bd3786"
             ],
             [
              0.5555555555555556,
              "#d8576b"
             ],
             [
              0.6666666666666666,
              "#ed7953"
             ],
             [
              0.7777777777777778,
              "#fb9f3a"
             ],
             [
              0.8888888888888888,
              "#fdca26"
             ],
             [
              1,
              "#f0f921"
             ]
            ],
            "type": "histogram2dcontour"
           }
          ],
          "mesh3d": [
           {
            "colorbar": {
             "outlinewidth": 0,
             "ticks": ""
            },
            "type": "mesh3d"
           }
          ],
          "parcoords": [
           {
            "line": {
             "colorbar": {
              "outlinewidth": 0,
              "ticks": ""
             }
            },
            "type": "parcoords"
           }
          ],
          "pie": [
           {
            "automargin": true,
            "type": "pie"
           }
          ],
          "scatter": [
           {
            "fillpattern": {
             "fillmode": "overlay",
             "size": 10,
             "solidity": 0.2
            },
            "type": "scatter"
           }
          ],
          "scatter3d": [
           {
            "line": {
             "colorbar": {
              "outlinewidth": 0,
              "ticks": ""
             }
            },
            "marker": {
             "colorbar": {
              "outlinewidth": 0,
              "ticks": ""
             }
            },
            "type": "scatter3d"
           }
          ],
          "scattercarpet": [
           {
            "marker": {
             "colorbar": {
              "outlinewidth": 0,
              "ticks": ""
             }
            },
            "type": "scattercarpet"
           }
          ],
          "scattergeo": [
           {
            "marker": {
             "colorbar": {
              "outlinewidth": 0,
              "ticks": ""
             }
            },
            "type": "scattergeo"
           }
          ],
          "scattergl": [
           {
            "marker": {
             "colorbar": {
              "outlinewidth": 0,
              "ticks": ""
             }
            },
            "type": "scattergl"
           }
          ],
          "scattermapbox": [
           {
            "marker": {
             "colorbar": {
              "outlinewidth": 0,
              "ticks": ""
             }
            },
            "type": "scattermapbox"
           }
          ],
          "scatterpolar": [
           {
            "marker": {
             "colorbar": {
              "outlinewidth": 0,
              "ticks": ""
             }
            },
            "type": "scatterpolar"
           }
          ],
          "scatterpolargl": [
           {
            "marker": {
             "colorbar": {
              "outlinewidth": 0,
              "ticks": ""
             }
            },
            "type": "scatterpolargl"
           }
          ],
          "scatterternary": [
           {
            "marker": {
             "colorbar": {
              "outlinewidth": 0,
              "ticks": ""
             }
            },
            "type": "scatterternary"
           }
          ],
          "surface": [
           {
            "colorbar": {
             "outlinewidth": 0,
             "ticks": ""
            },
            "colorscale": [
             [
              0,
              "#0d0887"
             ],
             [
              0.1111111111111111,
              "#46039f"
             ],
             [
              0.2222222222222222,
              "#7201a8"
             ],
             [
              0.3333333333333333,
              "#9c179e"
             ],
             [
              0.4444444444444444,
              "#bd3786"
             ],
             [
              0.5555555555555556,
              "#d8576b"
             ],
             [
              0.6666666666666666,
              "#ed7953"
             ],
             [
              0.7777777777777778,
              "#fb9f3a"
             ],
             [
              0.8888888888888888,
              "#fdca26"
             ],
             [
              1,
              "#f0f921"
             ]
            ],
            "type": "surface"
           }
          ],
          "table": [
           {
            "cells": {
             "fill": {
              "color": "#EBF0F8"
             },
             "line": {
              "color": "white"
             }
            },
            "header": {
             "fill": {
              "color": "#C8D4E3"
             },
             "line": {
              "color": "white"
             }
            },
            "type": "table"
           }
          ]
         },
         "layout": {
          "annotationdefaults": {
           "arrowcolor": "#2a3f5f",
           "arrowhead": 0,
           "arrowwidth": 1
          },
          "autotypenumbers": "strict",
          "coloraxis": {
           "colorbar": {
            "outlinewidth": 0,
            "ticks": ""
           }
          },
          "colorscale": {
           "diverging": [
            [
             0,
             "#8e0152"
            ],
            [
             0.1,
             "#c51b7d"
            ],
            [
             0.2,
             "#de77ae"
            ],
            [
             0.3,
             "#f1b6da"
            ],
            [
             0.4,
             "#fde0ef"
            ],
            [
             0.5,
             "#f7f7f7"
            ],
            [
             0.6,
             "#e6f5d0"
            ],
            [
             0.7,
             "#b8e186"
            ],
            [
             0.8,
             "#7fbc41"
            ],
            [
             0.9,
             "#4d9221"
            ],
            [
             1,
             "#276419"
            ]
           ],
           "sequential": [
            [
             0,
             "#0d0887"
            ],
            [
             0.1111111111111111,
             "#46039f"
            ],
            [
             0.2222222222222222,
             "#7201a8"
            ],
            [
             0.3333333333333333,
             "#9c179e"
            ],
            [
             0.4444444444444444,
             "#bd3786"
            ],
            [
             0.5555555555555556,
             "#d8576b"
            ],
            [
             0.6666666666666666,
             "#ed7953"
            ],
            [
             0.7777777777777778,
             "#fb9f3a"
            ],
            [
             0.8888888888888888,
             "#fdca26"
            ],
            [
             1,
             "#f0f921"
            ]
           ],
           "sequentialminus": [
            [
             0,
             "#0d0887"
            ],
            [
             0.1111111111111111,
             "#46039f"
            ],
            [
             0.2222222222222222,
             "#7201a8"
            ],
            [
             0.3333333333333333,
             "#9c179e"
            ],
            [
             0.4444444444444444,
             "#bd3786"
            ],
            [
             0.5555555555555556,
             "#d8576b"
            ],
            [
             0.6666666666666666,
             "#ed7953"
            ],
            [
             0.7777777777777778,
             "#fb9f3a"
            ],
            [
             0.8888888888888888,
             "#fdca26"
            ],
            [
             1,
             "#f0f921"
            ]
           ]
          },
          "colorway": [
           "#636efa",
           "#EF553B",
           "#00cc96",
           "#ab63fa",
           "#FFA15A",
           "#19d3f3",
           "#FF6692",
           "#B6E880",
           "#FF97FF",
           "#FECB52"
          ],
          "font": {
           "color": "#2a3f5f"
          },
          "geo": {
           "bgcolor": "white",
           "lakecolor": "white",
           "landcolor": "white",
           "showlakes": true,
           "showland": true,
           "subunitcolor": "#C8D4E3"
          },
          "hoverlabel": {
           "align": "left"
          },
          "hovermode": "closest",
          "mapbox": {
           "style": "light"
          },
          "paper_bgcolor": "white",
          "plot_bgcolor": "white",
          "polar": {
           "angularaxis": {
            "gridcolor": "#EBF0F8",
            "linecolor": "#EBF0F8",
            "ticks": ""
           },
           "bgcolor": "white",
           "radialaxis": {
            "gridcolor": "#EBF0F8",
            "linecolor": "#EBF0F8",
            "ticks": ""
           }
          },
          "scene": {
           "xaxis": {
            "backgroundcolor": "white",
            "gridcolor": "#DFE8F3",
            "gridwidth": 2,
            "linecolor": "#EBF0F8",
            "showbackground": true,
            "ticks": "",
            "zerolinecolor": "#EBF0F8"
           },
           "yaxis": {
            "backgroundcolor": "white",
            "gridcolor": "#DFE8F3",
            "gridwidth": 2,
            "linecolor": "#EBF0F8",
            "showbackground": true,
            "ticks": "",
            "zerolinecolor": "#EBF0F8"
           },
           "zaxis": {
            "backgroundcolor": "white",
            "gridcolor": "#DFE8F3",
            "gridwidth": 2,
            "linecolor": "#EBF0F8",
            "showbackground": true,
            "ticks": "",
            "zerolinecolor": "#EBF0F8"
           }
          },
          "shapedefaults": {
           "line": {
            "color": "#2a3f5f"
           }
          },
          "ternary": {
           "aaxis": {
            "gridcolor": "#DFE8F3",
            "linecolor": "#A2B1C6",
            "ticks": ""
           },
           "baxis": {
            "gridcolor": "#DFE8F3",
            "linecolor": "#A2B1C6",
            "ticks": ""
           },
           "bgcolor": "white",
           "caxis": {
            "gridcolor": "#DFE8F3",
            "linecolor": "#A2B1C6",
            "ticks": ""
           }
          },
          "title": {
           "x": 0.05
          },
          "xaxis": {
           "automargin": true,
           "gridcolor": "#EBF0F8",
           "linecolor": "#EBF0F8",
           "ticks": "",
           "title": {
            "standoff": 15
           },
           "zerolinecolor": "#EBF0F8",
           "zerolinewidth": 2
          },
          "yaxis": {
           "automargin": true,
           "gridcolor": "#EBF0F8",
           "linecolor": "#EBF0F8",
           "ticks": "",
           "title": {
            "standoff": 15
           },
           "zerolinecolor": "#EBF0F8",
           "zerolinewidth": 2
          }
         }
        },
        "title": {
         "text": "Organised crime per country"
        },
        "width": 1050
       }
      }
     },
     "metadata": {},
     "output_type": "display_data"
    },
    {
     "data": {
      "application/vnd.plotly.v1+json": {
       "config": {
        "plotlyServerURL": "https://plot.ly"
       },
       "data": [
        {
         "coloraxis": "coloraxis",
         "customdata": [
          [
           9661.23,
           6.89,
           "TUR"
          ],
          [
           3293.23,
           4.04,
           "CPV"
          ],
          [
           7055.06,
           6.63,
           "ZAF"
          ],
          [
           6104.14,
           7.66,
           "COL"
          ],
          [
           6621.65,
           6.35,
           "PER"
          ],
          [
           4686.13,
           7.05,
           "IRQ"
          ],
          [
           5259.26,
           4.9,
           "SUR"
          ],
          [
           3965.03,
           6.64,
           "VEN"
          ],
          [
           8872.96,
           4.51,
           "MUS"
          ],
          [
           6805.25,
           3.71,
           "BWA"
          ],
          [
           6766.02,
           7.1,
           "IRN"
          ],
          [
           9998.55,
           5.1,
           "GUY"
          ],
          [
           1636.88,
           4.81,
           "SEN"
          ],
          [
           7507.16,
           6.5,
           "BRA"
          ],
          [
           1607.66,
           5.83,
           "KHM"
          ],
          [
           2019.31,
           7.15,
           "NGA"
          ],
          [
           3460.53,
           6.84,
           "PHL"
          ],
          [
           822.32,
           3.68,
           "RWA"
          ],
          [
           2408.63,
           6.01,
           "GHA"
          ],
          [
           825.29,
           4.79,
           "ETH"
          ],
          [
           3345.2,
           4.3,
           "BOL"
          ],
          [
           2081.8,
           6.95,
           "KEN"
          ],
          [
           372.55,
           7.08,
           "AFG"
          ],
          [
           4332.71,
           6.38,
           "IDN"
          ],
          [
           772.15,
           4.83,
           "GMB"
          ],
          [
           4836.17,
           4.33,
           "NAM"
          ],
          [
           10045.68,
           7.56,
           "MEX"
          ],
          [
           2485.82,
           1.78,
           "STP"
          ],
          [
           3807.18,
           3.79,
           "TUN"
          ],
          [
           3700.32,
           4.51,
           "DZA"
          ],
          [
           3853.28,
           4.79,
           "MAR"
          ],
          [
           12084.63,
           3.68,
           "SYC"
          ],
          [
           3348.01,
           3.99,
           "DJI"
          ],
          [
           2274.48,
           5.53,
           "IND"
          ],
          [
           2044.22,
           5.29,
           "AGO"
          ],
          [
           23185.87,
           6.01,
           "SAU"
          ],
          [
           2538.91,
           6.15,
           "CIV"
          ],
          [
           93525.37,
           4.34,
           "CHE"
          ],
          [
           301.59,
           6.13,
           "YEM"
          ],
          [
           897.05,
           5.61,
           "TJK"
          ],
          [
           1094.5,
           4.93,
           "ZMB"
          ],
          [
           924.71,
           6.84,
           "SYR"
          ],
          [
           8507.67,
           4.61,
           "TKM"
          ],
          [
           101108.99,
           4.9,
           "IRL"
          ],
          [
           654.15,
           4.78,
           "PRK"
          ],
          [
           613.34,
           3.83,
           "MWI"
          ],
          [
           1088.93,
           7.59,
           "MMR"
          ],
          [
           1205.5,
           6.16,
           "NPL"
          ],
          [
           1136.19,
           6.15,
           "TZA"
          ],
          [
           5965.13,
           6.25,
           "ECU"
          ],
          [
           3898.02,
           5.16,
           "EGY"
          ],
          [
           12472.44,
           4.99,
           "CRI"
          ],
          [
           943.94,
           5.33,
           "TGO"
          ],
          [
           26562.97,
           4.83,
           "BHR"
          ],
          [
           930.37,
           6.14,
           "UGA"
          ],
          [
           2031.57,
           4.96,
           "UZB"
          ],
          [
           3756.49,
           6.28,
           "VNM"
          ],
          [
           7066.68,
           5.76,
           "THA"
          ],
          [
           14617.6,
           6.68,
           "PAN"
          ],
          [
           43295.39,
           5.75,
           "ARE"
          ],
          [
           2045.53,
           6.06,
           "NIC"
          ],
          [
           32150.18,
           5.14,
           "KWT"
          ],
          [
           1040.31,
           3.9,
           "LSO"
          ],
          [
           893.08,
           5.49,
           "BFA"
          ],
          [
           1663.56,
           5.73,
           "HTI"
          ],
          [
           5296.44,
           5.08,
           "AZE"
          ],
          [
           11100.94,
           5.94,
           "MYS"
          ],
          [
           1360.91,
           5.25,
           "BEN"
          ],
          [
           2672.97,
           5.44,
           "PNG"
          ],
          [
           19509.47,
           4.14,
           "OMN"
          ],
          [
           1480.11,
           6.28,
           "PAK"
          ],
          [
           504.62,
           5.4,
           "SLE"
          ],
          [
           44229.39,
           5.66,
           "FRA"
          ],
          [
           57871.35,
           4.69,
           "NLD"
          ],
          [
           1339.01,
           5.33,
           "KGZ"
          ],
          [
           42066.04,
           2.96,
           "AND"
          ],
          [
           499.72,
           5.59,
           "MDG"
          ],
          [
           54111.02,
           4.41,
           "ISR"
          ],
          [
           51165.51,
           4.34,
           "BEL"
          ],
          [
           66798.77,
           5.21,
           "QAT"
          ],
          [
           2771.72,
           6.98,
           "HND"
          ],
          [
           491.84,
           6.53,
           "MOZ"
          ],
          [
           51073.12,
           4.9,
           "DEU"
          ],
          [
           46541.76,
           4.89,
           "GBR"
          ],
          [
           53840.39,
           4.04,
           "AUT"
          ],
          [
           2200.32,
           5.03,
           "COG"
          ],
          [
           6784.8,
           6.76,
           "LBN"
          ],
          [
           169260.22,
           1.88,
           "LIE"
          ],
          [
           12437.21,
           6.01,
           "CHN"
          ],
          [
           3062.91,
           3.69,
           "BTN"
          ],
          [
           133745.4,
           2.36,
           "LUX"
          ],
          [
           69184.7,
           5.5,
           "USA"
          ],
          [
           10054.89,
           4.26,
           "KAZ"
          ],
          [
           8476.75,
           5.15,
           "DOM"
          ],
          [
           3968.91,
           3.63,
           "SWZ"
          ],
          [
           35578.85,
           5.81,
           "ITA"
          ],
          [
           590.63,
           6.01,
           "NER"
          ],
          [
           33641.6,
           4.65,
           "MLT"
          ],
          [
           1507.99,
           5.66,
           "ZWE"
          ],
          [
           470.77,
           5.05,
           "LBR"
          ],
          [
           4509.86,
           4.01,
           "MNG"
          ],
          [
           7910.85,
           4.9,
           "GAB"
          ],
          [
           24651.18,
           4.55,
           "PRT"
          ],
          [
           20571.22,
           4.93,
           "GRC"
          ],
          [
           11255.28,
           3.44,
           "CUB"
          ],
          [
           1668.01,
           6.31,
           "CMR"
          ],
          [
           2166.04,
           4.38,
           "MRT"
          ],
          [
           785.58,
           6.46,
           "SDN"
          ],
          [
           1185.06,
           5.2,
           "GIN"
          ],
          [
           6035.14,
           6.7,
           "PRY"
          ],
          [
           2449.91,
           4.98,
           "BGD"
          ],
          [
           4966.52,
           3.26,
           "ARM"
          ],
          [
           30058.39,
           5.78,
           "ESP"
          ],
          [
           32280.93,
           4.19,
           "CYP"
          ],
          [
           234317.08,
           2.43,
           "MCO"
          ],
          [
           955.17,
           5.86,
           "TCD"
          ],
          [
           12390.37,
           1.76,
           "NRU"
          ],
          [
           50425.1,
           3.01,
           "SMR"
          ],
          [
           758.55,
           5.45,
           "GNB"
          ],
          [
           39649.93,
           4.53,
           "JPN"
          ],
          [
           89241.71,
           3.81,
           "NOR"
          ],
          [
           6228.7,
           4.64,
           "BLZ"
          ],
          [
           874.55,
           5.89,
           "MLI"
          ],
          [
           3918.02,
           4.64,
           "LKA"
          ],
          [
           27990.62,
           3.6,
           "EST"
          ],
          [
           60729.71,
           4.56,
           "SWE"
          ],
          [
           4975.12,
           2.96,
           "GEO"
          ],
          [
           68036.72,
           3.86,
           "DNK"
          ],
          [
           10761.08,
           4.38,
           "ARG"
          ],
          [
           21267.46,
           3.51,
           "LVA"
          ],
          [
           23844.13,
           3.31,
           "LTU"
          ],
          [
           52112.06,
           3.66,
           "CAN"
          ],
          [
           53703.45,
           2.71,
           "FIN"
          ],
          [
           8950.23,
           3.05,
           "GRD"
          ],
          [
           69133.13,
           3.39,
           "ISL"
          ],
          [
           1631.48,
           3.86,
           "COM"
          ],
          [
           4596.35,
           6.18,
           "UKR"
          ],
          [
           2305.98,
           4.15,
           "SLB"
          ],
          [
           4883.21,
           6.48,
           "GTM"
          ],
          [
           6396.46,
           5.63,
           "ALB"
          ],
          [
           17736.42,
           4.01,
           "POL"
          ],
          [
           1764.93,
           2.35,
           "KIR"
          ],
          [
           12258.77,
           6.24,
           "RUS"
          ],
          [
           1517.22,
           3.96,
           "TLS"
          ],
          [
           622.98,
           4.34,
           "ERI"
          ],
          [
           34940.41,
           4.91,
           "KOR"
          ],
          [
           16265.1,
           4.6,
           "CHL"
          ],
          [
           4646.54,
           3.9,
           "FJI"
          ],
          [
           27478.39,
           3.79,
           "BHS"
          ],
          [
           31448.91,
           2.76,
           "BRN"
          ],
          [
           12207.26,
           5.43,
           "BGR"
          ],
          [
           551.13,
           7.75,
           "COD"
          ],
          [
           66915.86,
           4,
           "AUS"
          ],
          [
           7121,
           5.08,
           "BLR"
          ],
          [
           4450.53,
           3.78,
           "TON"
          ],
          [
           16983.45,
           5.06,
           "HRV"
          ],
          [
           14697.75,
           4.59,
           "ROU"
          ],
          [
           7605.45,
           4.11,
           "GNQ"
          ],
          [
           8643.29,
           6.21,
           "SRB"
          ],
          [
           3918.66,
           2.04,
           "WSM"
          ],
          [
           18082.69,
           4.1,
           "KNA"
          ],
          [
           18728.32,
           4.5,
           "HUN"
          ],
          [
           9252.31,
           6,
           "MNE"
          ],
          [
           16032.5,
           4.94,
           "TTO"
          ],
          [
           26808.54,
           4.63,
           "CZE"
          ],
          [
           17225.46,
           3.21,
           "BRB"
          ],
          [
           2568.92,
           5.51,
           "LAO"
          ],
          [
           12084.13,
           2.94,
           "PLW"
          ],
          [
           4551.18,
           5.94,
           "SLV"
          ],
          [
           3072.57,
           2.2,
           "VUT"
          ],
          [
           66821.72,
           3.13,
           "SGP"
          ],
          [
           4058.35,
           4.71,
           "JOR"
          ],
          [
           48823.51,
           3.25,
           "NZL"
          ],
          [
           15245.82,
           3.34,
           "ATG"
          ],
          [
           7143.28,
           5.89,
           "BIH"
          ],
          [
           6599.62,
           5.31,
           "MKD"
          ],
          [
           21390.45,
           4.69,
           "SVK"
          ],
          [
           4468.42,
           4.45,
           "MDA"
          ],
          [
           6111.27,
           2.31,
           "MHL"
          ],
          [
           3572.66,
           3.3,
           "FSM"
          ],
          [
           310.71,
           4.51,
           "BDI"
          ],
          [
           461.36,
           7.04,
           "CAF"
          ],
          [
           5370.42,
           1.54,
           "TUV"
          ],
          [
           10366.29,
           4.06,
           "MDV"
          ],
          [
           400.44,
           6.34,
           "SSD"
          ],
          [
           447,
           5.79,
           "SOM"
          ],
          [
           17312.64,
           2.69,
           "URY"
          ],
          [
           5791.25,
           6.55,
           "LBY"
          ],
          [
           5183.58,
           5.91,
           "JAM"
          ],
          [
           8440.03,
           3.3,
           "VCT"
          ],
          [
           29134.8,
           4.29,
           "SVN"
          ],
          [
           9824.06,
           4.09,
           "LCA"
          ],
          [
           7570.78,
           2.63,
           "DMA"
          ]
         ],
         "geo": "geo",
         "hovertemplate": "<b>%{hovertext}</b><br><br>GDP, Per Capita GDP - US Dollars=%{customdata[0]}<br>Resilience=%{z}<extra></extra>",
         "hovertext": [
          "Turkey",
          "Cabo Verde",
          "South Africa",
          "Colombia",
          "Peru",
          "Iraq",
          "Suriname",
          "Venezuela",
          "Mauritius",
          "Botswana",
          "Iran",
          "Guyana",
          "Senegal",
          "Brazil",
          "Cambodia",
          "Nigeria",
          "Philippines",
          "Rwanda",
          "Ghana",
          "Ethiopia",
          "Bolivia",
          "Kenya",
          "Afghanistan",
          "Indonesia",
          "Gambia",
          "Namibia",
          "Mexico",
          "Sao Tome and Principe",
          "Tunisia",
          "Algeria",
          "Morocco",
          "Seychelles",
          "Djibouti",
          "India",
          "Angola",
          "Saudi Arabia",
          "Côte d'Ivoire",
          "Switzerland",
          "Yemen",
          "Tajikistan",
          "Zambia",
          "Syria",
          "Turkmenistan",
          "Ireland",
          "Korea, DPR",
          "Malawi",
          "Myanmar",
          "Nepal",
          "Tanzania",
          "Ecuador",
          "Egypt",
          "Costa Rica",
          "Togo",
          "Bahrain",
          "Uganda",
          "Uzbekistan",
          "Vietnam",
          "Thailand",
          "Panama",
          "United Arab Emirates",
          "Nicaragua",
          "Kuwait",
          "Lesotho",
          "Burkina Faso",
          "Haiti",
          "Azerbaijan",
          "Malaysia",
          "Benin",
          "Papua New Guinea",
          "Oman",
          "Pakistan",
          "Sierra Leone",
          "France",
          "Netherlands",
          "Kyrgyzstan",
          "Andorra",
          "Madagascar",
          "Israel",
          "Belgium",
          "Qatar",
          "Honduras",
          "Mozambique",
          "Germany",
          "United Kingdom",
          "Austria",
          "Congo, Rep.",
          "Lebanon",
          "Liechtenstein",
          "China",
          "Bhutan",
          "Luxembourg",
          "United States",
          "Kazakhstan",
          "Dominican Republic",
          "Eswatini",
          "Italy",
          "Niger",
          "Malta",
          "Zimbabwe",
          "Liberia",
          "Mongolia",
          "Gabon",
          "Portugal",
          "Greece",
          "Cuba",
          "Cameroon",
          "Mauritania",
          "Sudan",
          "Guinea",
          "Paraguay",
          "Bangladesh",
          "Armenia",
          "Spain",
          "Cyprus",
          "Monaco",
          "Chad",
          "Nauru",
          "San Marino",
          "Guinea-Bissau",
          "Japan",
          "Norway",
          "Belize",
          "Mali",
          "Sri Lanka",
          "Estonia",
          "Sweden",
          "Georgia",
          "Denmark",
          "Argentina",
          "Latvia",
          "Lithuania",
          "Canada",
          "Finland",
          "Grenada",
          "Iceland",
          "Comoros",
          "Ukraine",
          "Solomon Islands",
          "Guatemala",
          "Albania",
          "Poland",
          "Kiribati",
          "Russia",
          "Timor-Leste",
          "Eritrea",
          "Korea, Rep.",
          "Chile",
          "Fiji",
          "Bahamas",
          "Brunei",
          "Bulgaria",
          "Congo, Dem. Rep.",
          "Australia",
          "Belarus",
          "Tonga",
          "Croatia",
          "Romania",
          "Equatorial Guinea",
          "Serbia",
          "Samoa",
          "St. Kitts and Nevis",
          "Hungary",
          "Montenegro",
          "Trinidad and Tobago",
          "Czech Republic",
          "Barbados",
          "Laos",
          "Palau",
          "El Salvador",
          "Vanuatu",
          "Singapore",
          "Jordan",
          "New Zealand",
          "Antigua and Barbuda",
          "Bosnia and Herzegovina",
          "North Macedonia",
          "Slovakia",
          "Moldova",
          "Marshall Islands",
          "Micronesia (Federated States of)",
          "Burundi",
          "Central African Republic",
          "Tuvalu",
          "Maldives",
          "South Sudan",
          "Somalia",
          "Uruguay",
          "Libya",
          "Jamaica",
          "St. Vincent and the Grenadines",
          "Slovenia",
          "St. Lucia",
          "Dominica"
         ],
         "locations": [
          "TUR",
          "CPV",
          "ZAF",
          "COL",
          "PER",
          "IRQ",
          "SUR",
          "VEN",
          "MUS",
          "BWA",
          "IRN",
          "GUY",
          "SEN",
          "BRA",
          "KHM",
          "NGA",
          "PHL",
          "RWA",
          "GHA",
          "ETH",
          "BOL",
          "KEN",
          "AFG",
          "IDN",
          "GMB",
          "NAM",
          "MEX",
          "STP",
          "TUN",
          "DZA",
          "MAR",
          "SYC",
          "DJI",
          "IND",
          "AGO",
          "SAU",
          "CIV",
          "CHE",
          "YEM",
          "TJK",
          "ZMB",
          "SYR",
          "TKM",
          "IRL",
          "PRK",
          "MWI",
          "MMR",
          "NPL",
          "TZA",
          "ECU",
          "EGY",
          "CRI",
          "TGO",
          "BHR",
          "UGA",
          "UZB",
          "VNM",
          "THA",
          "PAN",
          "ARE",
          "NIC",
          "KWT",
          "LSO",
          "BFA",
          "HTI",
          "AZE",
          "MYS",
          "BEN",
          "PNG",
          "OMN",
          "PAK",
          "SLE",
          "FRA",
          "NLD",
          "KGZ",
          "AND",
          "MDG",
          "ISR",
          "BEL",
          "QAT",
          "HND",
          "MOZ",
          "DEU",
          "GBR",
          "AUT",
          "COG",
          "LBN",
          "LIE",
          "CHN",
          "BTN",
          "LUX",
          "USA",
          "KAZ",
          "DOM",
          "SWZ",
          "ITA",
          "NER",
          "MLT",
          "ZWE",
          "LBR",
          "MNG",
          "GAB",
          "PRT",
          "GRC",
          "CUB",
          "CMR",
          "MRT",
          "SDN",
          "GIN",
          "PRY",
          "BGD",
          "ARM",
          "ESP",
          "CYP",
          "MCO",
          "TCD",
          "NRU",
          "SMR",
          "GNB",
          "JPN",
          "NOR",
          "BLZ",
          "MLI",
          "LKA",
          "EST",
          "SWE",
          "GEO",
          "DNK",
          "ARG",
          "LVA",
          "LTU",
          "CAN",
          "FIN",
          "GRD",
          "ISL",
          "COM",
          "UKR",
          "SLB",
          "GTM",
          "ALB",
          "POL",
          "KIR",
          "RUS",
          "TLS",
          "ERI",
          "KOR",
          "CHL",
          "FJI",
          "BHS",
          "BRN",
          "BGR",
          "COD",
          "AUS",
          "BLR",
          "TON",
          "HRV",
          "ROU",
          "GNQ",
          "SRB",
          "WSM",
          "KNA",
          "HUN",
          "MNE",
          "TTO",
          "CZE",
          "BRB",
          "LAO",
          "PLW",
          "SLV",
          "VUT",
          "SGP",
          "JOR",
          "NZL",
          "ATG",
          "BIH",
          "MKD",
          "SVK",
          "MDA",
          "MHL",
          "FSM",
          "BDI",
          "CAF",
          "TUV",
          "MDV",
          "SSD",
          "SOM",
          "URY",
          "LBY",
          "JAM",
          "VCT",
          "SVN",
          "LCA",
          "DMA"
         ],
         "name": "",
         "type": "choropleth",
         "z": [
          3.54,
          6.33,
          5.79,
          5.83,
          4.58,
          3.79,
          2.25,
          1.92,
          5.67,
          5.63,
          3.5,
          4.29,
          5.58,
          5.04,
          3.92,
          5.5,
          4.13,
          5.5,
          5.38,
          5.38,
          4.88,
          5.21,
          2.67,
          4.33,
          5,
          4.96,
          4.46,
          4.92,
          4.83,
          4.63,
          4.63,
          4.58,
          4.5,
          5.25,
          4.42,
          4.29,
          4.42,
          7.13,
          2,
          2.67,
          4.33,
          1.88,
          2.17,
          7.38,
          1.96,
          4.29,
          3.42,
          3.71,
          4.04,
          5.71,
          4.04,
          5.5,
          4,
          5.54,
          3.96,
          3.79,
          4.67,
          4.67,
          4.83,
          5.33,
          2.46,
          5.54,
          3.67,
          3.63,
          2.67,
          4.08,
          5.83,
          3.54,
          3.42,
          5.25,
          4,
          3.46,
          6.83,
          7.42,
          4.17,
          7.75,
          3.38,
          6,
          7,
          5.58,
          3.92,
          3.29,
          7.67,
          7.88,
          7.42,
          3.25,
          4,
          8.42,
          5.46,
          4.58,
          7.5,
          6.58,
          4.71,
          4.67,
          3.25,
          6.29,
          3.21,
          5.17,
          3.17,
          3.17,
          5.08,
          3.17,
          6.46,
          5.25,
          5.38,
          3.13,
          3.08,
          2.96,
          2.83,
          3.38,
          4.13,
          5.71,
          6.63,
          4.42,
          5.38,
          2.46,
          4.67,
          5.13,
          2.42,
          7.46,
          7.92,
          3.13,
          2.38,
          4.04,
          7.83,
          7.46,
          5.71,
          8.21,
          6.33,
          7.42,
          7.21,
          7.25,
          8.42,
          4.67,
          8.04,
          2.38,
          4,
          5.21,
          4.42,
          5.04,
          6.13,
          4.33,
          4.04,
          3.67,
          2.33,
          7.54,
          6.42,
          5.25,
          5.21,
          4.58,
          5.29,
          2.29,
          7.96,
          3.79,
          5.21,
          5.58,
          5.58,
          2.17,
          4.92,
          5.67,
          5,
          5.08,
          4.46,
          5.21,
          6.25,
          5.71,
          3.42,
          4.54,
          3.71,
          5.33,
          7.71,
          5.92,
          8.38,
          4.33,
          3.92,
          5.21,
          5.38,
          3.71,
          5.04,
          5.33,
          2.08,
          1.92,
          6.04,
          3.88,
          1.83,
          1.67,
          7.75,
          1.54,
          5.46,
          5.46,
          6.08,
          5.63,
          5.08
         ]
        }
       ],
       "layout": {
        "coloraxis": {
         "colorbar": {
          "title": {
           "text": "Resilience"
          }
         },
         "colorscale": [
          [
           0,
           "rgb(209, 238, 234)"
          ],
          [
           0.16666666666666666,
           "rgb(168, 219, 217)"
          ],
          [
           0.3333333333333333,
           "rgb(133, 196, 201)"
          ],
          [
           0.5,
           "rgb(104, 171, 184)"
          ],
          [
           0.6666666666666666,
           "rgb(79, 144, 166)"
          ],
          [
           0.8333333333333334,
           "rgb(59, 115, 143)"
          ],
          [
           1,
           "rgb(42, 86, 116)"
          ]
         ]
        },
        "geo": {
         "center": {},
         "domain": {
          "x": [
           0,
           1
          ],
          "y": [
           0,
           1
          ]
         },
         "projection": {
          "type": "natural earth"
         }
        },
        "height": 500,
        "legend": {
         "tracegroupgap": 0
        },
        "template": {
         "data": {
          "bar": [
           {
            "error_x": {
             "color": "#2a3f5f"
            },
            "error_y": {
             "color": "#2a3f5f"
            },
            "marker": {
             "line": {
              "color": "white",
              "width": 0.5
             },
             "pattern": {
              "fillmode": "overlay",
              "size": 10,
              "solidity": 0.2
             }
            },
            "type": "bar"
           }
          ],
          "barpolar": [
           {
            "marker": {
             "line": {
              "color": "white",
              "width": 0.5
             },
             "pattern": {
              "fillmode": "overlay",
              "size": 10,
              "solidity": 0.2
             }
            },
            "type": "barpolar"
           }
          ],
          "carpet": [
           {
            "aaxis": {
             "endlinecolor": "#2a3f5f",
             "gridcolor": "#C8D4E3",
             "linecolor": "#C8D4E3",
             "minorgridcolor": "#C8D4E3",
             "startlinecolor": "#2a3f5f"
            },
            "baxis": {
             "endlinecolor": "#2a3f5f",
             "gridcolor": "#C8D4E3",
             "linecolor": "#C8D4E3",
             "minorgridcolor": "#C8D4E3",
             "startlinecolor": "#2a3f5f"
            },
            "type": "carpet"
           }
          ],
          "choropleth": [
           {
            "colorbar": {
             "outlinewidth": 0,
             "ticks": ""
            },
            "type": "choropleth"
           }
          ],
          "contour": [
           {
            "colorbar": {
             "outlinewidth": 0,
             "ticks": ""
            },
            "colorscale": [
             [
              0,
              "#0d0887"
             ],
             [
              0.1111111111111111,
              "#46039f"
             ],
             [
              0.2222222222222222,
              "#7201a8"
             ],
             [
              0.3333333333333333,
              "#9c179e"
             ],
             [
              0.4444444444444444,
              "#bd3786"
             ],
             [
              0.5555555555555556,
              "#d8576b"
             ],
             [
              0.6666666666666666,
              "#ed7953"
             ],
             [
              0.7777777777777778,
              "#fb9f3a"
             ],
             [
              0.8888888888888888,
              "#fdca26"
             ],
             [
              1,
              "#f0f921"
             ]
            ],
            "type": "contour"
           }
          ],
          "contourcarpet": [
           {
            "colorbar": {
             "outlinewidth": 0,
             "ticks": ""
            },
            "type": "contourcarpet"
           }
          ],
          "heatmap": [
           {
            "colorbar": {
             "outlinewidth": 0,
             "ticks": ""
            },
            "colorscale": [
             [
              0,
              "#0d0887"
             ],
             [
              0.1111111111111111,
              "#46039f"
             ],
             [
              0.2222222222222222,
              "#7201a8"
             ],
             [
              0.3333333333333333,
              "#9c179e"
             ],
             [
              0.4444444444444444,
              "#bd3786"
             ],
             [
              0.5555555555555556,
              "#d8576b"
             ],
             [
              0.6666666666666666,
              "#ed7953"
             ],
             [
              0.7777777777777778,
              "#fb9f3a"
             ],
             [
              0.8888888888888888,
              "#fdca26"
             ],
             [
              1,
              "#f0f921"
             ]
            ],
            "type": "heatmap"
           }
          ],
          "heatmapgl": [
           {
            "colorbar": {
             "outlinewidth": 0,
             "ticks": ""
            },
            "colorscale": [
             [
              0,
              "#0d0887"
             ],
             [
              0.1111111111111111,
              "#46039f"
             ],
             [
              0.2222222222222222,
              "#7201a8"
             ],
             [
              0.3333333333333333,
              "#9c179e"
             ],
             [
              0.4444444444444444,
              "#bd3786"
             ],
             [
              0.5555555555555556,
              "#d8576b"
             ],
             [
              0.6666666666666666,
              "#ed7953"
             ],
             [
              0.7777777777777778,
              "#fb9f3a"
             ],
             [
              0.8888888888888888,
              "#fdca26"
             ],
             [
              1,
              "#f0f921"
             ]
            ],
            "type": "heatmapgl"
           }
          ],
          "histogram": [
           {
            "marker": {
             "pattern": {
              "fillmode": "overlay",
              "size": 10,
              "solidity": 0.2
             }
            },
            "type": "histogram"
           }
          ],
          "histogram2d": [
           {
            "colorbar": {
             "outlinewidth": 0,
             "ticks": ""
            },
            "colorscale": [
             [
              0,
              "#0d0887"
             ],
             [
              0.1111111111111111,
              "#46039f"
             ],
             [
              0.2222222222222222,
              "#7201a8"
             ],
             [
              0.3333333333333333,
              "#9c179e"
             ],
             [
              0.4444444444444444,
              "#bd3786"
             ],
             [
              0.5555555555555556,
              "#d8576b"
             ],
             [
              0.6666666666666666,
              "#ed7953"
             ],
             [
              0.7777777777777778,
              "#fb9f3a"
             ],
             [
              0.8888888888888888,
              "#fdca26"
             ],
             [
              1,
              "#f0f921"
             ]
            ],
            "type": "histogram2d"
           }
          ],
          "histogram2dcontour": [
           {
            "colorbar": {
             "outlinewidth": 0,
             "ticks": ""
            },
            "colorscale": [
             [
              0,
              "#0d0887"
             ],
             [
              0.1111111111111111,
              "#46039f"
             ],
             [
              0.2222222222222222,
              "#7201a8"
             ],
             [
              0.3333333333333333,
              "#9c179e"
             ],
             [
              0.4444444444444444,
              "#bd3786"
             ],
             [
              0.5555555555555556,
              "#d8576b"
             ],
             [
              0.6666666666666666,
              "#ed7953"
             ],
             [
              0.7777777777777778,
              "#fb9f3a"
             ],
             [
              0.8888888888888888,
              "#fdca26"
             ],
             [
              1,
              "#f0f921"
             ]
            ],
            "type": "histogram2dcontour"
           }
          ],
          "mesh3d": [
           {
            "colorbar": {
             "outlinewidth": 0,
             "ticks": ""
            },
            "type": "mesh3d"
           }
          ],
          "parcoords": [
           {
            "line": {
             "colorbar": {
              "outlinewidth": 0,
              "ticks": ""
             }
            },
            "type": "parcoords"
           }
          ],
          "pie": [
           {
            "automargin": true,
            "type": "pie"
           }
          ],
          "scatter": [
           {
            "fillpattern": {
             "fillmode": "overlay",
             "size": 10,
             "solidity": 0.2
            },
            "type": "scatter"
           }
          ],
          "scatter3d": [
           {
            "line": {
             "colorbar": {
              "outlinewidth": 0,
              "ticks": ""
             }
            },
            "marker": {
             "colorbar": {
              "outlinewidth": 0,
              "ticks": ""
             }
            },
            "type": "scatter3d"
           }
          ],
          "scattercarpet": [
           {
            "marker": {
             "colorbar": {
              "outlinewidth": 0,
              "ticks": ""
             }
            },
            "type": "scattercarpet"
           }
          ],
          "scattergeo": [
           {
            "marker": {
             "colorbar": {
              "outlinewidth": 0,
              "ticks": ""
             }
            },
            "type": "scattergeo"
           }
          ],
          "scattergl": [
           {
            "marker": {
             "colorbar": {
              "outlinewidth": 0,
              "ticks": ""
             }
            },
            "type": "scattergl"
           }
          ],
          "scattermapbox": [
           {
            "marker": {
             "colorbar": {
              "outlinewidth": 0,
              "ticks": ""
             }
            },
            "type": "scattermapbox"
           }
          ],
          "scatterpolar": [
           {
            "marker": {
             "colorbar": {
              "outlinewidth": 0,
              "ticks": ""
             }
            },
            "type": "scatterpolar"
           }
          ],
          "scatterpolargl": [
           {
            "marker": {
             "colorbar": {
              "outlinewidth": 0,
              "ticks": ""
             }
            },
            "type": "scatterpolargl"
           }
          ],
          "scatterternary": [
           {
            "marker": {
             "colorbar": {
              "outlinewidth": 0,
              "ticks": ""
             }
            },
            "type": "scatterternary"
           }
          ],
          "surface": [
           {
            "colorbar": {
             "outlinewidth": 0,
             "ticks": ""
            },
            "colorscale": [
             [
              0,
              "#0d0887"
             ],
             [
              0.1111111111111111,
              "#46039f"
             ],
             [
              0.2222222222222222,
              "#7201a8"
             ],
             [
              0.3333333333333333,
              "#9c179e"
             ],
             [
              0.4444444444444444,
              "#bd3786"
             ],
             [
              0.5555555555555556,
              "#d8576b"
             ],
             [
              0.6666666666666666,
              "#ed7953"
             ],
             [
              0.7777777777777778,
              "#fb9f3a"
             ],
             [
              0.8888888888888888,
              "#fdca26"
             ],
             [
              1,
              "#f0f921"
             ]
            ],
            "type": "surface"
           }
          ],
          "table": [
           {
            "cells": {
             "fill": {
              "color": "#EBF0F8"
             },
             "line": {
              "color": "white"
             }
            },
            "header": {
             "fill": {
              "color": "#C8D4E3"
             },
             "line": {
              "color": "white"
             }
            },
            "type": "table"
           }
          ]
         },
         "layout": {
          "annotationdefaults": {
           "arrowcolor": "#2a3f5f",
           "arrowhead": 0,
           "arrowwidth": 1
          },
          "autotypenumbers": "strict",
          "coloraxis": {
           "colorbar": {
            "outlinewidth": 0,
            "ticks": ""
           }
          },
          "colorscale": {
           "diverging": [
            [
             0,
             "#8e0152"
            ],
            [
             0.1,
             "#c51b7d"
            ],
            [
             0.2,
             "#de77ae"
            ],
            [
             0.3,
             "#f1b6da"
            ],
            [
             0.4,
             "#fde0ef"
            ],
            [
             0.5,
             "#f7f7f7"
            ],
            [
             0.6,
             "#e6f5d0"
            ],
            [
             0.7,
             "#b8e186"
            ],
            [
             0.8,
             "#7fbc41"
            ],
            [
             0.9,
             "#4d9221"
            ],
            [
             1,
             "#276419"
            ]
           ],
           "sequential": [
            [
             0,
             "#0d0887"
            ],
            [
             0.1111111111111111,
             "#46039f"
            ],
            [
             0.2222222222222222,
             "#7201a8"
            ],
            [
             0.3333333333333333,
             "#9c179e"
            ],
            [
             0.4444444444444444,
             "#bd3786"
            ],
            [
             0.5555555555555556,
             "#d8576b"
            ],
            [
             0.6666666666666666,
             "#ed7953"
            ],
            [
             0.7777777777777778,
             "#fb9f3a"
            ],
            [
             0.8888888888888888,
             "#fdca26"
            ],
            [
             1,
             "#f0f921"
            ]
           ],
           "sequentialminus": [
            [
             0,
             "#0d0887"
            ],
            [
             0.1111111111111111,
             "#46039f"
            ],
            [
             0.2222222222222222,
             "#7201a8"
            ],
            [
             0.3333333333333333,
             "#9c179e"
            ],
            [
             0.4444444444444444,
             "#bd3786"
            ],
            [
             0.5555555555555556,
             "#d8576b"
            ],
            [
             0.6666666666666666,
             "#ed7953"
            ],
            [
             0.7777777777777778,
             "#fb9f3a"
            ],
            [
             0.8888888888888888,
             "#fdca26"
            ],
            [
             1,
             "#f0f921"
            ]
           ]
          },
          "colorway": [
           "#636efa",
           "#EF553B",
           "#00cc96",
           "#ab63fa",
           "#FFA15A",
           "#19d3f3",
           "#FF6692",
           "#B6E880",
           "#FF97FF",
           "#FECB52"
          ],
          "font": {
           "color": "#2a3f5f"
          },
          "geo": {
           "bgcolor": "white",
           "lakecolor": "white",
           "landcolor": "white",
           "showlakes": true,
           "showland": true,
           "subunitcolor": "#C8D4E3"
          },
          "hoverlabel": {
           "align": "left"
          },
          "hovermode": "closest",
          "mapbox": {
           "style": "light"
          },
          "paper_bgcolor": "white",
          "plot_bgcolor": "white",
          "polar": {
           "angularaxis": {
            "gridcolor": "#EBF0F8",
            "linecolor": "#EBF0F8",
            "ticks": ""
           },
           "bgcolor": "white",
           "radialaxis": {
            "gridcolor": "#EBF0F8",
            "linecolor": "#EBF0F8",
            "ticks": ""
           }
          },
          "scene": {
           "xaxis": {
            "backgroundcolor": "white",
            "gridcolor": "#DFE8F3",
            "gridwidth": 2,
            "linecolor": "#EBF0F8",
            "showbackground": true,
            "ticks": "",
            "zerolinecolor": "#EBF0F8"
           },
           "yaxis": {
            "backgroundcolor": "white",
            "gridcolor": "#DFE8F3",
            "gridwidth": 2,
            "linecolor": "#EBF0F8",
            "showbackground": true,
            "ticks": "",
            "zerolinecolor": "#EBF0F8"
           },
           "zaxis": {
            "backgroundcolor": "white",
            "gridcolor": "#DFE8F3",
            "gridwidth": 2,
            "linecolor": "#EBF0F8",
            "showbackground": true,
            "ticks": "",
            "zerolinecolor": "#EBF0F8"
           }
          },
          "shapedefaults": {
           "line": {
            "color": "#2a3f5f"
           }
          },
          "ternary": {
           "aaxis": {
            "gridcolor": "#DFE8F3",
            "linecolor": "#A2B1C6",
            "ticks": ""
           },
           "baxis": {
            "gridcolor": "#DFE8F3",
            "linecolor": "#A2B1C6",
            "ticks": ""
           },
           "bgcolor": "white",
           "caxis": {
            "gridcolor": "#DFE8F3",
            "linecolor": "#A2B1C6",
            "ticks": ""
           }
          },
          "title": {
           "x": 0.05
          },
          "xaxis": {
           "automargin": true,
           "gridcolor": "#EBF0F8",
           "linecolor": "#EBF0F8",
           "ticks": "",
           "title": {
            "standoff": 15
           },
           "zerolinecolor": "#EBF0F8",
           "zerolinewidth": 2
          },
          "yaxis": {
           "automargin": true,
           "gridcolor": "#EBF0F8",
           "linecolor": "#EBF0F8",
           "ticks": "",
           "title": {
            "standoff": 15
           },
           "zerolinecolor": "#EBF0F8",
           "zerolinewidth": 2
          }
         }
        },
        "title": {
         "text": "Resilience against crime per country"
        },
        "width": 1050
       }
      }
     },
     "metadata": {},
     "output_type": "display_data"
    }
   ],
   "source": [
    "# creating world map\n",
    "crime_fig = px.choropleth(merged_data, \n",
    "                    locations='Code Value', # assignment of countries with ISO3\n",
    "                    color=\"Criminality\", # color scale\n",
    "                    hover_name=\"Country\", # name while hovering\n",
    "                    color_continuous_scale=\"reds\", # color scheme\n",
    "                    hover_data= {gdp_column : True, \"Criminality\": False, \"Code Value\" : False}, # hiding unnecessary values\n",
    "                    projection='natural earth', # type of world map\n",
    "                    title='Organised crime per country', # title\n",
    "                    template=\"plotly_white\",  # design\n",
    "                    height=500, width=1050) # size\n",
    "\n",
    "resilience_fig = px.choropleth(merged_data, \n",
    "                    locations='Code Value',\n",
    "                    color=\"Resilience\", \n",
    "                    hover_name=\"Country\", \n",
    "                    color_continuous_scale=\"teal\", \n",
    "                    hover_data= {gdp_column : True, \"Criminality\": False, \"Code Value\" : False}, # Unnötige Hoverwerte entfernen\n",
    "                    projection='natural earth', \n",
    "                    title='Resilience against crime per country', \n",
    "                    template=\"plotly_white\",  \n",
    "                    height=500, width=1050) \n",
    "\n",
    "\n",
    "crime_fig.show()\n",
    "resilience_fig.show()"
   ]
  },
  {
   "cell_type": "markdown",
   "metadata": {},
   "source": [
    "### <u> 3.3 Correlation </u>\n",
    "\n",
    "### 3.3.1 Relationship between Economic Perfomance and Organized Crime"
   ]
  },
  {
   "cell_type": "code",
   "execution_count": 15,
   "metadata": {},
   "outputs": [
    {
     "data": {
      "application/vnd.plotly.v1+json": {
       "config": {
        "plotlyServerURL": "https://plot.ly"
       },
       "data": [
        {
         "hovertemplate": "<b>%{hovertext}</b><br><br>Continent=Asia<br>GDP, Per Capita GDP - US Dollars=%{x}<br>Criminality=%{y}<extra></extra>",
         "hovertext": [
          "Turkey",
          "Iraq",
          "Iran",
          "Cambodia",
          "Philippines",
          "Afghanistan",
          "Indonesia",
          "India",
          "Saudi Arabia",
          "Yemen",
          "Tajikistan",
          "Syria",
          "Turkmenistan",
          "Korea, DPR",
          "Myanmar",
          "Nepal",
          "Bahrain",
          "Uzbekistan",
          "Vietnam",
          "Thailand",
          "United Arab Emirates",
          "Kuwait",
          "Azerbaijan",
          "Malaysia",
          "Oman",
          "Pakistan",
          "Kyrgyzstan",
          "Israel",
          "Qatar",
          "Lebanon",
          "China",
          "Bhutan",
          "Kazakhstan",
          "Mongolia",
          "Bangladesh",
          "Armenia",
          "Japan",
          "Sri Lanka",
          "Georgia",
          "Timor-Leste",
          "Korea, Rep.",
          "Brunei",
          "Laos",
          "Singapore",
          "Jordan",
          "Maldives"
         ],
         "legendgroup": "Asia",
         "marker": {
          "color": "#636efa",
          "symbol": "circle"
         },
         "mode": "markers",
         "name": "Asia",
         "orientation": "v",
         "showlegend": true,
         "type": "scatter",
         "x": [
          9661.23,
          4686.13,
          6766.02,
          1607.66,
          3460.53,
          372.55,
          4332.71,
          2274.48,
          23185.87,
          301.59,
          897.05,
          924.71,
          8507.67,
          654.15,
          1088.93,
          1205.5,
          26562.97,
          2031.57,
          3756.49,
          7066.68,
          43295.39,
          32150.18,
          5296.44,
          11100.94,
          19509.47,
          1480.11,
          1339.01,
          54111.02,
          66798.77,
          6784.8,
          12437.21,
          3062.91,
          10054.89,
          4509.86,
          2449.91,
          4966.52,
          39649.93,
          3918.02,
          4975.12,
          1517.22,
          34940.41,
          31448.91,
          2568.92,
          66821.72,
          4058.35,
          10366.29
         ],
         "xaxis": "x",
         "y": [
          6.89,
          7.05,
          7.1,
          5.83,
          6.84,
          7.08,
          6.38,
          5.53,
          6.01,
          6.13,
          5.61,
          6.84,
          4.61,
          4.78,
          7.59,
          6.16,
          4.83,
          4.96,
          6.28,
          5.76,
          5.75,
          5.14,
          5.08,
          5.94,
          4.14,
          6.28,
          5.33,
          4.41,
          5.21,
          6.76,
          6.01,
          3.69,
          4.26,
          4.01,
          4.98,
          3.26,
          4.53,
          4.64,
          2.96,
          3.96,
          4.91,
          2.76,
          5.51,
          3.13,
          4.71,
          4.06
         ],
         "yaxis": "y"
        },
        {
         "hovertemplate": "<b>%{hovertext}</b><br><br>Continent=Africa<br>GDP, Per Capita GDP - US Dollars=%{x}<br>Criminality=%{y}<extra></extra>",
         "hovertext": [
          "Cabo Verde",
          "South Africa",
          "Mauritius",
          "Botswana",
          "Senegal",
          "Nigeria",
          "Rwanda",
          "Ghana",
          "Ethiopia",
          "Kenya",
          "Gambia",
          "Namibia",
          "Sao Tome and Principe",
          "Tunisia",
          "Algeria",
          "Morocco",
          "Seychelles",
          "Djibouti",
          "Angola",
          "Côte d'Ivoire",
          "Zambia",
          "Malawi",
          "Tanzania",
          "Egypt",
          "Togo",
          "Uganda",
          "Lesotho",
          "Burkina Faso",
          "Benin",
          "Sierra Leone",
          "Madagascar",
          "Mozambique",
          "Congo, Rep.",
          "Eswatini",
          "Niger",
          "Zimbabwe",
          "Liberia",
          "Gabon",
          "Cameroon",
          "Mauritania",
          "Sudan",
          "Guinea",
          "Chad",
          "Guinea-Bissau",
          "Mali",
          "Comoros",
          "Eritrea",
          "Congo, Dem. Rep.",
          "Equatorial Guinea",
          "Burundi",
          "Central African Republic",
          "South Sudan",
          "Somalia",
          "Libya"
         ],
         "legendgroup": "Africa",
         "marker": {
          "color": "#EF553B",
          "symbol": "circle"
         },
         "mode": "markers",
         "name": "Africa",
         "orientation": "v",
         "showlegend": true,
         "type": "scatter",
         "x": [
          3293.23,
          7055.06,
          8872.96,
          6805.25,
          1636.88,
          2019.31,
          822.32,
          2408.63,
          825.29,
          2081.8,
          772.15,
          4836.17,
          2485.82,
          3807.18,
          3700.32,
          3853.28,
          12084.63,
          3348.01,
          2044.22,
          2538.91,
          1094.5,
          613.34,
          1136.19,
          3898.02,
          943.94,
          930.37,
          1040.31,
          893.08,
          1360.91,
          504.62,
          499.72,
          491.84,
          2200.32,
          3968.91,
          590.63,
          1507.99,
          470.77,
          7910.85,
          1668.01,
          2166.04,
          785.58,
          1185.06,
          955.17,
          758.55,
          874.55,
          1631.48,
          622.98,
          551.13,
          7605.45,
          310.71,
          461.36,
          400.44,
          447,
          5791.25
         ],
         "xaxis": "x",
         "y": [
          4.04,
          6.63,
          4.51,
          3.71,
          4.81,
          7.15,
          3.68,
          6.01,
          4.79,
          6.95,
          4.83,
          4.33,
          1.78,
          3.79,
          4.51,
          4.79,
          3.68,
          3.99,
          5.29,
          6.15,
          4.93,
          3.83,
          6.15,
          5.16,
          5.33,
          6.14,
          3.9,
          5.49,
          5.25,
          5.4,
          5.59,
          6.53,
          5.03,
          3.63,
          6.01,
          5.66,
          5.05,
          4.9,
          6.31,
          4.38,
          6.46,
          5.2,
          5.86,
          5.45,
          5.89,
          3.86,
          4.34,
          7.75,
          4.11,
          4.51,
          7.04,
          6.34,
          5.79,
          6.55
         ],
         "yaxis": "y"
        },
        {
         "hovertemplate": "<b>%{hovertext}</b><br><br>Continent=South America<br>GDP, Per Capita GDP - US Dollars=%{x}<br>Criminality=%{y}<extra></extra>",
         "hovertext": [
          "Colombia",
          "Peru",
          "Suriname",
          "Venezuela",
          "Guyana",
          "Brazil",
          "Bolivia",
          "Ecuador",
          "Paraguay",
          "Argentina",
          "Chile",
          "Uruguay"
         ],
         "legendgroup": "South America",
         "marker": {
          "color": "#00cc96",
          "symbol": "circle"
         },
         "mode": "markers",
         "name": "South America",
         "orientation": "v",
         "showlegend": true,
         "type": "scatter",
         "x": [
          6104.14,
          6621.65,
          5259.26,
          3965.03,
          9998.55,
          7507.16,
          3345.2,
          5965.13,
          6035.14,
          10761.08,
          16265.1,
          17312.64
         ],
         "xaxis": "x",
         "y": [
          7.66,
          6.35,
          4.9,
          6.64,
          5.1,
          6.5,
          4.3,
          6.25,
          6.7,
          4.38,
          4.6,
          2.69
         ],
         "yaxis": "y"
        },
        {
         "hovertemplate": "<b>%{hovertext}</b><br><br>Continent=North America<br>GDP, Per Capita GDP - US Dollars=%{x}<br>Criminality=%{y}<extra></extra>",
         "hovertext": [
          "Mexico",
          "Costa Rica",
          "Panama",
          "Nicaragua",
          "Haiti",
          "Honduras",
          "United States",
          "Dominican Republic",
          "Cuba",
          "Belize",
          "Canada",
          "Grenada",
          "Guatemala",
          "Bahamas",
          "St. Kitts and Nevis",
          "Trinidad and Tobago",
          "Barbados",
          "El Salvador",
          "Antigua and Barbuda",
          "Jamaica",
          "St. Vincent and the Grenadines",
          "St. Lucia",
          "Dominica"
         ],
         "legendgroup": "North America",
         "marker": {
          "color": "#ab63fa",
          "symbol": "circle"
         },
         "mode": "markers",
         "name": "North America",
         "orientation": "v",
         "showlegend": true,
         "type": "scatter",
         "x": [
          10045.68,
          12472.44,
          14617.6,
          2045.53,
          1663.56,
          2771.72,
          69184.7,
          8476.75,
          11255.28,
          6228.7,
          52112.06,
          8950.23,
          4883.21,
          27478.39,
          18082.69,
          16032.5,
          17225.46,
          4551.18,
          15245.82,
          5183.58,
          8440.03,
          9824.06,
          7570.78
         ],
         "xaxis": "x",
         "y": [
          7.56,
          4.99,
          6.68,
          6.06,
          5.73,
          6.98,
          5.5,
          5.15,
          3.44,
          4.64,
          3.66,
          3.05,
          6.48,
          3.79,
          4.1,
          4.94,
          3.21,
          5.94,
          3.34,
          5.91,
          3.3,
          4.09,
          2.63
         ],
         "yaxis": "y"
        },
        {
         "hovertemplate": "<b>%{hovertext}</b><br><br>Continent=Europe<br>GDP, Per Capita GDP - US Dollars=%{x}<br>Criminality=%{y}<extra></extra>",
         "hovertext": [
          "Switzerland",
          "Ireland",
          "France",
          "Netherlands",
          "Andorra",
          "Belgium",
          "Germany",
          "United Kingdom",
          "Austria",
          "Liechtenstein",
          "Luxembourg",
          "Italy",
          "Malta",
          "Portugal",
          "Greece",
          "Spain",
          "Cyprus",
          "Monaco",
          "San Marino",
          "Norway",
          "Estonia",
          "Sweden",
          "Denmark",
          "Latvia",
          "Lithuania",
          "Finland",
          "Iceland",
          "Ukraine",
          "Albania",
          "Poland",
          "Russia",
          "Bulgaria",
          "Belarus",
          "Croatia",
          "Romania",
          "Serbia",
          "Hungary",
          "Montenegro",
          "Czech Republic",
          "Bosnia and Herzegovina",
          "North Macedonia",
          "Slovakia",
          "Moldova",
          "Slovenia"
         ],
         "legendgroup": "Europe",
         "marker": {
          "color": "#FFA15A",
          "symbol": "circle"
         },
         "mode": "markers",
         "name": "Europe",
         "orientation": "v",
         "showlegend": true,
         "type": "scatter",
         "x": [
          93525.37,
          101108.99,
          44229.39,
          57871.35,
          42066.04,
          51165.51,
          51073.12,
          46541.76,
          53840.39,
          169260.22,
          133745.4,
          35578.85,
          33641.6,
          24651.18,
          20571.22,
          30058.39,
          32280.93,
          234317.08,
          50425.1,
          89241.71,
          27990.62,
          60729.71,
          68036.72,
          21267.46,
          23844.13,
          53703.45,
          69133.13,
          4596.35,
          6396.46,
          17736.42,
          12258.77,
          12207.26,
          7121,
          16983.45,
          14697.75,
          8643.29,
          18728.32,
          9252.31,
          26808.54,
          7143.28,
          6599.62,
          21390.45,
          4468.42,
          29134.8
         ],
         "xaxis": "x",
         "y": [
          4.34,
          4.9,
          5.66,
          4.69,
          2.96,
          4.34,
          4.9,
          4.89,
          4.04,
          1.88,
          2.36,
          5.81,
          4.65,
          4.55,
          4.93,
          5.78,
          4.19,
          2.43,
          3.01,
          3.81,
          3.6,
          4.56,
          3.86,
          3.51,
          3.31,
          2.71,
          3.39,
          6.18,
          5.63,
          4.01,
          6.24,
          5.43,
          5.08,
          5.06,
          4.59,
          6.21,
          4.5,
          6,
          4.63,
          5.89,
          5.31,
          4.69,
          4.45,
          4.29
         ],
         "yaxis": "y"
        },
        {
         "hovertemplate": "<b>%{hovertext}</b><br><br>Continent=Oceania<br>GDP, Per Capita GDP - US Dollars=%{x}<br>Criminality=%{y}<extra></extra>",
         "hovertext": [
          "Papua New Guinea",
          "Nauru",
          "Solomon Islands",
          "Kiribati",
          "Fiji",
          "Australia",
          "Tonga",
          "Samoa",
          "Palau",
          "Vanuatu",
          "New Zealand",
          "Marshall Islands",
          "Micronesia (Federated States of)",
          "Tuvalu"
         ],
         "legendgroup": "Oceania",
         "marker": {
          "color": "#19d3f3",
          "symbol": "circle"
         },
         "mode": "markers",
         "name": "Oceania",
         "orientation": "v",
         "showlegend": true,
         "type": "scatter",
         "x": [
          2672.97,
          12390.37,
          2305.98,
          1764.93,
          4646.54,
          66915.86,
          4450.53,
          3918.66,
          12084.13,
          3072.57,
          48823.51,
          6111.27,
          3572.66,
          5370.42
         ],
         "xaxis": "x",
         "y": [
          5.44,
          1.76,
          4.15,
          2.35,
          3.9,
          4,
          3.78,
          2.04,
          2.94,
          2.2,
          3.25,
          2.31,
          3.3,
          1.54
         ],
         "yaxis": "y"
        }
       ],
       "layout": {
        "legend": {
         "title": {
          "text": "Continent"
         },
         "tracegroupgap": 0
        },
        "template": {
         "data": {
          "bar": [
           {
            "error_x": {
             "color": "#2a3f5f"
            },
            "error_y": {
             "color": "#2a3f5f"
            },
            "marker": {
             "line": {
              "color": "#E5ECF6",
              "width": 0.5
             },
             "pattern": {
              "fillmode": "overlay",
              "size": 10,
              "solidity": 0.2
             }
            },
            "type": "bar"
           }
          ],
          "barpolar": [
           {
            "marker": {
             "line": {
              "color": "#E5ECF6",
              "width": 0.5
             },
             "pattern": {
              "fillmode": "overlay",
              "size": 10,
              "solidity": 0.2
             }
            },
            "type": "barpolar"
           }
          ],
          "carpet": [
           {
            "aaxis": {
             "endlinecolor": "#2a3f5f",
             "gridcolor": "white",
             "linecolor": "white",
             "minorgridcolor": "white",
             "startlinecolor": "#2a3f5f"
            },
            "baxis": {
             "endlinecolor": "#2a3f5f",
             "gridcolor": "white",
             "linecolor": "white",
             "minorgridcolor": "white",
             "startlinecolor": "#2a3f5f"
            },
            "type": "carpet"
           }
          ],
          "choropleth": [
           {
            "colorbar": {
             "outlinewidth": 0,
             "ticks": ""
            },
            "type": "choropleth"
           }
          ],
          "contour": [
           {
            "colorbar": {
             "outlinewidth": 0,
             "ticks": ""
            },
            "colorscale": [
             [
              0,
              "#0d0887"
             ],
             [
              0.1111111111111111,
              "#46039f"
             ],
             [
              0.2222222222222222,
              "#7201a8"
             ],
             [
              0.3333333333333333,
              "#9c179e"
             ],
             [
              0.4444444444444444,
              "#bd3786"
             ],
             [
              0.5555555555555556,
              "#d8576b"
             ],
             [
              0.6666666666666666,
              "#ed7953"
             ],
             [
              0.7777777777777778,
              "#fb9f3a"
             ],
             [
              0.8888888888888888,
              "#fdca26"
             ],
             [
              1,
              "#f0f921"
             ]
            ],
            "type": "contour"
           }
          ],
          "contourcarpet": [
           {
            "colorbar": {
             "outlinewidth": 0,
             "ticks": ""
            },
            "type": "contourcarpet"
           }
          ],
          "heatmap": [
           {
            "colorbar": {
             "outlinewidth": 0,
             "ticks": ""
            },
            "colorscale": [
             [
              0,
              "#0d0887"
             ],
             [
              0.1111111111111111,
              "#46039f"
             ],
             [
              0.2222222222222222,
              "#7201a8"
             ],
             [
              0.3333333333333333,
              "#9c179e"
             ],
             [
              0.4444444444444444,
              "#bd3786"
             ],
             [
              0.5555555555555556,
              "#d8576b"
             ],
             [
              0.6666666666666666,
              "#ed7953"
             ],
             [
              0.7777777777777778,
              "#fb9f3a"
             ],
             [
              0.8888888888888888,
              "#fdca26"
             ],
             [
              1,
              "#f0f921"
             ]
            ],
            "type": "heatmap"
           }
          ],
          "heatmapgl": [
           {
            "colorbar": {
             "outlinewidth": 0,
             "ticks": ""
            },
            "colorscale": [
             [
              0,
              "#0d0887"
             ],
             [
              0.1111111111111111,
              "#46039f"
             ],
             [
              0.2222222222222222,
              "#7201a8"
             ],
             [
              0.3333333333333333,
              "#9c179e"
             ],
             [
              0.4444444444444444,
              "#bd3786"
             ],
             [
              0.5555555555555556,
              "#d8576b"
             ],
             [
              0.6666666666666666,
              "#ed7953"
             ],
             [
              0.7777777777777778,
              "#fb9f3a"
             ],
             [
              0.8888888888888888,
              "#fdca26"
             ],
             [
              1,
              "#f0f921"
             ]
            ],
            "type": "heatmapgl"
           }
          ],
          "histogram": [
           {
            "marker": {
             "pattern": {
              "fillmode": "overlay",
              "size": 10,
              "solidity": 0.2
             }
            },
            "type": "histogram"
           }
          ],
          "histogram2d": [
           {
            "colorbar": {
             "outlinewidth": 0,
             "ticks": ""
            },
            "colorscale": [
             [
              0,
              "#0d0887"
             ],
             [
              0.1111111111111111,
              "#46039f"
             ],
             [
              0.2222222222222222,
              "#7201a8"
             ],
             [
              0.3333333333333333,
              "#9c179e"
             ],
             [
              0.4444444444444444,
              "#bd3786"
             ],
             [
              0.5555555555555556,
              "#d8576b"
             ],
             [
              0.6666666666666666,
              "#ed7953"
             ],
             [
              0.7777777777777778,
              "#fb9f3a"
             ],
             [
              0.8888888888888888,
              "#fdca26"
             ],
             [
              1,
              "#f0f921"
             ]
            ],
            "type": "histogram2d"
           }
          ],
          "histogram2dcontour": [
           {
            "colorbar": {
             "outlinewidth": 0,
             "ticks": ""
            },
            "colorscale": [
             [
              0,
              "#0d0887"
             ],
             [
              0.1111111111111111,
              "#46039f"
             ],
             [
              0.2222222222222222,
              "#7201a8"
             ],
             [
              0.3333333333333333,
              "#9c179e"
             ],
             [
              0.4444444444444444,
              "#bd3786"
             ],
             [
              0.5555555555555556,
              "#d8576b"
             ],
             [
              0.6666666666666666,
              "#ed7953"
             ],
             [
              0.7777777777777778,
              "#fb9f3a"
             ],
             [
              0.8888888888888888,
              "#fdca26"
             ],
             [
              1,
              "#f0f921"
             ]
            ],
            "type": "histogram2dcontour"
           }
          ],
          "mesh3d": [
           {
            "colorbar": {
             "outlinewidth": 0,
             "ticks": ""
            },
            "type": "mesh3d"
           }
          ],
          "parcoords": [
           {
            "line": {
             "colorbar": {
              "outlinewidth": 0,
              "ticks": ""
             }
            },
            "type": "parcoords"
           }
          ],
          "pie": [
           {
            "automargin": true,
            "type": "pie"
           }
          ],
          "scatter": [
           {
            "fillpattern": {
             "fillmode": "overlay",
             "size": 10,
             "solidity": 0.2
            },
            "type": "scatter"
           }
          ],
          "scatter3d": [
           {
            "line": {
             "colorbar": {
              "outlinewidth": 0,
              "ticks": ""
             }
            },
            "marker": {
             "colorbar": {
              "outlinewidth": 0,
              "ticks": ""
             }
            },
            "type": "scatter3d"
           }
          ],
          "scattercarpet": [
           {
            "marker": {
             "colorbar": {
              "outlinewidth": 0,
              "ticks": ""
             }
            },
            "type": "scattercarpet"
           }
          ],
          "scattergeo": [
           {
            "marker": {
             "colorbar": {
              "outlinewidth": 0,
              "ticks": ""
             }
            },
            "type": "scattergeo"
           }
          ],
          "scattergl": [
           {
            "marker": {
             "colorbar": {
              "outlinewidth": 0,
              "ticks": ""
             }
            },
            "type": "scattergl"
           }
          ],
          "scattermapbox": [
           {
            "marker": {
             "colorbar": {
              "outlinewidth": 0,
              "ticks": ""
             }
            },
            "type": "scattermapbox"
           }
          ],
          "scatterpolar": [
           {
            "marker": {
             "colorbar": {
              "outlinewidth": 0,
              "ticks": ""
             }
            },
            "type": "scatterpolar"
           }
          ],
          "scatterpolargl": [
           {
            "marker": {
             "colorbar": {
              "outlinewidth": 0,
              "ticks": ""
             }
            },
            "type": "scatterpolargl"
           }
          ],
          "scatterternary": [
           {
            "marker": {
             "colorbar": {
              "outlinewidth": 0,
              "ticks": ""
             }
            },
            "type": "scatterternary"
           }
          ],
          "surface": [
           {
            "colorbar": {
             "outlinewidth": 0,
             "ticks": ""
            },
            "colorscale": [
             [
              0,
              "#0d0887"
             ],
             [
              0.1111111111111111,
              "#46039f"
             ],
             [
              0.2222222222222222,
              "#7201a8"
             ],
             [
              0.3333333333333333,
              "#9c179e"
             ],
             [
              0.4444444444444444,
              "#bd3786"
             ],
             [
              0.5555555555555556,
              "#d8576b"
             ],
             [
              0.6666666666666666,
              "#ed7953"
             ],
             [
              0.7777777777777778,
              "#fb9f3a"
             ],
             [
              0.8888888888888888,
              "#fdca26"
             ],
             [
              1,
              "#f0f921"
             ]
            ],
            "type": "surface"
           }
          ],
          "table": [
           {
            "cells": {
             "fill": {
              "color": "#EBF0F8"
             },
             "line": {
              "color": "white"
             }
            },
            "header": {
             "fill": {
              "color": "#C8D4E3"
             },
             "line": {
              "color": "white"
             }
            },
            "type": "table"
           }
          ]
         },
         "layout": {
          "annotationdefaults": {
           "arrowcolor": "#2a3f5f",
           "arrowhead": 0,
           "arrowwidth": 1
          },
          "autotypenumbers": "strict",
          "coloraxis": {
           "colorbar": {
            "outlinewidth": 0,
            "ticks": ""
           }
          },
          "colorscale": {
           "diverging": [
            [
             0,
             "#8e0152"
            ],
            [
             0.1,
             "#c51b7d"
            ],
            [
             0.2,
             "#de77ae"
            ],
            [
             0.3,
             "#f1b6da"
            ],
            [
             0.4,
             "#fde0ef"
            ],
            [
             0.5,
             "#f7f7f7"
            ],
            [
             0.6,
             "#e6f5d0"
            ],
            [
             0.7,
             "#b8e186"
            ],
            [
             0.8,
             "#7fbc41"
            ],
            [
             0.9,
             "#4d9221"
            ],
            [
             1,
             "#276419"
            ]
           ],
           "sequential": [
            [
             0,
             "#0d0887"
            ],
            [
             0.1111111111111111,
             "#46039f"
            ],
            [
             0.2222222222222222,
             "#7201a8"
            ],
            [
             0.3333333333333333,
             "#9c179e"
            ],
            [
             0.4444444444444444,
             "#bd3786"
            ],
            [
             0.5555555555555556,
             "#d8576b"
            ],
            [
             0.6666666666666666,
             "#ed7953"
            ],
            [
             0.7777777777777778,
             "#fb9f3a"
            ],
            [
             0.8888888888888888,
             "#fdca26"
            ],
            [
             1,
             "#f0f921"
            ]
           ],
           "sequentialminus": [
            [
             0,
             "#0d0887"
            ],
            [
             0.1111111111111111,
             "#46039f"
            ],
            [
             0.2222222222222222,
             "#7201a8"
            ],
            [
             0.3333333333333333,
             "#9c179e"
            ],
            [
             0.4444444444444444,
             "#bd3786"
            ],
            [
             0.5555555555555556,
             "#d8576b"
            ],
            [
             0.6666666666666666,
             "#ed7953"
            ],
            [
             0.7777777777777778,
             "#fb9f3a"
            ],
            [
             0.8888888888888888,
             "#fdca26"
            ],
            [
             1,
             "#f0f921"
            ]
           ]
          },
          "colorway": [
           "#636efa",
           "#EF553B",
           "#00cc96",
           "#ab63fa",
           "#FFA15A",
           "#19d3f3",
           "#FF6692",
           "#B6E880",
           "#FF97FF",
           "#FECB52"
          ],
          "font": {
           "color": "#2a3f5f"
          },
          "geo": {
           "bgcolor": "white",
           "lakecolor": "white",
           "landcolor": "#E5ECF6",
           "showlakes": true,
           "showland": true,
           "subunitcolor": "white"
          },
          "hoverlabel": {
           "align": "left"
          },
          "hovermode": "closest",
          "mapbox": {
           "style": "light"
          },
          "paper_bgcolor": "white",
          "plot_bgcolor": "#E5ECF6",
          "polar": {
           "angularaxis": {
            "gridcolor": "white",
            "linecolor": "white",
            "ticks": ""
           },
           "bgcolor": "#E5ECF6",
           "radialaxis": {
            "gridcolor": "white",
            "linecolor": "white",
            "ticks": ""
           }
          },
          "scene": {
           "xaxis": {
            "backgroundcolor": "#E5ECF6",
            "gridcolor": "white",
            "gridwidth": 2,
            "linecolor": "white",
            "showbackground": true,
            "ticks": "",
            "zerolinecolor": "white"
           },
           "yaxis": {
            "backgroundcolor": "#E5ECF6",
            "gridcolor": "white",
            "gridwidth": 2,
            "linecolor": "white",
            "showbackground": true,
            "ticks": "",
            "zerolinecolor": "white"
           },
           "zaxis": {
            "backgroundcolor": "#E5ECF6",
            "gridcolor": "white",
            "gridwidth": 2,
            "linecolor": "white",
            "showbackground": true,
            "ticks": "",
            "zerolinecolor": "white"
           }
          },
          "shapedefaults": {
           "line": {
            "color": "#2a3f5f"
           }
          },
          "ternary": {
           "aaxis": {
            "gridcolor": "white",
            "linecolor": "white",
            "ticks": ""
           },
           "baxis": {
            "gridcolor": "white",
            "linecolor": "white",
            "ticks": ""
           },
           "bgcolor": "#E5ECF6",
           "caxis": {
            "gridcolor": "white",
            "linecolor": "white",
            "ticks": ""
           }
          },
          "title": {
           "x": 0.05
          },
          "xaxis": {
           "automargin": true,
           "gridcolor": "white",
           "linecolor": "white",
           "ticks": "",
           "title": {
            "standoff": 15
           },
           "zerolinecolor": "white",
           "zerolinewidth": 2
          },
          "yaxis": {
           "automargin": true,
           "gridcolor": "white",
           "linecolor": "white",
           "ticks": "",
           "title": {
            "standoff": 15
           },
           "zerolinecolor": "white",
           "zerolinewidth": 2
          }
         }
        },
        "title": {
         "text": "Relation between Criminality and GDP"
        },
        "xaxis": {
         "anchor": "y",
         "domain": [
          0,
          1
         ],
         "title": {
          "text": "GDP, Per Capita GDP - US Dollars"
         },
         "type": "log"
        },
        "yaxis": {
         "anchor": "x",
         "domain": [
          0,
          1
         ],
         "title": {
          "text": "Criminality"
         }
        }
       }
      }
     },
     "metadata": {},
     "output_type": "display_data"
    }
   ],
   "source": [
    "# scatter chart of criminality and logarithmic gdp\n",
    "fig = px.scatter(merged_data, \n",
    "                 y=\"Criminality\", # defining y-axis\n",
    "                 x=gdp_column, # defining x-axis\n",
    "                 log_x= True, # logarithmic gdp\n",
    "                 color=\"Continent\", # coloring dots by continent\n",
    "                 hover_name=\"Country\", # value while hovering\n",
    "                 title=\"Relation between Criminality and GDP\") #title\n",
    "\n",
    "fig.show()"
   ]
  },
  {
   "cell_type": "markdown",
   "metadata": {},
   "source": [
    "### 3.3.2 Correlation matrix"
   ]
  },
  {
   "cell_type": "code",
   "execution_count": 17,
   "metadata": {},
   "outputs": [
    {
     "data": {
      "application/vnd.plotly.v1+json": {
       "config": {
        "plotlyServerURL": "https://plot.ly"
       },
       "data": [
        {
         "coloraxis": "coloraxis",
         "hovertemplate": "x: %{x}<br>y: %{y}<br>color: %{z}<extra></extra>",
         "name": "0",
         "texttemplate": "%{z:True}",
         "type": "heatmap",
         "x": [
          "Criminality",
          "Resilience",
          "GDP, Per Capita GDP - US Dollars"
         ],
         "xaxis": "x",
         "y": [
          "Criminality",
          "Resilience",
          "GDP, Per Capita GDP - US Dollars"
         ],
         "yaxis": "y",
         "z": [
          [
           1,
           -0.46,
           -0.37
          ],
          [
           -0.46,
           1,
           0.73
          ],
          [
           -0.37,
           0.73,
           1
          ]
         ]
        }
       ],
       "layout": {
        "coloraxis": {
         "cmax": 1,
         "cmin": -1,
         "colorscale": [
          [
           0,
           "rgb(103,0,31)"
          ],
          [
           0.1,
           "rgb(178,24,43)"
          ],
          [
           0.2,
           "rgb(214,96,77)"
          ],
          [
           0.3,
           "rgb(244,165,130)"
          ],
          [
           0.4,
           "rgb(253,219,199)"
          ],
          [
           0.5,
           "rgb(247,247,247)"
          ],
          [
           0.6,
           "rgb(209,229,240)"
          ],
          [
           0.7,
           "rgb(146,197,222)"
          ],
          [
           0.8,
           "rgb(67,147,195)"
          ],
          [
           0.9,
           "rgb(33,102,172)"
          ],
          [
           1,
           "rgb(5,48,97)"
          ]
         ]
        },
        "template": {
         "data": {
          "bar": [
           {
            "error_x": {
             "color": "#2a3f5f"
            },
            "error_y": {
             "color": "#2a3f5f"
            },
            "marker": {
             "line": {
              "color": "#E5ECF6",
              "width": 0.5
             },
             "pattern": {
              "fillmode": "overlay",
              "size": 10,
              "solidity": 0.2
             }
            },
            "type": "bar"
           }
          ],
          "barpolar": [
           {
            "marker": {
             "line": {
              "color": "#E5ECF6",
              "width": 0.5
             },
             "pattern": {
              "fillmode": "overlay",
              "size": 10,
              "solidity": 0.2
             }
            },
            "type": "barpolar"
           }
          ],
          "carpet": [
           {
            "aaxis": {
             "endlinecolor": "#2a3f5f",
             "gridcolor": "white",
             "linecolor": "white",
             "minorgridcolor": "white",
             "startlinecolor": "#2a3f5f"
            },
            "baxis": {
             "endlinecolor": "#2a3f5f",
             "gridcolor": "white",
             "linecolor": "white",
             "minorgridcolor": "white",
             "startlinecolor": "#2a3f5f"
            },
            "type": "carpet"
           }
          ],
          "choropleth": [
           {
            "colorbar": {
             "outlinewidth": 0,
             "ticks": ""
            },
            "type": "choropleth"
           }
          ],
          "contour": [
           {
            "colorbar": {
             "outlinewidth": 0,
             "ticks": ""
            },
            "colorscale": [
             [
              0,
              "#0d0887"
             ],
             [
              0.1111111111111111,
              "#46039f"
             ],
             [
              0.2222222222222222,
              "#7201a8"
             ],
             [
              0.3333333333333333,
              "#9c179e"
             ],
             [
              0.4444444444444444,
              "#bd3786"
             ],
             [
              0.5555555555555556,
              "#d8576b"
             ],
             [
              0.6666666666666666,
              "#ed7953"
             ],
             [
              0.7777777777777778,
              "#fb9f3a"
             ],
             [
              0.8888888888888888,
              "#fdca26"
             ],
             [
              1,
              "#f0f921"
             ]
            ],
            "type": "contour"
           }
          ],
          "contourcarpet": [
           {
            "colorbar": {
             "outlinewidth": 0,
             "ticks": ""
            },
            "type": "contourcarpet"
           }
          ],
          "heatmap": [
           {
            "colorbar": {
             "outlinewidth": 0,
             "ticks": ""
            },
            "colorscale": [
             [
              0,
              "#0d0887"
             ],
             [
              0.1111111111111111,
              "#46039f"
             ],
             [
              0.2222222222222222,
              "#7201a8"
             ],
             [
              0.3333333333333333,
              "#9c179e"
             ],
             [
              0.4444444444444444,
              "#bd3786"
             ],
             [
              0.5555555555555556,
              "#d8576b"
             ],
             [
              0.6666666666666666,
              "#ed7953"
             ],
             [
              0.7777777777777778,
              "#fb9f3a"
             ],
             [
              0.8888888888888888,
              "#fdca26"
             ],
             [
              1,
              "#f0f921"
             ]
            ],
            "type": "heatmap"
           }
          ],
          "heatmapgl": [
           {
            "colorbar": {
             "outlinewidth": 0,
             "ticks": ""
            },
            "colorscale": [
             [
              0,
              "#0d0887"
             ],
             [
              0.1111111111111111,
              "#46039f"
             ],
             [
              0.2222222222222222,
              "#7201a8"
             ],
             [
              0.3333333333333333,
              "#9c179e"
             ],
             [
              0.4444444444444444,
              "#bd3786"
             ],
             [
              0.5555555555555556,
              "#d8576b"
             ],
             [
              0.6666666666666666,
              "#ed7953"
             ],
             [
              0.7777777777777778,
              "#fb9f3a"
             ],
             [
              0.8888888888888888,
              "#fdca26"
             ],
             [
              1,
              "#f0f921"
             ]
            ],
            "type": "heatmapgl"
           }
          ],
          "histogram": [
           {
            "marker": {
             "pattern": {
              "fillmode": "overlay",
              "size": 10,
              "solidity": 0.2
             }
            },
            "type": "histogram"
           }
          ],
          "histogram2d": [
           {
            "colorbar": {
             "outlinewidth": 0,
             "ticks": ""
            },
            "colorscale": [
             [
              0,
              "#0d0887"
             ],
             [
              0.1111111111111111,
              "#46039f"
             ],
             [
              0.2222222222222222,
              "#7201a8"
             ],
             [
              0.3333333333333333,
              "#9c179e"
             ],
             [
              0.4444444444444444,
              "#bd3786"
             ],
             [
              0.5555555555555556,
              "#d8576b"
             ],
             [
              0.6666666666666666,
              "#ed7953"
             ],
             [
              0.7777777777777778,
              "#fb9f3a"
             ],
             [
              0.8888888888888888,
              "#fdca26"
             ],
             [
              1,
              "#f0f921"
             ]
            ],
            "type": "histogram2d"
           }
          ],
          "histogram2dcontour": [
           {
            "colorbar": {
             "outlinewidth": 0,
             "ticks": ""
            },
            "colorscale": [
             [
              0,
              "#0d0887"
             ],
             [
              0.1111111111111111,
              "#46039f"
             ],
             [
              0.2222222222222222,
              "#7201a8"
             ],
             [
              0.3333333333333333,
              "#9c179e"
             ],
             [
              0.4444444444444444,
              "#bd3786"
             ],
             [
              0.5555555555555556,
              "#d8576b"
             ],
             [
              0.6666666666666666,
              "#ed7953"
             ],
             [
              0.7777777777777778,
              "#fb9f3a"
             ],
             [
              0.8888888888888888,
              "#fdca26"
             ],
             [
              1,
              "#f0f921"
             ]
            ],
            "type": "histogram2dcontour"
           }
          ],
          "mesh3d": [
           {
            "colorbar": {
             "outlinewidth": 0,
             "ticks": ""
            },
            "type": "mesh3d"
           }
          ],
          "parcoords": [
           {
            "line": {
             "colorbar": {
              "outlinewidth": 0,
              "ticks": ""
             }
            },
            "type": "parcoords"
           }
          ],
          "pie": [
           {
            "automargin": true,
            "type": "pie"
           }
          ],
          "scatter": [
           {
            "fillpattern": {
             "fillmode": "overlay",
             "size": 10,
             "solidity": 0.2
            },
            "type": "scatter"
           }
          ],
          "scatter3d": [
           {
            "line": {
             "colorbar": {
              "outlinewidth": 0,
              "ticks": ""
             }
            },
            "marker": {
             "colorbar": {
              "outlinewidth": 0,
              "ticks": ""
             }
            },
            "type": "scatter3d"
           }
          ],
          "scattercarpet": [
           {
            "marker": {
             "colorbar": {
              "outlinewidth": 0,
              "ticks": ""
             }
            },
            "type": "scattercarpet"
           }
          ],
          "scattergeo": [
           {
            "marker": {
             "colorbar": {
              "outlinewidth": 0,
              "ticks": ""
             }
            },
            "type": "scattergeo"
           }
          ],
          "scattergl": [
           {
            "marker": {
             "colorbar": {
              "outlinewidth": 0,
              "ticks": ""
             }
            },
            "type": "scattergl"
           }
          ],
          "scattermapbox": [
           {
            "marker": {
             "colorbar": {
              "outlinewidth": 0,
              "ticks": ""
             }
            },
            "type": "scattermapbox"
           }
          ],
          "scatterpolar": [
           {
            "marker": {
             "colorbar": {
              "outlinewidth": 0,
              "ticks": ""
             }
            },
            "type": "scatterpolar"
           }
          ],
          "scatterpolargl": [
           {
            "marker": {
             "colorbar": {
              "outlinewidth": 0,
              "ticks": ""
             }
            },
            "type": "scatterpolargl"
           }
          ],
          "scatterternary": [
           {
            "marker": {
             "colorbar": {
              "outlinewidth": 0,
              "ticks": ""
             }
            },
            "type": "scatterternary"
           }
          ],
          "surface": [
           {
            "colorbar": {
             "outlinewidth": 0,
             "ticks": ""
            },
            "colorscale": [
             [
              0,
              "#0d0887"
             ],
             [
              0.1111111111111111,
              "#46039f"
             ],
             [
              0.2222222222222222,
              "#7201a8"
             ],
             [
              0.3333333333333333,
              "#9c179e"
             ],
             [
              0.4444444444444444,
              "#bd3786"
             ],
             [
              0.5555555555555556,
              "#d8576b"
             ],
             [
              0.6666666666666666,
              "#ed7953"
             ],
             [
              0.7777777777777778,
              "#fb9f3a"
             ],
             [
              0.8888888888888888,
              "#fdca26"
             ],
             [
              1,
              "#f0f921"
             ]
            ],
            "type": "surface"
           }
          ],
          "table": [
           {
            "cells": {
             "fill": {
              "color": "#EBF0F8"
             },
             "line": {
              "color": "white"
             }
            },
            "header": {
             "fill": {
              "color": "#C8D4E3"
             },
             "line": {
              "color": "white"
             }
            },
            "type": "table"
           }
          ]
         },
         "layout": {
          "annotationdefaults": {
           "arrowcolor": "#2a3f5f",
           "arrowhead": 0,
           "arrowwidth": 1
          },
          "autotypenumbers": "strict",
          "coloraxis": {
           "colorbar": {
            "outlinewidth": 0,
            "ticks": ""
           }
          },
          "colorscale": {
           "diverging": [
            [
             0,
             "#8e0152"
            ],
            [
             0.1,
             "#c51b7d"
            ],
            [
             0.2,
             "#de77ae"
            ],
            [
             0.3,
             "#f1b6da"
            ],
            [
             0.4,
             "#fde0ef"
            ],
            [
             0.5,
             "#f7f7f7"
            ],
            [
             0.6,
             "#e6f5d0"
            ],
            [
             0.7,
             "#b8e186"
            ],
            [
             0.8,
             "#7fbc41"
            ],
            [
             0.9,
             "#4d9221"
            ],
            [
             1,
             "#276419"
            ]
           ],
           "sequential": [
            [
             0,
             "#0d0887"
            ],
            [
             0.1111111111111111,
             "#46039f"
            ],
            [
             0.2222222222222222,
             "#7201a8"
            ],
            [
             0.3333333333333333,
             "#9c179e"
            ],
            [
             0.4444444444444444,
             "#bd3786"
            ],
            [
             0.5555555555555556,
             "#d8576b"
            ],
            [
             0.6666666666666666,
             "#ed7953"
            ],
            [
             0.7777777777777778,
             "#fb9f3a"
            ],
            [
             0.8888888888888888,
             "#fdca26"
            ],
            [
             1,
             "#f0f921"
            ]
           ],
           "sequentialminus": [
            [
             0,
             "#0d0887"
            ],
            [
             0.1111111111111111,
             "#46039f"
            ],
            [
             0.2222222222222222,
             "#7201a8"
            ],
            [
             0.3333333333333333,
             "#9c179e"
            ],
            [
             0.4444444444444444,
             "#bd3786"
            ],
            [
             0.5555555555555556,
             "#d8576b"
            ],
            [
             0.6666666666666666,
             "#ed7953"
            ],
            [
             0.7777777777777778,
             "#fb9f3a"
            ],
            [
             0.8888888888888888,
             "#fdca26"
            ],
            [
             1,
             "#f0f921"
            ]
           ]
          },
          "colorway": [
           "#636efa",
           "#EF553B",
           "#00cc96",
           "#ab63fa",
           "#FFA15A",
           "#19d3f3",
           "#FF6692",
           "#B6E880",
           "#FF97FF",
           "#FECB52"
          ],
          "font": {
           "color": "#2a3f5f"
          },
          "geo": {
           "bgcolor": "white",
           "lakecolor": "white",
           "landcolor": "#E5ECF6",
           "showlakes": true,
           "showland": true,
           "subunitcolor": "white"
          },
          "hoverlabel": {
           "align": "left"
          },
          "hovermode": "closest",
          "mapbox": {
           "style": "light"
          },
          "paper_bgcolor": "white",
          "plot_bgcolor": "#E5ECF6",
          "polar": {
           "angularaxis": {
            "gridcolor": "white",
            "linecolor": "white",
            "ticks": ""
           },
           "bgcolor": "#E5ECF6",
           "radialaxis": {
            "gridcolor": "white",
            "linecolor": "white",
            "ticks": ""
           }
          },
          "scene": {
           "xaxis": {
            "backgroundcolor": "#E5ECF6",
            "gridcolor": "white",
            "gridwidth": 2,
            "linecolor": "white",
            "showbackground": true,
            "ticks": "",
            "zerolinecolor": "white"
           },
           "yaxis": {
            "backgroundcolor": "#E5ECF6",
            "gridcolor": "white",
            "gridwidth": 2,
            "linecolor": "white",
            "showbackground": true,
            "ticks": "",
            "zerolinecolor": "white"
           },
           "zaxis": {
            "backgroundcolor": "#E5ECF6",
            "gridcolor": "white",
            "gridwidth": 2,
            "linecolor": "white",
            "showbackground": true,
            "ticks": "",
            "zerolinecolor": "white"
           }
          },
          "shapedefaults": {
           "line": {
            "color": "#2a3f5f"
           }
          },
          "ternary": {
           "aaxis": {
            "gridcolor": "white",
            "linecolor": "white",
            "ticks": ""
           },
           "baxis": {
            "gridcolor": "white",
            "linecolor": "white",
            "ticks": ""
           },
           "bgcolor": "#E5ECF6",
           "caxis": {
            "gridcolor": "white",
            "linecolor": "white",
            "ticks": ""
           }
          },
          "title": {
           "x": 0.05
          },
          "xaxis": {
           "automargin": true,
           "gridcolor": "white",
           "linecolor": "white",
           "ticks": "",
           "title": {
            "standoff": 15
           },
           "zerolinecolor": "white",
           "zerolinewidth": 2
          },
          "yaxis": {
           "automargin": true,
           "gridcolor": "white",
           "linecolor": "white",
           "ticks": "",
           "title": {
            "standoff": 15
           },
           "zerolinecolor": "white",
           "zerolinewidth": 2
          }
         }
        },
        "title": {
         "text": "Correlation matrix"
        },
        "xaxis": {
         "anchor": "y",
         "constrain": "domain",
         "domain": [
          0,
          1
         ],
         "scaleanchor": "y"
        },
        "yaxis": {
         "anchor": "x",
         "autorange": "reversed",
         "constrain": "domain",
         "domain": [
          0,
          1
         ]
        }
       }
      }
     },
     "metadata": {},
     "output_type": "display_data"
    }
   ],
   "source": [
    "# selecting columns\n",
    "columns = [\"Criminality\", \"Resilience\", gdp_column]\n",
    "# correlation by spearman (because index ordinal)\n",
    "correlation_matrix = merged_data[columns].corr(method=\"spearman\").round(2)\n",
    "\n",
    "\n",
    "# creating heatmap\n",
    "fig = px.imshow(correlation_matrix,\n",
    "                x=correlation_matrix.columns,\n",
    "                y=correlation_matrix.columns,\n",
    "                color_continuous_scale='RdBu',\n",
    "                range_color=[-1,1],\n",
    "                title='Correlation matrix',\n",
    "                text_auto='True')\n",
    "fig.show()"
   ]
  },
  {
   "cell_type": "markdown",
   "metadata": {},
   "source": [
    "## 4. Conclusion"
   ]
  },
  {
   "cell_type": "markdown",
   "metadata": {},
   "source": [
    "* There is a moderate negative correlation between organized crime and gross domestic product with r = -0.37\n",
    "    * Means: Countries with higher economic performance tend to have low organized crime\n",
    "* There is a strong positive correlation between crime resistance and gross domestic product with r = 0.73\n",
    "    * Means: Countries with higher economic performance offer more resistance to organized crime\n",
    "* There is a more moderate negative correlation between organized crime and resistance with r = -0.46\n",
    "    * Means: Countries with a lot of resistance tend to have low organised crime"
   ]
  }
 ],
 "metadata": {
  "kernelspec": {
   "display_name": "Python 3",
   "language": "python",
   "name": "python3"
  },
  "language_info": {
   "codemirror_mode": {
    "name": "ipython",
    "version": 3
   },
   "file_extension": ".py",
   "mimetype": "text/x-python",
   "name": "python",
   "nbconvert_exporter": "python",
   "pygments_lexer": "ipython3",
   "version": "3.10.11"
  }
 },
 "nbformat": 4,
 "nbformat_minor": 2
}
